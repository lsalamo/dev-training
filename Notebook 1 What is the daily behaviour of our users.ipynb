{
 "cells": [
  {
   "cell_type": "markdown",
   "metadata": {},
   "source": [
    "## Extracting patterns on daily user behaviour\n",
    "\n",
    "We are going to play with the following dataset\n",
    "\n",
    "1.- **Dataset name to request access:** Insights-FactLayer-Leads\n",
    "\n",
    "2.- **Athena (SQLaaS):** {provider}_databox.insights_sessions_fact_layer_1d\n",
    "\n",
    "3.- **S3 path** schibsted-spt-common-prod/yellow/pulse-simple/version=1-alpha/*/client=${provider}\n",
    "\n",
    "\n",
    "[Athena Query](https://docs.aws.amazon.com/athena/latest/ug/functions-operators-reference-section.html) \n"
   ]
  },
  {
   "cell_type": "code",
   "execution_count": null,
   "metadata": {
    "collapsed": false
   },
   "outputs": [],
   "source": [
    "# Needed packages\n",
    "from pyathena import connect\n",
    "import pandas as pd\n",
    "import os"
   ]
  },
  {
   "cell_type": "code",
   "execution_count": null,
   "metadata": {
    "collapsed": true
   },
   "outputs": [],
   "source": [
    "from getpass import getpass\n",
    "access_key = getpass(prompt=\"Enter your access key to databox: \")\n",
    "secret_key = getpass(prompt=\"Enter your secret to databox: \")\n",
    "\n",
    "# Some parameters (another different way to extract the credential)\n",
    "user = \"maria.pelaez@schibsted.com/\"\n",
    "provider ='avitoma'\n",
    "\n",
    "# Doing the connection\n",
    "conn = connect(aws_access_key_id=access_key,\n",
    "               aws_secret_access_key=secret_key,\n",
    "               s3_staging_dir=\"s3://schibsted-spt-common-dev/user-areas/\"+ user,\n",
    "               region_name=\"eu-west-1\")"
   ]
  },
  {
   "cell_type": "markdown",
   "metadata": {},
   "source": [
    "## Step 0: What information is available in this dataset?"
   ]
  },
  {
   "cell_type": "code",
   "execution_count": null,
   "metadata": {
    "collapsed": false
   },
   "outputs": [],
   "source": [
    "describe_events = \"\"\"\n",
    "SELECT * FROM {}_databox.yellow_pulse_simple_1d LIMIT 1\n",
    "\"\"\"\n",
    "describe_df = pd.read_sql(describe_events.format(provider))\n",
    "describe_df.dtypes()"
   ]
  },
  {
   "cell_type": "code",
   "execution_count": null,
   "metadata": {
    "collapsed": false
   },
   "outputs": [],
   "source": [
    "# Doing a simple query of the events in one hour\n",
    "query_events = \"\"\"\n",
    "SELECT\n",
    "  category,\n",
    "  name,\n",
    "  objectid,\n",
    "  objecttype,\n",
    "  type,\n",
    "  environmentid,\n",
    "  devicetype,\n",
    "  providerproducttype,\n",
    "  isloggedin,\n",
    "  \"hour\"\n",
    "FROM\n",
    "  {}_databox.yellow_pulse_simple_1d\n",
    "WHERE \n",
    " \"hour\" = 20\n",
    "LIMIT 2000\n",
    "\"\"\"\n",
    "df_events = pd.read_sql(query_events.format(provider), conn)"
   ]
  },
  {
   "cell_type": "markdown",
   "metadata": {},
   "source": [
    "## What are we going to learn about Python?\n",
    "\n",
    "We are mainly going to work with the following packages:\n",
    "    \n",
    "1. [pandas](https://pandas.pydata.org/pandas-docs/stable/) \n",
    "\n",
    "This is a package providing fast, flexible, and expressive data structures designed to make working with “relational” or “labeled” \n",
    "data both easy and intuitive. \n",
    "It aims to be the fundamental high-level building block for doing practical, \n",
    "real world data analysis in Python. Additionally, it has the broader goal of becoming the most \n",
    "powerful and flexible open source data analysis / manipulation tool available in any language. \n",
    "It is already well on its way towards this goal.\n",
    "\n",
    "[cheat sheet pandas](http://datacamp-community.s3.amazonaws.com/9f0f2ae1-8bd8-4302-a67b-e17f3059d9e8)\n",
    "\n",
    "\n",
    "2. [numpy](http://www.numpy.org/)\n",
    "\n",
    "NumPy is the fundamental package for scientific computing with Python. It contains among other things:\n",
    "\n",
    "- a powerful N-dimensional array object\n",
    "\n",
    "- sophisticated (broadcasting) functions\n",
    "\n",
    "- tools for integrating C/C++ and Fortran code useful linear algebra, Fourier transform, and random number capabilities\n",
    "\n",
    "[cheat sheet numpy](http://datacamp-community.s3.amazonaws.com/e9f83f72-a81b-42c7-af44-4e35b48b20b7)\n",
    "\n",
    "\n",
    "3. [matplotlib](https://matplotlib.org/)\n",
    "\n",
    "Matplotlib is a Python 2D plotting library which produces publication quality figures in a variety of hardcopy formats and interactive environments across platforms. Matplotlib can be used in Python scripts, the Python and IPython shells, the Jupyter notebook, web application servers, and four graphical user interface toolkits.\n",
    "\n",
    "[cheat sheet matplotlib](http://datacamp-community.s3.amazonaws.com/28b8210c-60cc-4f13-b0b4-5b4f2ad4790b)\n"
   ]
  },
  {
   "cell_type": "markdown",
   "metadata": {},
   "source": [
    "### Exploration of our DataFrame\n",
    "\n",
    "*head(),tail(),shape(),columns, describe(),dtypes()*\n",
    "\n",
    "*selection one row, one column, a subdataframe*"
   ]
  },
  {
   "cell_type": "code",
   "execution_count": null,
   "metadata": {
    "collapsed": false
   },
   "outputs": [],
   "source": [
    "df_events.head(2)"
   ]
  },
  {
   "cell_type": "code",
   "execution_count": null,
   "metadata": {
    "collapsed": false
   },
   "outputs": [],
   "source": [
    "df_events.tail(2)"
   ]
  },
  {
   "cell_type": "code",
   "execution_count": null,
   "metadata": {
    "collapsed": false
   },
   "outputs": [],
   "source": [
    "df_events.shape"
   ]
  },
  {
   "cell_type": "code",
   "execution_count": null,
   "metadata": {
    "collapsed": false
   },
   "outputs": [],
   "source": [
    "df_events.dtypes"
   ]
  },
  {
   "cell_type": "code",
   "execution_count": null,
   "metadata": {
    "collapsed": false
   },
   "outputs": [],
   "source": [
    "df_events['category'][0:10]"
   ]
  },
  {
   "cell_type": "code",
   "execution_count": null,
   "metadata": {
    "collapsed": false
   },
   "outputs": [],
   "source": [
    "df_events[df_events['type']=='View'].head(2)"
   ]
  },
  {
   "cell_type": "code",
   "execution_count": null,
   "metadata": {
    "collapsed": true
   },
   "outputs": [],
   "source": [
    "df_events['combination'] = df_events['devicetype'] + ' - ' +df_events['providerproducttype']"
   ]
  },
  {
   "cell_type": "code",
   "execution_count": null,
   "metadata": {
    "collapsed": false
   },
   "outputs": [],
   "source": [
    "df_events['combination']"
   ]
  },
  {
   "cell_type": "code",
   "execution_count": null,
   "metadata": {
    "collapsed": false
   },
   "outputs": [],
   "source": [
    "df_events['has_category'] = False\n",
    "df_events.loc[-df_events['category'].isna(),'has_category'] = True"
   ]
  },
  {
   "cell_type": "code",
   "execution_count": null,
   "metadata": {
    "collapsed": false
   },
   "outputs": [],
   "source": [
    "df_events.head(4)"
   ]
  },
  {
   "cell_type": "markdown",
   "metadata": {},
   "source": [
    "### Some countings\n",
    "*count(),unique(),nunique(),value_counts(),groupby*"
   ]
  },
  {
   "cell_type": "code",
   "execution_count": null,
   "metadata": {
    "collapsed": false
   },
   "outputs": [],
   "source": [
    "df_events['combination'].unique()"
   ]
  },
  {
   "cell_type": "code",
   "execution_count": null,
   "metadata": {
    "collapsed": false
   },
   "outputs": [],
   "source": [
    "df_events['combination'].nunique(), len(df_events['objecttype'].unique())"
   ]
  },
  {
   "cell_type": "code",
   "execution_count": null,
   "metadata": {
    "collapsed": false
   },
   "outputs": [],
   "source": [
    "df_events['combination'].value_counts()"
   ]
  },
  {
   "cell_type": "code",
   "execution_count": null,
   "metadata": {
    "collapsed": false
   },
   "outputs": [],
   "source": [
    "df_events['type'].value_counts()"
   ]
  },
  {
   "cell_type": "code",
   "execution_count": null,
   "metadata": {
    "collapsed": false
   },
   "outputs": [],
   "source": [
    "df_events['devicetype'].value_counts()"
   ]
  },
  {
   "cell_type": "code",
   "execution_count": null,
   "metadata": {
    "collapsed": false
   },
   "outputs": [],
   "source": [
    "df_events.groupby?"
   ]
  },
  {
   "cell_type": "code",
   "execution_count": null,
   "metadata": {
    "collapsed": false
   },
   "outputs": [],
   "source": [
    "df_events.groupby('devicetype').count()"
   ]
  },
  {
   "cell_type": "code",
   "execution_count": null,
   "metadata": {
    "collapsed": false
   },
   "outputs": [],
   "source": [
    "df_events.groupby('devicetype')['devicetype'].count()"
   ]
  },
  {
   "cell_type": "code",
   "execution_count": null,
   "metadata": {
    "collapsed": true
   },
   "outputs": [],
   "source": [
    "# We are going to do various aggregations at the same time using one dictionary \n",
    "dic = {'devicetype':'count','environmentid':'nunique'}"
   ]
  },
  {
   "cell_type": "code",
   "execution_count": null,
   "metadata": {
    "collapsed": false
   },
   "outputs": [],
   "source": [
    "dic"
   ]
  },
  {
   "cell_type": "code",
   "execution_count": null,
   "metadata": {
    "collapsed": false
   },
   "outputs": [],
   "source": [
    "dic['devicetype']"
   ]
  },
  {
   "cell_type": "code",
   "execution_count": null,
   "metadata": {
    "collapsed": false
   },
   "outputs": [],
   "source": [
    "dic.keys(),dic.values()"
   ]
  },
  {
   "cell_type": "code",
   "execution_count": null,
   "metadata": {
    "collapsed": false
   },
   "outputs": [],
   "source": [
    "df_events.groupby('combination').agg(dic)"
   ]
  },
  {
   "cell_type": "code",
   "execution_count": null,
   "metadata": {
    "collapsed": false
   },
   "outputs": [],
   "source": [
    "df_events.groupby('combination').agg(dic).plot()"
   ]
  },
  {
   "cell_type": "code",
   "execution_count": null,
   "metadata": {
    "collapsed": false
   },
   "outputs": [],
   "source": [
    "# If you want to visualize in jupyter notebook you need to add this line\n",
    "%matplotlib inline\n",
    "\n",
    "df_events.groupby('combination').agg(dic).plot(kind='bar')"
   ]
  },
  {
   "cell_type": "markdown",
   "metadata": {},
   "source": [
    "> Later we are going to learn how to tune a chart!"
   ]
  },
  {
   "cell_type": "markdown",
   "metadata": {},
   "source": [
    "## **EXERCISES**\n",
    "\n",
    "Which browsers are the most active - desktop, mobile or tablet?\n",
    "\n",
    "Here *most active* means those that generate the highest number of events.\n"
   ]
  },
  {
   "cell_type": "code",
   "execution_count": null,
   "metadata": {
    "collapsed": false
   },
   "outputs": [],
   "source": [
    "# Doing a simple query of the events in one hour\n",
    "query = \"\"\"\n",
    "SELECT\n",
    "  devicetype,\n",
    "  count(devicetype) as nof_events,\n",
    "  count(distinct environmentid) as nof_users\n",
    "FROM\n",
    "  avitoma_databox.yellow_pulse_simple_1d\n",
    "GROUP BY \n",
    "  devicetype\n",
    "\"\"\"\n",
    "df = pd.read_sql(query.format(provider), conn)"
   ]
  },
  {
   "cell_type": "code",
   "execution_count": null,
   "metadata": {
    "collapsed": false
   },
   "outputs": [],
   "source": [
    "df"
   ]
  },
  {
   "cell_type": "code",
   "execution_count": null,
   "metadata": {
    "collapsed": false
   },
   "outputs": [],
   "source": [
    "df_clean = df[-df['devicetype'].isna()]\n",
    "df_clean"
   ]
  },
  {
   "cell_type": "code",
   "execution_count": null,
   "metadata": {
    "collapsed": false
   },
   "outputs": [],
   "source": [
    "df['volumeEvents'] = 100*df['nof_events']/df['nof_events'].sum()\n",
    "df['volumeUsers'] = 100*df['nof_users']/df['nof_users'].sum()\n",
    "df['eventsPeruser'] = df['nof_events']/df['nof_users']"
   ]
  },
  {
   "cell_type": "code",
   "execution_count": null,
   "metadata": {
    "collapsed": false
   },
   "outputs": [],
   "source": [
    "df.sort_values('volumeUsers',ascending =False)"
   ]
  },
  {
   "cell_type": "markdown",
   "metadata": {},
   "source": [
    "# Now \n",
    "\n",
    "![](pictures/your_turn.png)\n",
    "\n"
   ]
  },
  {
   "cell_type": "markdown",
   "metadata": {},
   "source": [
    "# Run the following query\n",
    "\n",
    "Be patient! It might take a while!"
   ]
  },
  {
   "cell_type": "code",
   "execution_count": null,
   "metadata": {
    "collapsed": false
   },
   "outputs": [],
   "source": [
    "# Doing a simple query of the events in one hour\n",
    "query = \"\"\"\n",
    "SELECT\n",
    "  environmentid,\n",
    "  providerproducttype,\n",
    "  devicetype,\n",
    "  isloggedin,\n",
    "  type,\n",
    "  objecttype,\n",
    "  count(*) as nof_events\n",
    "FROM\n",
    "  {provider}_databox.yellow_pulse_simple_1d\n",
    "GROUP BY\n",
    "  environmentid,\n",
    "  providerproducttype,\n",
    "  devicetype,\n",
    "  isloggedin,\n",
    "  type,\n",
    "  objecttype\n",
    "\"\"\"\n",
    "df = pd.read_sql(query.format(provider), conn)"
   ]
  },
  {
   "cell_type": "code",
   "execution_count": null,
   "metadata": {
    "collapsed": false
   },
   "outputs": [],
   "source": [
    "df.head()"
   ]
  },
  {
   "cell_type": "markdown",
   "metadata": {},
   "source": [
    "## **Exercise 1**:\n",
    "\n",
    "Write a function (use *def*) in python to extract from the fields **devicetype** and **providerproducttype**  the platform associated to the event. The result of platform feature must be: *iOS*, *Android*, *Web* or *Undefined*\n",
    "\n",
    "Apply this function to create a new column called **platform** and answer the following questions:\n",
    "\n",
    "1.1 How many users come from each platform? \n",
    "\n",
    "1.2 What is the percentage of Listings and ClassifiedAds for every platform?\n",
    "\n",
    "\n",
    "> Please write the results in the cardboard of the site that you are studying"
   ]
  },
  {
   "cell_type": "markdown",
   "metadata": {},
   "source": [
    "## **Exercise 2**:\n",
    "\n",
    "There is a field called **isloggedin** which is states if browser was logged or not logged user\n",
    "\n",
    "2.1 What's the percentage of logged users ?\n",
    "\n",
    "> Please write the results in the cardboard of the site that you are studying"
   ]
  },
  {
   "cell_type": "markdown",
   "metadata": {},
   "source": [
    "## **Exercise 3**:\n",
    "\n",
    "If we define as:\n",
    "    \n",
    "**browser**: Active user with at least one Listing View or one Ad View in the session.\n",
    "    \n",
    "**buyer**: Active user who has *contacted* at least one Lister.\n",
    "\n",
    "To *contact* means to do one of the following actions:\n",
    "    \n",
    "Call-->PhoneContact\n",
    "\n",
    "Show-->PhoneContact\n",
    "\n",
    "Send-->Message\n",
    "\n",
    "SMS-->PhoneContact\n",
    "\n",
    "\n",
    "**lister**: Active user who has tried to publish one ad. This is refering to Create-ClassifiedAd event.\n",
    "\n",
    "\n",
    "3.1. Please compute percentage of browsers, buyers and sellers per platform?\n",
    "\n"
   ]
  },
  {
   "cell_type": "code",
   "execution_count": null,
   "metadata": {
    "collapsed": true
   },
   "outputs": [],
   "source": []
  }
 ],
 "metadata": {
  "kernelspec": {
   "display_name": "Python 3",
   "language": "python",
   "name": "python3"
  },
  "language_info": {
   "codemirror_mode": {
    "name": "ipython",
    "version": 3
   },
   "file_extension": ".py",
   "mimetype": "text/x-python",
   "name": "python",
   "nbconvert_exporter": "python",
   "pygments_lexer": "ipython3",
   "version": "3.7.0"
  }
 },
 "nbformat": 4,
 "nbformat_minor": 2
}

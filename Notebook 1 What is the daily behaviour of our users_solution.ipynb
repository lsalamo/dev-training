{
 "cells": [
  {
   "cell_type": "markdown",
   "metadata": {},
   "source": [
    "## Extracting patterns on daily user behaviour\n",
    "\n",
    "We are going to play with the following dataset\n",
    "\n",
    "1.- **Dataset name to request access:** Insights-FactLayer-Leads\n",
    "\n",
    "2.- **Athena (SQLaaS):** {provider}_databox.insights_sessions_fact_layer_1d\n",
    "\n",
    "3.- **S3 path** schibsted-spt-common-prod/yellow/pulse-simple/version=1-alpha/*/client=${provider}\n",
    "\n",
    "\n",
    "[Athena Query](https://docs.aws.amazon.com/athena/latest/ug/functions-operators-reference-section.html) \n"
   ]
  },
  {
   "cell_type": "code",
   "execution_count": 1,
   "metadata": {
    "collapsed": false
   },
   "outputs": [],
   "source": [
    "# Needed packages\n",
    "from pyathena import connect\n",
    "import pandas as pd\n",
    "import os\n",
    "import matplotlib.pyplot as plt"
   ]
  },
  {
   "cell_type": "code",
   "execution_count": 2,
   "metadata": {
    "collapsed": true
   },
   "outputs": [],
   "source": [
    "user = \"maria.pelaez@schibsted.com\"\n",
    "provider ='yapocl'"
   ]
  },
  {
   "cell_type": "code",
   "execution_count": 3,
   "metadata": {
    "collapsed": false
   },
   "outputs": [
    {
     "name": "stdout",
     "output_type": "stream",
     "text": [
      "Enter your access key to databox: ········\n",
      "Enter your secret to databox: ········\n"
     ]
    }
   ],
   "source": [
    "from getpass import getpass\n",
    "access_key = getpass(prompt=\"Enter your access key to databox: \")\n",
    "secret_key = getpass(prompt=\"Enter your secret to databox: \")\n",
    "\n",
    "# Some parameters (another different way to extract the credential)\n",
    "\n",
    "\n",
    "# Doing the connection\n",
    "conn = connect(aws_access_key_id=access_key,\n",
    "               aws_secret_access_key=secret_key,\n",
    "               s3_staging_dir=\"s3://schibsted-spt-common-dev/user-areas/\"+ user,\n",
    "               region_name=\"eu-west-1\")"
   ]
  },
  {
   "cell_type": "markdown",
   "metadata": {},
   "source": [
    "## Step 0: What information is available in this dataset?"
   ]
  },
  {
   "cell_type": "code",
   "execution_count": 4,
   "metadata": {
    "collapsed": false
   },
   "outputs": [
    {
     "data": {
      "text/plain": [
       "category               object\n",
       "name                   object\n",
       "objectlatitude         object\n",
       "objectlongitude        object\n",
       "objectid               object\n",
       "url                    object\n",
       "items                  object\n",
       "objecttype             object\n",
       "useragent              object\n",
       "providerid             object\n",
       "providerurl            object\n",
       "providerproduct        object\n",
       "providerproducttype    object\n",
       "environmentid          object\n",
       "isloggedin               bool\n",
       "jweids                 object\n",
       "screensize             object\n",
       "pageviewid             object\n",
       "sptpageviewid          object\n",
       "id                     object\n",
       "type                   object\n",
       "latitude               object\n",
       "longitude              object\n",
       "locationaccuracy       object\n",
       "locationtimestamp      object\n",
       "originurl              object\n",
       "published              object\n",
       "trackertype            object\n",
       "intent                 object\n",
       "objectintent           object\n",
       "devicetype             object\n",
       "version                object\n",
       "year                    int64\n",
       "month                   int64\n",
       "day                     int64\n",
       "hour                    int64\n",
       "gen                     int64\n",
       "client                 object\n",
       "dtype: object"
      ]
     },
     "execution_count": 4,
     "metadata": {},
     "output_type": "execute_result"
    }
   ],
   "source": [
    "describe_events = \"\"\"\n",
    "SELECT * FROM {}_databox.yellow_pulse_simple_1d LIMIT 1;\n",
    "\"\"\"\n",
    "pd.read_sql(describe_events.format(provider), conn).dtypes"
   ]
  },
  {
   "cell_type": "code",
   "execution_count": 6,
   "metadata": {
    "collapsed": false
   },
   "outputs": [],
   "source": [
    "# Doing a simple query of the events in one hour\n",
    "query_events = \"\"\"\n",
    "SELECT\n",
    "  category,\n",
    "  name,\n",
    "  objectid,\n",
    "  objecttype,\n",
    "  type,\n",
    "  environmentid,\n",
    "  devicetype,\n",
    "  providerproducttype,\n",
    "  isloggedin,\n",
    "  \"hour\"\n",
    "FROM\n",
    "  {}_databox.yellow_pulse_simple_1d\n",
    "WHERE \n",
    " \"hour\" = 20\n",
    "LIMIT 2000\n",
    "\"\"\"\n",
    "df_events = pd.read_sql(query_events.format(provider), conn)"
   ]
  },
  {
   "cell_type": "code",
   "execution_count": 7,
   "metadata": {
    "collapsed": false
   },
   "outputs": [
    {
     "data": {
      "text/plain": [
       "category               object\n",
       "name                   object\n",
       "objectid               object\n",
       "objecttype             object\n",
       "type                   object\n",
       "environmentid          object\n",
       "devicetype             object\n",
       "providerproducttype    object\n",
       "isloggedin               bool\n",
       "hour                    int64\n",
       "dtype: object"
      ]
     },
     "execution_count": 7,
     "metadata": {},
     "output_type": "execute_result"
    }
   ],
   "source": [
    "df_events.dtypes"
   ]
  },
  {
   "cell_type": "markdown",
   "metadata": {},
   "source": [
    "## What are we going to learn about Python?\n",
    "\n",
    "We are mainly going to work with the following packages:\n",
    "    \n",
    "1. [pandas](https://pandas.pydata.org/pandas-docs/stable/) \n",
    "\n",
    "This is a package providing fast, flexible, and expressive data structures designed to make working with “relational” or “labeled” \n",
    "data both easy and intuitive. \n",
    "It aims to be the fundamental high-level building block for doing practical, \n",
    "real world data analysis in Python. Additionally, it has the broader goal of becoming the most \n",
    "powerful and flexible open source data analysis / manipulation tool available in any language. \n",
    "It is already well on its way towards this goal.\n",
    "\n",
    "[cheat sheet pandas](http://datacamp-community.s3.amazonaws.com/9f0f2ae1-8bd8-4302-a67b-e17f3059d9e8)\n",
    "\n",
    "\n",
    "2. [numpy](http://www.numpy.org/)\n",
    "\n",
    "NumPy is the fundamental package for scientific computing with Python. It contains among other things:\n",
    "\n",
    "- a powerful N-dimensional array object\n",
    "\n",
    "- sophisticated (broadcasting) functions\n",
    "\n",
    "- tools for integrating C/C++ and Fortran code useful linear algebra, Fourier transform, and random number capabilities\n",
    "\n",
    "[cheat sheet numpy](http://datacamp-community.s3.amazonaws.com/e9f83f72-a81b-42c7-af44-4e35b48b20b7)\n",
    "\n",
    "\n",
    "3. [matplotlib](https://matplotlib.org/)\n",
    "\n",
    "Matplotlib is a Python 2D plotting library which produces publication quality figures in a variety of hardcopy formats and interactive environments across platforms. Matplotlib can be used in Python scripts, the Python and IPython shells, the Jupyter notebook, web application servers, and four graphical user interface toolkits.\n",
    "\n",
    "[cheat sheet matplotlib](http://datacamp-community.s3.amazonaws.com/28b8210c-60cc-4f13-b0b4-5b4f2ad4790b)\n"
   ]
  },
  {
   "cell_type": "markdown",
   "metadata": {},
   "source": [
    "### Exploration of our DataFrame\n",
    "\n",
    "*head(),tail(),shape(),columns, describe(),dtypes()*\n",
    "\n",
    "*selection one row, one column, a subdataframe*"
   ]
  },
  {
   "cell_type": "code",
   "execution_count": 8,
   "metadata": {
    "collapsed": false
   },
   "outputs": [
    {
     "data": {
      "text/html": [
       "<div>\n",
       "<style scoped>\n",
       "    .dataframe tbody tr th:only-of-type {\n",
       "        vertical-align: middle;\n",
       "    }\n",
       "\n",
       "    .dataframe tbody tr th {\n",
       "        vertical-align: top;\n",
       "    }\n",
       "\n",
       "    .dataframe thead th {\n",
       "        text-align: right;\n",
       "    }\n",
       "</style>\n",
       "<table border=\"1\" class=\"dataframe\">\n",
       "  <thead>\n",
       "    <tr style=\"text-align: right;\">\n",
       "      <th></th>\n",
       "      <th>category</th>\n",
       "      <th>name</th>\n",
       "      <th>objectid</th>\n",
       "      <th>objecttype</th>\n",
       "      <th>type</th>\n",
       "      <th>environmentid</th>\n",
       "      <th>devicetype</th>\n",
       "      <th>providerproducttype</th>\n",
       "      <th>isloggedin</th>\n",
       "      <th>hour</th>\n",
       "    </tr>\n",
       "  </thead>\n",
       "  <tbody>\n",
       "    <tr>\n",
       "      <th>0</th>\n",
       "      <td></td>\n",
       "      <td></td>\n",
       "      <td>sdrn:yapocl:listing:https://tags.tiqcdn.com/ut...</td>\n",
       "      <td>Listing</td>\n",
       "      <td>View</td>\n",
       "      <td>sdrn:schibsted:environment:e813a06f-3425-4c34-...</td>\n",
       "      <td>mobile</td>\n",
       "      <td>AndroidApp</td>\n",
       "      <td>False</td>\n",
       "      <td>20</td>\n",
       "    </tr>\n",
       "    <tr>\n",
       "      <th>1</th>\n",
       "      <td>Computadores &amp; electrónica &gt; Consolas &gt;  video...</td>\n",
       "      <td>yapo.cl</td>\n",
       "      <td>sdrn:yapocl:classified:56379455</td>\n",
       "      <td>ClassifiedAd</td>\n",
       "      <td>View</td>\n",
       "      <td>sdrn:schibsted:environment:d3226a54-8ffa-4ab4-...</td>\n",
       "      <td>mobile</td>\n",
       "      <td>None</td>\n",
       "      <td>False</td>\n",
       "      <td>20</td>\n",
       "    </tr>\n",
       "  </tbody>\n",
       "</table>\n",
       "</div>"
      ],
      "text/plain": [
       "                                            category     name  \\\n",
       "0                                                               \n",
       "1  Computadores & electrónica > Consolas >  video...  yapo.cl   \n",
       "\n",
       "                                            objectid    objecttype  type  \\\n",
       "0  sdrn:yapocl:listing:https://tags.tiqcdn.com/ut...       Listing  View   \n",
       "1                    sdrn:yapocl:classified:56379455  ClassifiedAd  View   \n",
       "\n",
       "                                       environmentid devicetype  \\\n",
       "0  sdrn:schibsted:environment:e813a06f-3425-4c34-...     mobile   \n",
       "1  sdrn:schibsted:environment:d3226a54-8ffa-4ab4-...     mobile   \n",
       "\n",
       "  providerproducttype  isloggedin  hour  \n",
       "0          AndroidApp       False    20  \n",
       "1                None       False    20  "
      ]
     },
     "execution_count": 8,
     "metadata": {},
     "output_type": "execute_result"
    }
   ],
   "source": [
    "df_events.head(2)"
   ]
  },
  {
   "cell_type": "code",
   "execution_count": 9,
   "metadata": {
    "collapsed": false
   },
   "outputs": [
    {
     "data": {
      "text/html": [
       "<div>\n",
       "<style scoped>\n",
       "    .dataframe tbody tr th:only-of-type {\n",
       "        vertical-align: middle;\n",
       "    }\n",
       "\n",
       "    .dataframe tbody tr th {\n",
       "        vertical-align: top;\n",
       "    }\n",
       "\n",
       "    .dataframe thead th {\n",
       "        text-align: right;\n",
       "    }\n",
       "</style>\n",
       "<table border=\"1\" class=\"dataframe\">\n",
       "  <thead>\n",
       "    <tr style=\"text-align: right;\">\n",
       "      <th></th>\n",
       "      <th>category</th>\n",
       "      <th>name</th>\n",
       "      <th>objectid</th>\n",
       "      <th>objecttype</th>\n",
       "      <th>type</th>\n",
       "      <th>environmentid</th>\n",
       "      <th>devicetype</th>\n",
       "      <th>providerproducttype</th>\n",
       "      <th>isloggedin</th>\n",
       "      <th>hour</th>\n",
       "    </tr>\n",
       "  </thead>\n",
       "  <tbody>\n",
       "    <tr>\n",
       "      <th>1998</th>\n",
       "      <td></td>\n",
       "      <td>Avisos en Región Metropolitana | yapo.cl</td>\n",
       "      <td>sdrn:yapocl:listing:https://www.yapo.cl/region...</td>\n",
       "      <td>Listing</td>\n",
       "      <td>View</td>\n",
       "      <td>sdrn:schibsted:environment:286d8be4-5ae8-4b5f-...</td>\n",
       "      <td>desktop</td>\n",
       "      <td>None</td>\n",
       "      <td>True</td>\n",
       "      <td>20</td>\n",
       "    </tr>\n",
       "    <tr>\n",
       "      <th>1999</th>\n",
       "      <td>Inmuebles &gt; Arriendo</td>\n",
       "      <td>yapo.cl</td>\n",
       "      <td>sdrn:yapocl:classified:58023754</td>\n",
       "      <td>ClassifiedAd</td>\n",
       "      <td>View</td>\n",
       "      <td>sdrn:schibsted:environment:1cc7a897-7167-4fc9-...</td>\n",
       "      <td>mobile</td>\n",
       "      <td>None</td>\n",
       "      <td>False</td>\n",
       "      <td>20</td>\n",
       "    </tr>\n",
       "  </tbody>\n",
       "</table>\n",
       "</div>"
      ],
      "text/plain": [
       "                  category                                      name  \\\n",
       "1998                        Avisos en Región Metropolitana | yapo.cl   \n",
       "1999  Inmuebles > Arriendo                                   yapo.cl   \n",
       "\n",
       "                                               objectid    objecttype  type  \\\n",
       "1998  sdrn:yapocl:listing:https://www.yapo.cl/region...       Listing  View   \n",
       "1999                    sdrn:yapocl:classified:58023754  ClassifiedAd  View   \n",
       "\n",
       "                                          environmentid devicetype  \\\n",
       "1998  sdrn:schibsted:environment:286d8be4-5ae8-4b5f-...    desktop   \n",
       "1999  sdrn:schibsted:environment:1cc7a897-7167-4fc9-...     mobile   \n",
       "\n",
       "     providerproducttype  isloggedin  hour  \n",
       "1998                None        True    20  \n",
       "1999                None       False    20  "
      ]
     },
     "execution_count": 9,
     "metadata": {},
     "output_type": "execute_result"
    }
   ],
   "source": [
    "df_events.tail(2)"
   ]
  },
  {
   "cell_type": "code",
   "execution_count": 10,
   "metadata": {
    "collapsed": false
   },
   "outputs": [
    {
     "data": {
      "text/plain": [
       "(2000, 10)"
      ]
     },
     "execution_count": 10,
     "metadata": {},
     "output_type": "execute_result"
    }
   ],
   "source": [
    "df_events.shape"
   ]
  },
  {
   "cell_type": "code",
   "execution_count": 11,
   "metadata": {
    "collapsed": false
   },
   "outputs": [
    {
     "data": {
      "text/plain": [
       "category               object\n",
       "name                   object\n",
       "objectid               object\n",
       "objecttype             object\n",
       "type                   object\n",
       "environmentid          object\n",
       "devicetype             object\n",
       "providerproducttype    object\n",
       "isloggedin               bool\n",
       "hour                    int64\n",
       "dtype: object"
      ]
     },
     "execution_count": 11,
     "metadata": {},
     "output_type": "execute_result"
    }
   ],
   "source": [
    "df_events.dtypes"
   ]
  },
  {
   "cell_type": "code",
   "execution_count": 12,
   "metadata": {
    "collapsed": false
   },
   "outputs": [
    {
     "data": {
      "text/plain": [
       "0                                                     \n",
       "1    Computadores & electrónica > Consolas >  video...\n",
       "2           Moda > calzado > belleza y salud > Calzado\n",
       "3                                                     \n",
       "4                Vehículos > Autos >  camionetas y 4x4\n",
       "5    Servicios >  negocios y empleo > Ofertas de em...\n",
       "6                                                     \n",
       "7     Tiempo libre > Deportes >  gimnasia y accesorios\n",
       "8                                                     \n",
       "9                 Vehiculos > Autos > camionetas y 4x4\n",
       "Name: category, dtype: object"
      ]
     },
     "execution_count": 12,
     "metadata": {},
     "output_type": "execute_result"
    }
   ],
   "source": [
    "df_events['category'][0:10]"
   ]
  },
  {
   "cell_type": "code",
   "execution_count": 13,
   "metadata": {
    "collapsed": false
   },
   "outputs": [
    {
     "data": {
      "text/html": [
       "<div>\n",
       "<style scoped>\n",
       "    .dataframe tbody tr th:only-of-type {\n",
       "        vertical-align: middle;\n",
       "    }\n",
       "\n",
       "    .dataframe tbody tr th {\n",
       "        vertical-align: top;\n",
       "    }\n",
       "\n",
       "    .dataframe thead th {\n",
       "        text-align: right;\n",
       "    }\n",
       "</style>\n",
       "<table border=\"1\" class=\"dataframe\">\n",
       "  <thead>\n",
       "    <tr style=\"text-align: right;\">\n",
       "      <th></th>\n",
       "      <th>category</th>\n",
       "      <th>name</th>\n",
       "      <th>objectid</th>\n",
       "      <th>objecttype</th>\n",
       "      <th>type</th>\n",
       "      <th>environmentid</th>\n",
       "      <th>devicetype</th>\n",
       "      <th>providerproducttype</th>\n",
       "      <th>isloggedin</th>\n",
       "      <th>hour</th>\n",
       "    </tr>\n",
       "  </thead>\n",
       "  <tbody>\n",
       "    <tr>\n",
       "      <th>0</th>\n",
       "      <td></td>\n",
       "      <td></td>\n",
       "      <td>sdrn:yapocl:listing:https://tags.tiqcdn.com/ut...</td>\n",
       "      <td>Listing</td>\n",
       "      <td>View</td>\n",
       "      <td>sdrn:schibsted:environment:e813a06f-3425-4c34-...</td>\n",
       "      <td>mobile</td>\n",
       "      <td>AndroidApp</td>\n",
       "      <td>False</td>\n",
       "      <td>20</td>\n",
       "    </tr>\n",
       "    <tr>\n",
       "      <th>1</th>\n",
       "      <td>Computadores &amp; electrónica &gt; Consolas &gt;  video...</td>\n",
       "      <td>yapo.cl</td>\n",
       "      <td>sdrn:yapocl:classified:56379455</td>\n",
       "      <td>ClassifiedAd</td>\n",
       "      <td>View</td>\n",
       "      <td>sdrn:schibsted:environment:d3226a54-8ffa-4ab4-...</td>\n",
       "      <td>mobile</td>\n",
       "      <td>None</td>\n",
       "      <td>False</td>\n",
       "      <td>20</td>\n",
       "    </tr>\n",
       "  </tbody>\n",
       "</table>\n",
       "</div>"
      ],
      "text/plain": [
       "                                            category     name  \\\n",
       "0                                                               \n",
       "1  Computadores & electrónica > Consolas >  video...  yapo.cl   \n",
       "\n",
       "                                            objectid    objecttype  type  \\\n",
       "0  sdrn:yapocl:listing:https://tags.tiqcdn.com/ut...       Listing  View   \n",
       "1                    sdrn:yapocl:classified:56379455  ClassifiedAd  View   \n",
       "\n",
       "                                       environmentid devicetype  \\\n",
       "0  sdrn:schibsted:environment:e813a06f-3425-4c34-...     mobile   \n",
       "1  sdrn:schibsted:environment:d3226a54-8ffa-4ab4-...     mobile   \n",
       "\n",
       "  providerproducttype  isloggedin  hour  \n",
       "0          AndroidApp       False    20  \n",
       "1                None       False    20  "
      ]
     },
     "execution_count": 13,
     "metadata": {},
     "output_type": "execute_result"
    }
   ],
   "source": [
    "df_events[df_events['type']=='View'].head(2)"
   ]
  },
  {
   "cell_type": "code",
   "execution_count": 14,
   "metadata": {
    "collapsed": true
   },
   "outputs": [],
   "source": [
    "df_events['combination'] = df_events['devicetype'] + ' - ' +df_events['providerproducttype']"
   ]
  },
  {
   "cell_type": "code",
   "execution_count": 15,
   "metadata": {
    "collapsed": false
   },
   "outputs": [
    {
     "data": {
      "text/plain": [
       "0       mobile - AndroidApp\n",
       "1                       NaN\n",
       "2       mobile - AndroidApp\n",
       "3                       NaN\n",
       "4                       NaN\n",
       "5                       NaN\n",
       "6       mobile - AndroidApp\n",
       "7                       NaN\n",
       "8       mobile - AndroidApp\n",
       "9       mobile - AndroidApp\n",
       "10      mobile - AndroidApp\n",
       "11                      NaN\n",
       "12      mobile - AndroidApp\n",
       "13      mobile - AndroidApp\n",
       "14                      NaN\n",
       "15      mobile - AndroidApp\n",
       "16                      NaN\n",
       "17                      NaN\n",
       "18          mobile - iOSApp\n",
       "19          mobile - iOSApp\n",
       "20      mobile - AndroidApp\n",
       "21      mobile - AndroidApp\n",
       "22      mobile - AndroidApp\n",
       "23                      NaN\n",
       "24      mobile - AndroidApp\n",
       "25          mobile - iOSApp\n",
       "26                      NaN\n",
       "27      mobile - AndroidApp\n",
       "28                      NaN\n",
       "29      mobile - AndroidApp\n",
       "               ...         \n",
       "1970    mobile - AndroidApp\n",
       "1971                    NaN\n",
       "1972                    NaN\n",
       "1973                    NaN\n",
       "1974                    NaN\n",
       "1975    mobile - AndroidApp\n",
       "1976                    NaN\n",
       "1977                    NaN\n",
       "1978    mobile - AndroidApp\n",
       "1979    mobile - AndroidApp\n",
       "1980    mobile - AndroidApp\n",
       "1981    mobile - AndroidApp\n",
       "1982    mobile - AndroidApp\n",
       "1983    mobile - AndroidApp\n",
       "1984        mobile - iOSApp\n",
       "1985    mobile - AndroidApp\n",
       "1986                    NaN\n",
       "1987    mobile - AndroidApp\n",
       "1988        mobile - iOSApp\n",
       "1989    mobile - AndroidApp\n",
       "1990        mobile - iOSApp\n",
       "1991                    NaN\n",
       "1992                    NaN\n",
       "1993                    NaN\n",
       "1994                    NaN\n",
       "1995                    NaN\n",
       "1996                    NaN\n",
       "1997                    NaN\n",
       "1998                    NaN\n",
       "1999                    NaN\n",
       "Name: combination, Length: 2000, dtype: object"
      ]
     },
     "execution_count": 15,
     "metadata": {},
     "output_type": "execute_result"
    }
   ],
   "source": [
    "df_events['combination']"
   ]
  },
  {
   "cell_type": "code",
   "execution_count": 17,
   "metadata": {
    "collapsed": false
   },
   "outputs": [],
   "source": [
    "df_events['has_category'] = False\n",
    "df_events.loc[-df_events['category'].isna(),'has_category'] = True"
   ]
  },
  {
   "cell_type": "code",
   "execution_count": 18,
   "metadata": {
    "collapsed": false
   },
   "outputs": [
    {
     "data": {
      "text/html": [
       "<div>\n",
       "<style scoped>\n",
       "    .dataframe tbody tr th:only-of-type {\n",
       "        vertical-align: middle;\n",
       "    }\n",
       "\n",
       "    .dataframe tbody tr th {\n",
       "        vertical-align: top;\n",
       "    }\n",
       "\n",
       "    .dataframe thead th {\n",
       "        text-align: right;\n",
       "    }\n",
       "</style>\n",
       "<table border=\"1\" class=\"dataframe\">\n",
       "  <thead>\n",
       "    <tr style=\"text-align: right;\">\n",
       "      <th></th>\n",
       "      <th>category</th>\n",
       "      <th>name</th>\n",
       "      <th>objectid</th>\n",
       "      <th>objecttype</th>\n",
       "      <th>type</th>\n",
       "      <th>environmentid</th>\n",
       "      <th>devicetype</th>\n",
       "      <th>providerproducttype</th>\n",
       "      <th>isloggedin</th>\n",
       "      <th>hour</th>\n",
       "      <th>combination</th>\n",
       "      <th>has_category</th>\n",
       "    </tr>\n",
       "  </thead>\n",
       "  <tbody>\n",
       "    <tr>\n",
       "      <th>0</th>\n",
       "      <td></td>\n",
       "      <td></td>\n",
       "      <td>sdrn:yapocl:listing:https://tags.tiqcdn.com/ut...</td>\n",
       "      <td>Listing</td>\n",
       "      <td>View</td>\n",
       "      <td>sdrn:schibsted:environment:e813a06f-3425-4c34-...</td>\n",
       "      <td>mobile</td>\n",
       "      <td>AndroidApp</td>\n",
       "      <td>False</td>\n",
       "      <td>20</td>\n",
       "      <td>mobile - AndroidApp</td>\n",
       "      <td>True</td>\n",
       "    </tr>\n",
       "    <tr>\n",
       "      <th>1</th>\n",
       "      <td>Computadores &amp; electrónica &gt; Consolas &gt;  video...</td>\n",
       "      <td>yapo.cl</td>\n",
       "      <td>sdrn:yapocl:classified:56379455</td>\n",
       "      <td>ClassifiedAd</td>\n",
       "      <td>View</td>\n",
       "      <td>sdrn:schibsted:environment:d3226a54-8ffa-4ab4-...</td>\n",
       "      <td>mobile</td>\n",
       "      <td>None</td>\n",
       "      <td>False</td>\n",
       "      <td>20</td>\n",
       "      <td>NaN</td>\n",
       "      <td>True</td>\n",
       "    </tr>\n",
       "    <tr>\n",
       "      <th>2</th>\n",
       "      <td>Moda &gt; calzado &gt; belleza y salud &gt; Calzado</td>\n",
       "      <td>Zapatos de seguridad casi nuevo 43</td>\n",
       "      <td>sdrn:yapocl:classified:58192999</td>\n",
       "      <td>ClassifiedAd</td>\n",
       "      <td>View</td>\n",
       "      <td>sdrn:schibsted:environment:1de2474e-5552-401c-...</td>\n",
       "      <td>mobile</td>\n",
       "      <td>AndroidApp</td>\n",
       "      <td>True</td>\n",
       "      <td>20</td>\n",
       "      <td>mobile - AndroidApp</td>\n",
       "      <td>True</td>\n",
       "    </tr>\n",
       "    <tr>\n",
       "      <th>3</th>\n",
       "      <td></td>\n",
       "      <td>Avisos en Región Metropolitana | yapo.cl</td>\n",
       "      <td>sdrn:yapocl:listing:https://www.yapo.cl/region...</td>\n",
       "      <td>Listing</td>\n",
       "      <td>View</td>\n",
       "      <td>sdrn:schibsted:environment:b9162d8b-4cf5-458d-...</td>\n",
       "      <td>desktop</td>\n",
       "      <td>None</td>\n",
       "      <td>True</td>\n",
       "      <td>20</td>\n",
       "      <td>NaN</td>\n",
       "      <td>True</td>\n",
       "    </tr>\n",
       "  </tbody>\n",
       "</table>\n",
       "</div>"
      ],
      "text/plain": [
       "                                            category  \\\n",
       "0                                                      \n",
       "1  Computadores & electrónica > Consolas >  video...   \n",
       "2         Moda > calzado > belleza y salud > Calzado   \n",
       "3                                                      \n",
       "\n",
       "                                       name  \\\n",
       "0                                             \n",
       "1                                   yapo.cl   \n",
       "2        Zapatos de seguridad casi nuevo 43   \n",
       "3  Avisos en Región Metropolitana | yapo.cl   \n",
       "\n",
       "                                            objectid    objecttype  type  \\\n",
       "0  sdrn:yapocl:listing:https://tags.tiqcdn.com/ut...       Listing  View   \n",
       "1                    sdrn:yapocl:classified:56379455  ClassifiedAd  View   \n",
       "2                    sdrn:yapocl:classified:58192999  ClassifiedAd  View   \n",
       "3  sdrn:yapocl:listing:https://www.yapo.cl/region...       Listing  View   \n",
       "\n",
       "                                       environmentid devicetype  \\\n",
       "0  sdrn:schibsted:environment:e813a06f-3425-4c34-...     mobile   \n",
       "1  sdrn:schibsted:environment:d3226a54-8ffa-4ab4-...     mobile   \n",
       "2  sdrn:schibsted:environment:1de2474e-5552-401c-...     mobile   \n",
       "3  sdrn:schibsted:environment:b9162d8b-4cf5-458d-...    desktop   \n",
       "\n",
       "  providerproducttype  isloggedin  hour          combination  has_category  \n",
       "0          AndroidApp       False    20  mobile - AndroidApp          True  \n",
       "1                None       False    20                  NaN          True  \n",
       "2          AndroidApp        True    20  mobile - AndroidApp          True  \n",
       "3                None        True    20                  NaN          True  "
      ]
     },
     "execution_count": 18,
     "metadata": {},
     "output_type": "execute_result"
    }
   ],
   "source": [
    "df_events.head(4)"
   ]
  },
  {
   "cell_type": "markdown",
   "metadata": {},
   "source": [
    "### Some countings\n",
    "*count(),unique(),nunique(),value_counts(),groupby*"
   ]
  },
  {
   "cell_type": "code",
   "execution_count": 19,
   "metadata": {
    "collapsed": false
   },
   "outputs": [
    {
     "data": {
      "text/plain": [
       "array(['mobile - AndroidApp', nan, 'mobile - iOSApp',\n",
       "       'tablet - AndroidApp', 'tablet - iOSApp'], dtype=object)"
      ]
     },
     "execution_count": 19,
     "metadata": {},
     "output_type": "execute_result"
    }
   ],
   "source": [
    "df_events['combination'].unique()"
   ]
  },
  {
   "cell_type": "code",
   "execution_count": 20,
   "metadata": {
    "collapsed": false
   },
   "outputs": [
    {
     "data": {
      "text/plain": [
       "(4, 10)"
      ]
     },
     "execution_count": 20,
     "metadata": {},
     "output_type": "execute_result"
    }
   ],
   "source": [
    "df_events['combination'].nunique(), len(df_events['objecttype'].unique())"
   ]
  },
  {
   "cell_type": "code",
   "execution_count": 21,
   "metadata": {
    "collapsed": false
   },
   "outputs": [
    {
     "data": {
      "text/plain": [
       "mobile - AndroidApp    834\n",
       "mobile - iOSApp        210\n",
       "tablet - AndroidApp      5\n",
       "tablet - iOSApp          4\n",
       "Name: combination, dtype: int64"
      ]
     },
     "execution_count": 21,
     "metadata": {},
     "output_type": "execute_result"
    }
   ],
   "source": [
    "df_events['combination'].value_counts()"
   ]
  },
  {
   "cell_type": "code",
   "execution_count": 22,
   "metadata": {
    "collapsed": false
   },
   "outputs": [
    {
     "data": {
      "text/plain": [
       "View      0.9800\n",
       "Show      0.0105\n",
       "Call      0.0035\n",
       "Save      0.0030\n",
       "Send      0.0020\n",
       "Create    0.0005\n",
       "Unsave    0.0005\n",
       "Name: type, dtype: float64"
      ]
     },
     "execution_count": 22,
     "metadata": {},
     "output_type": "execute_result"
    }
   ],
   "source": [
    "df_events['type'].value_counts(normalize=True)"
   ]
  },
  {
   "cell_type": "code",
   "execution_count": 23,
   "metadata": {
    "collapsed": false
   },
   "outputs": [
    {
     "data": {
      "text/plain": [
       "mobile     1764\n",
       "desktop     212\n",
       "tablet       24\n",
       "Name: devicetype, dtype: int64"
      ]
     },
     "execution_count": 23,
     "metadata": {},
     "output_type": "execute_result"
    }
   ],
   "source": [
    "df_events['devicetype'].value_counts()"
   ]
  },
  {
   "cell_type": "code",
   "execution_count": 24,
   "metadata": {
    "collapsed": false
   },
   "outputs": [],
   "source": [
    "df_events.groupby?"
   ]
  },
  {
   "cell_type": "code",
   "execution_count": 25,
   "metadata": {
    "collapsed": false
   },
   "outputs": [
    {
     "data": {
      "text/html": [
       "<div>\n",
       "<style scoped>\n",
       "    .dataframe tbody tr th:only-of-type {\n",
       "        vertical-align: middle;\n",
       "    }\n",
       "\n",
       "    .dataframe tbody tr th {\n",
       "        vertical-align: top;\n",
       "    }\n",
       "\n",
       "    .dataframe thead th {\n",
       "        text-align: right;\n",
       "    }\n",
       "</style>\n",
       "<table border=\"1\" class=\"dataframe\">\n",
       "  <thead>\n",
       "    <tr style=\"text-align: right;\">\n",
       "      <th></th>\n",
       "      <th>category</th>\n",
       "      <th>name</th>\n",
       "      <th>objectid</th>\n",
       "      <th>objecttype</th>\n",
       "      <th>type</th>\n",
       "      <th>environmentid</th>\n",
       "      <th>providerproducttype</th>\n",
       "      <th>isloggedin</th>\n",
       "      <th>hour</th>\n",
       "      <th>combination</th>\n",
       "      <th>has_category</th>\n",
       "    </tr>\n",
       "    <tr>\n",
       "      <th>devicetype</th>\n",
       "      <th></th>\n",
       "      <th></th>\n",
       "      <th></th>\n",
       "      <th></th>\n",
       "      <th></th>\n",
       "      <th></th>\n",
       "      <th></th>\n",
       "      <th></th>\n",
       "      <th></th>\n",
       "      <th></th>\n",
       "      <th></th>\n",
       "    </tr>\n",
       "  </thead>\n",
       "  <tbody>\n",
       "    <tr>\n",
       "      <th>desktop</th>\n",
       "      <td>212</td>\n",
       "      <td>212</td>\n",
       "      <td>212</td>\n",
       "      <td>212</td>\n",
       "      <td>212</td>\n",
       "      <td>212</td>\n",
       "      <td>0</td>\n",
       "      <td>212</td>\n",
       "      <td>212</td>\n",
       "      <td>0</td>\n",
       "      <td>212</td>\n",
       "    </tr>\n",
       "    <tr>\n",
       "      <th>mobile</th>\n",
       "      <td>1751</td>\n",
       "      <td>1751</td>\n",
       "      <td>1751</td>\n",
       "      <td>1764</td>\n",
       "      <td>1764</td>\n",
       "      <td>1764</td>\n",
       "      <td>1044</td>\n",
       "      <td>1764</td>\n",
       "      <td>1764</td>\n",
       "      <td>1044</td>\n",
       "      <td>1764</td>\n",
       "    </tr>\n",
       "    <tr>\n",
       "      <th>tablet</th>\n",
       "      <td>24</td>\n",
       "      <td>24</td>\n",
       "      <td>24</td>\n",
       "      <td>24</td>\n",
       "      <td>24</td>\n",
       "      <td>24</td>\n",
       "      <td>9</td>\n",
       "      <td>24</td>\n",
       "      <td>24</td>\n",
       "      <td>9</td>\n",
       "      <td>24</td>\n",
       "    </tr>\n",
       "  </tbody>\n",
       "</table>\n",
       "</div>"
      ],
      "text/plain": [
       "            category  name  objectid  objecttype  type  environmentid  \\\n",
       "devicetype                                                              \n",
       "desktop          212   212       212         212   212            212   \n",
       "mobile          1751  1751      1751        1764  1764           1764   \n",
       "tablet            24    24        24          24    24             24   \n",
       "\n",
       "            providerproducttype  isloggedin  hour  combination  has_category  \n",
       "devicetype                                                                    \n",
       "desktop                       0         212   212            0           212  \n",
       "mobile                     1044        1764  1764         1044          1764  \n",
       "tablet                        9          24    24            9            24  "
      ]
     },
     "execution_count": 25,
     "metadata": {},
     "output_type": "execute_result"
    }
   ],
   "source": [
    "df_events.groupby('devicetype').count()"
   ]
  },
  {
   "cell_type": "code",
   "execution_count": 26,
   "metadata": {
    "collapsed": false
   },
   "outputs": [
    {
     "data": {
      "text/plain": [
       "devicetype\n",
       "desktop     212\n",
       "mobile     1764\n",
       "tablet       24\n",
       "Name: devicetype, dtype: int64"
      ]
     },
     "execution_count": 26,
     "metadata": {},
     "output_type": "execute_result"
    }
   ],
   "source": [
    "df_events.groupby('devicetype')['devicetype'].count()"
   ]
  },
  {
   "cell_type": "code",
   "execution_count": 27,
   "metadata": {
    "collapsed": true
   },
   "outputs": [],
   "source": [
    "# We are going to do various aggregations at the same time using one dictionary \n",
    "dic = {'devicetype':'count','environmentid':'nunique'}"
   ]
  },
  {
   "cell_type": "code",
   "execution_count": 28,
   "metadata": {
    "collapsed": false
   },
   "outputs": [
    {
     "data": {
      "text/plain": [
       "{'devicetype': 'count', 'environmentid': 'nunique'}"
      ]
     },
     "execution_count": 28,
     "metadata": {},
     "output_type": "execute_result"
    }
   ],
   "source": [
    "dic"
   ]
  },
  {
   "cell_type": "code",
   "execution_count": 29,
   "metadata": {
    "collapsed": false
   },
   "outputs": [
    {
     "data": {
      "text/plain": [
       "'count'"
      ]
     },
     "execution_count": 29,
     "metadata": {},
     "output_type": "execute_result"
    }
   ],
   "source": [
    "dic['devicetype']"
   ]
  },
  {
   "cell_type": "code",
   "execution_count": 30,
   "metadata": {
    "collapsed": false
   },
   "outputs": [
    {
     "data": {
      "text/plain": [
       "(dict_keys(['devicetype', 'environmentid']), dict_values(['count', 'nunique']))"
      ]
     },
     "execution_count": 30,
     "metadata": {},
     "output_type": "execute_result"
    }
   ],
   "source": [
    "dic.keys(),dic.values()"
   ]
  },
  {
   "cell_type": "code",
   "execution_count": 31,
   "metadata": {
    "collapsed": false
   },
   "outputs": [
    {
     "data": {
      "text/html": [
       "<div>\n",
       "<style scoped>\n",
       "    .dataframe tbody tr th:only-of-type {\n",
       "        vertical-align: middle;\n",
       "    }\n",
       "\n",
       "    .dataframe tbody tr th {\n",
       "        vertical-align: top;\n",
       "    }\n",
       "\n",
       "    .dataframe thead th {\n",
       "        text-align: right;\n",
       "    }\n",
       "</style>\n",
       "<table border=\"1\" class=\"dataframe\">\n",
       "  <thead>\n",
       "    <tr style=\"text-align: right;\">\n",
       "      <th></th>\n",
       "      <th>devicetype</th>\n",
       "      <th>environmentid</th>\n",
       "    </tr>\n",
       "    <tr>\n",
       "      <th>combination</th>\n",
       "      <th></th>\n",
       "      <th></th>\n",
       "    </tr>\n",
       "  </thead>\n",
       "  <tbody>\n",
       "    <tr>\n",
       "      <th>mobile - AndroidApp</th>\n",
       "      <td>834</td>\n",
       "      <td>781</td>\n",
       "    </tr>\n",
       "    <tr>\n",
       "      <th>mobile - iOSApp</th>\n",
       "      <td>210</td>\n",
       "      <td>196</td>\n",
       "    </tr>\n",
       "    <tr>\n",
       "      <th>tablet - AndroidApp</th>\n",
       "      <td>5</td>\n",
       "      <td>3</td>\n",
       "    </tr>\n",
       "    <tr>\n",
       "      <th>tablet - iOSApp</th>\n",
       "      <td>4</td>\n",
       "      <td>4</td>\n",
       "    </tr>\n",
       "  </tbody>\n",
       "</table>\n",
       "</div>"
      ],
      "text/plain": [
       "                     devicetype  environmentid\n",
       "combination                                   \n",
       "mobile - AndroidApp         834            781\n",
       "mobile - iOSApp             210            196\n",
       "tablet - AndroidApp           5              3\n",
       "tablet - iOSApp               4              4"
      ]
     },
     "execution_count": 31,
     "metadata": {},
     "output_type": "execute_result"
    }
   ],
   "source": [
    "df_events.groupby('combination').agg(dic)"
   ]
  },
  {
   "cell_type": "code",
   "execution_count": 32,
   "metadata": {
    "collapsed": false
   },
   "outputs": [
    {
     "name": "stderr",
     "output_type": "stream",
     "text": [
      "/Users/CotePelaez/anaconda/lib/python3.5/site-packages/pandas/core/indexes/base.py:2070: VisibleDeprecationWarning: using a non-integer number instead of an integer will result in an error in the future\n",
      "  return getitem(key)\n"
     ]
    },
    {
     "data": {
      "text/plain": [
       "<matplotlib.axes._subplots.AxesSubplot at 0x11d32efd0>"
      ]
     },
     "execution_count": 32,
     "metadata": {},
     "output_type": "execute_result"
    }
   ],
   "source": [
    "df_events.groupby('combination').agg(dic).plot()"
   ]
  },
  {
   "cell_type": "code",
   "execution_count": 33,
   "metadata": {
    "collapsed": false
   },
   "outputs": [
    {
     "data": {
      "text/plain": [
       "<matplotlib.axes._subplots.AxesSubplot at 0x11d0516d8>"
      ]
     },
     "execution_count": 33,
     "metadata": {},
     "output_type": "execute_result"
    },
    {
     "data": {
      "image/png": "[encoded data removed]",
      "text/plain": [
       "<matplotlib.figure.Figure at 0x111c75860>"
      ]
     },
     "metadata": {},
     "output_type": "display_data"
    }
   ],
   "source": [
    "# If you would like to visualize in the jupyter notebook your plot then\n",
    "%matplotlib inline\n",
    "df_events.groupby('combination').agg(dic).plot(kind='bar')"
   ]
  },
  {
   "cell_type": "markdown",
   "metadata": {},
   "source": [
    "> Later on we are going to learn how tune a graph!!"
   ]
  },
  {
   "cell_type": "markdown",
   "metadata": {},
   "source": [
    "## **Exercise**\n",
    "\n",
    "Which browsers are the most active - desktop, mobile or tablet?\n",
    "\n",
    "Here *most active* means those that generate the highest number of events.\n"
   ]
  },
  {
   "cell_type": "code",
   "execution_count": 34,
   "metadata": {
    "collapsed": false
   },
   "outputs": [
    {
     "name": "stdout",
     "output_type": "stream",
     "text": [
      "CPU times: user 58.7 ms, sys: 5.62 ms, total: 64.3 ms\n",
      "Wall time: 6.27 s\n"
     ]
    }
   ],
   "source": [
    "%%time\n",
    "\n",
    "# Doing a simple query of the events in one hour\n",
    "query = \"\"\"\n",
    "SELECT\n",
    "  devicetype,\n",
    "  count(devicetype) as nof_events,\n",
    "  count(distinct environmentid) as nof_users\n",
    "FROM\n",
    "  {}_databox.yellow_pulse_simple_1d\n",
    "GROUP BY \n",
    "  devicetype\n",
    "\"\"\"\n",
    "df = pd.read_sql(query.format(provider), conn)"
   ]
  },
  {
   "cell_type": "code",
   "execution_count": 36,
   "metadata": {
    "collapsed": false
   },
   "outputs": [
    {
     "data": {
      "text/html": [
       "<div>\n",
       "<style scoped>\n",
       "    .dataframe tbody tr th:only-of-type {\n",
       "        vertical-align: middle;\n",
       "    }\n",
       "\n",
       "    .dataframe tbody tr th {\n",
       "        vertical-align: top;\n",
       "    }\n",
       "\n",
       "    .dataframe thead th {\n",
       "        text-align: right;\n",
       "    }\n",
       "</style>\n",
       "<table border=\"1\" class=\"dataframe\">\n",
       "  <thead>\n",
       "    <tr style=\"text-align: right;\">\n",
       "      <th></th>\n",
       "      <th>devicetype</th>\n",
       "      <th>nof_events</th>\n",
       "      <th>nof_users</th>\n",
       "    </tr>\n",
       "  </thead>\n",
       "  <tbody>\n",
       "    <tr>\n",
       "      <th>0</th>\n",
       "      <td>None</td>\n",
       "      <td>0</td>\n",
       "      <td>0</td>\n",
       "    </tr>\n",
       "    <tr>\n",
       "      <th>1</th>\n",
       "      <td>mobile</td>\n",
       "      <td>15200277</td>\n",
       "      <td>480279</td>\n",
       "    </tr>\n",
       "    <tr>\n",
       "      <th>2</th>\n",
       "      <td>desktop</td>\n",
       "      <td>1547187</td>\n",
       "      <td>64858</td>\n",
       "    </tr>\n",
       "    <tr>\n",
       "      <th>3</th>\n",
       "      <td>tablet</td>\n",
       "      <td>173867</td>\n",
       "      <td>6054</td>\n",
       "    </tr>\n",
       "  </tbody>\n",
       "</table>\n",
       "</div>"
      ],
      "text/plain": [
       "  devicetype  nof_events  nof_users\n",
       "0       None           0          0\n",
       "1     mobile    15200277     480279\n",
       "2    desktop     1547187      64858\n",
       "3     tablet      173867       6054"
      ]
     },
     "execution_count": 36,
     "metadata": {},
     "output_type": "execute_result"
    }
   ],
   "source": [
    "df"
   ]
  },
  {
   "cell_type": "code",
   "execution_count": 41,
   "metadata": {
    "collapsed": false
   },
   "outputs": [
    {
     "data": {
      "text/html": [
       "<div>\n",
       "<style scoped>\n",
       "    .dataframe tbody tr th:only-of-type {\n",
       "        vertical-align: middle;\n",
       "    }\n",
       "\n",
       "    .dataframe tbody tr th {\n",
       "        vertical-align: top;\n",
       "    }\n",
       "\n",
       "    .dataframe thead th {\n",
       "        text-align: right;\n",
       "    }\n",
       "</style>\n",
       "<table border=\"1\" class=\"dataframe\">\n",
       "  <thead>\n",
       "    <tr style=\"text-align: right;\">\n",
       "      <th></th>\n",
       "      <th>devicetype</th>\n",
       "      <th>nof_events</th>\n",
       "      <th>nof_users</th>\n",
       "      <th>volumeEvents</th>\n",
       "      <th>volumeUsers</th>\n",
       "      <th>eventsPeruser</th>\n",
       "    </tr>\n",
       "  </thead>\n",
       "  <tbody>\n",
       "    <tr>\n",
       "      <th>1</th>\n",
       "      <td>mobile</td>\n",
       "      <td>15200277</td>\n",
       "      <td>480279</td>\n",
       "      <td>89.829086</td>\n",
       "      <td>87.134768</td>\n",
       "      <td>31.648848</td>\n",
       "    </tr>\n",
       "    <tr>\n",
       "      <th>2</th>\n",
       "      <td>desktop</td>\n",
       "      <td>1547187</td>\n",
       "      <td>64858</td>\n",
       "      <td>9.143412</td>\n",
       "      <td>11.766883</td>\n",
       "      <td>23.854991</td>\n",
       "    </tr>\n",
       "    <tr>\n",
       "      <th>3</th>\n",
       "      <td>tablet</td>\n",
       "      <td>173867</td>\n",
       "      <td>6054</td>\n",
       "      <td>1.027502</td>\n",
       "      <td>1.098349</td>\n",
       "      <td>28.719359</td>\n",
       "    </tr>\n",
       "  </tbody>\n",
       "</table>\n",
       "</div>"
      ],
      "text/plain": [
       "  devicetype  nof_events  nof_users  volumeEvents  volumeUsers  eventsPeruser\n",
       "1     mobile    15200277     480279     89.829086    87.134768      31.648848\n",
       "2    desktop     1547187      64858      9.143412    11.766883      23.854991\n",
       "3     tablet      173867       6054      1.027502     1.098349      28.719359"
      ]
     },
     "execution_count": 41,
     "metadata": {},
     "output_type": "execute_result"
    }
   ],
   "source": [
    "df_clean = df[-df['devicetype'].isna()].copy()\n",
    "df_clean"
   ]
  },
  {
   "cell_type": "code",
   "execution_count": 42,
   "metadata": {
    "collapsed": false
   },
   "outputs": [],
   "source": [
    "df_clean['volumeEvents'] = 100*df_clean['nof_events']/df_clean['nof_events'].sum()\n",
    "df_clean['volumeUsers'] = 100*df_clean['nof_users']/df_clean['nof_users'].sum()\n",
    "df_clean['eventsPeruser'] = df_clean['nof_events']/df_clean['nof_users']"
   ]
  },
  {
   "cell_type": "code",
   "execution_count": 44,
   "metadata": {
    "collapsed": false
   },
   "outputs": [
    {
     "data": {
      "text/html": [
       "<div>\n",
       "<style scoped>\n",
       "    .dataframe tbody tr th:only-of-type {\n",
       "        vertical-align: middle;\n",
       "    }\n",
       "\n",
       "    .dataframe tbody tr th {\n",
       "        vertical-align: top;\n",
       "    }\n",
       "\n",
       "    .dataframe thead th {\n",
       "        text-align: right;\n",
       "    }\n",
       "</style>\n",
       "<table border=\"1\" class=\"dataframe\">\n",
       "  <thead>\n",
       "    <tr style=\"text-align: right;\">\n",
       "      <th></th>\n",
       "      <th>devicetype</th>\n",
       "      <th>nof_events</th>\n",
       "      <th>nof_users</th>\n",
       "      <th>volumeEvents</th>\n",
       "      <th>volumeUsers</th>\n",
       "      <th>eventsPeruser</th>\n",
       "    </tr>\n",
       "  </thead>\n",
       "  <tbody>\n",
       "    <tr>\n",
       "      <th>1</th>\n",
       "      <td>mobile</td>\n",
       "      <td>15200277</td>\n",
       "      <td>480279</td>\n",
       "      <td>89.829086</td>\n",
       "      <td>87.134768</td>\n",
       "      <td>31.648848</td>\n",
       "    </tr>\n",
       "    <tr>\n",
       "      <th>2</th>\n",
       "      <td>desktop</td>\n",
       "      <td>1547187</td>\n",
       "      <td>64858</td>\n",
       "      <td>9.143412</td>\n",
       "      <td>11.766883</td>\n",
       "      <td>23.854991</td>\n",
       "    </tr>\n",
       "    <tr>\n",
       "      <th>3</th>\n",
       "      <td>tablet</td>\n",
       "      <td>173867</td>\n",
       "      <td>6054</td>\n",
       "      <td>1.027502</td>\n",
       "      <td>1.098349</td>\n",
       "      <td>28.719359</td>\n",
       "    </tr>\n",
       "  </tbody>\n",
       "</table>\n",
       "</div>"
      ],
      "text/plain": [
       "  devicetype  nof_events  nof_users  volumeEvents  volumeUsers  eventsPeruser\n",
       "1     mobile    15200277     480279     89.829086    87.134768      31.648848\n",
       "2    desktop     1547187      64858      9.143412    11.766883      23.854991\n",
       "3     tablet      173867       6054      1.027502     1.098349      28.719359"
      ]
     },
     "execution_count": 44,
     "metadata": {},
     "output_type": "execute_result"
    }
   ],
   "source": [
    "df_clean.sort_values('volumeUsers',ascending =False)"
   ]
  },
  {
   "cell_type": "markdown",
   "metadata": {},
   "source": [
    "# Now \n",
    "\n",
    "![](pictures/your_turn.png)\n",
    "\n"
   ]
  },
  {
   "cell_type": "markdown",
   "metadata": {},
   "source": [
    "# Run the following query"
   ]
  },
  {
   "cell_type": "code",
   "execution_count": 6,
   "metadata": {
    "collapsed": false
   },
   "outputs": [
    {
     "name": "stdout",
     "output_type": "stream",
     "text": [
      "CPU times: user 1min 41s, sys: 3.9 s, total: 1min 44s\n",
      "Wall time: 11min 12s\n"
     ]
    }
   ],
   "source": [
    "%%time\n",
    "# Doing a simple query of the events in one hour\n",
    "query = \"\"\"\n",
    "SELECT\n",
    "  environmentid,\n",
    "  providerproducttype,\n",
    "  devicetype,\n",
    "  isloggedin,\n",
    "  type,\n",
    "  objecttype,\n",
    "  count(*) as nof_events\n",
    "FROM\n",
    "  {}_databox.yellow_pulse_simple_1d\n",
    "GROUP BY\n",
    "  environmentid,\n",
    "  providerproducttype,\n",
    "  devicetype,\n",
    "  isloggedin,\n",
    "  type,\n",
    "  objecttype\n",
    "\"\"\"\n",
    "df = pd.read_sql(query.format(provider), conn)"
   ]
  },
  {
   "cell_type": "code",
   "execution_count": 8,
   "metadata": {
    "collapsed": false
   },
   "outputs": [
    {
     "data": {
      "text/html": [
       "<div>\n",
       "<style scoped>\n",
       "    .dataframe tbody tr th:only-of-type {\n",
       "        vertical-align: middle;\n",
       "    }\n",
       "\n",
       "    .dataframe tbody tr th {\n",
       "        vertical-align: top;\n",
       "    }\n",
       "\n",
       "    .dataframe thead th {\n",
       "        text-align: right;\n",
       "    }\n",
       "</style>\n",
       "<table border=\"1\" class=\"dataframe\">\n",
       "  <thead>\n",
       "    <tr style=\"text-align: right;\">\n",
       "      <th></th>\n",
       "      <th>environmentid</th>\n",
       "      <th>providerproducttype</th>\n",
       "      <th>devicetype</th>\n",
       "      <th>isloggedin</th>\n",
       "      <th>type</th>\n",
       "      <th>objecttype</th>\n",
       "      <th>nof_events</th>\n",
       "      <th>platform</th>\n",
       "    </tr>\n",
       "  </thead>\n",
       "  <tbody>\n",
       "    <tr>\n",
       "      <th>0</th>\n",
       "      <td>sdrn:schibsted:environment:e53c8861-d45b-4831-...</td>\n",
       "      <td>n/a</td>\n",
       "      <td>mobile</td>\n",
       "      <td>False</td>\n",
       "      <td>View</td>\n",
       "      <td>Listing</td>\n",
       "      <td>10</td>\n",
       "      <td>Web - mobile</td>\n",
       "    </tr>\n",
       "    <tr>\n",
       "      <th>1</th>\n",
       "      <td>sdrn:schibsted:environment:8b733f0f-dc8d-4f14-...</td>\n",
       "      <td>n/a</td>\n",
       "      <td>mobile</td>\n",
       "      <td>False</td>\n",
       "      <td>View</td>\n",
       "      <td>Listing</td>\n",
       "      <td>73</td>\n",
       "      <td>Web - mobile</td>\n",
       "    </tr>\n",
       "    <tr>\n",
       "      <th>2</th>\n",
       "      <td>sdrn:schibsted:environment:07decafb-c1dc-454f-...</td>\n",
       "      <td>AndroidApp</td>\n",
       "      <td>mobile</td>\n",
       "      <td>True</td>\n",
       "      <td>View</td>\n",
       "      <td>Listing</td>\n",
       "      <td>87</td>\n",
       "      <td>Android</td>\n",
       "    </tr>\n",
       "    <tr>\n",
       "      <th>3</th>\n",
       "      <td>sdrn:schibsted:environment:0c3f508c-11f9-49bf-...</td>\n",
       "      <td>AndroidApp</td>\n",
       "      <td>mobile</td>\n",
       "      <td>True</td>\n",
       "      <td>View</td>\n",
       "      <td>ClassifiedAd</td>\n",
       "      <td>55</td>\n",
       "      <td>Android</td>\n",
       "    </tr>\n",
       "    <tr>\n",
       "      <th>4</th>\n",
       "      <td>sdrn:schibsted:environment:447cb6d0-434f-4856-...</td>\n",
       "      <td>AndroidApp</td>\n",
       "      <td>mobile</td>\n",
       "      <td>False</td>\n",
       "      <td>View</td>\n",
       "      <td>ClassifiedAd</td>\n",
       "      <td>79</td>\n",
       "      <td>Android</td>\n",
       "    </tr>\n",
       "  </tbody>\n",
       "</table>\n",
       "</div>"
      ],
      "text/plain": [
       "                                       environmentid providerproducttype  \\\n",
       "0  sdrn:schibsted:environment:e53c8861-d45b-4831-...                 n/a   \n",
       "1  sdrn:schibsted:environment:8b733f0f-dc8d-4f14-...                 n/a   \n",
       "2  sdrn:schibsted:environment:07decafb-c1dc-454f-...          AndroidApp   \n",
       "3  sdrn:schibsted:environment:0c3f508c-11f9-49bf-...          AndroidApp   \n",
       "4  sdrn:schibsted:environment:447cb6d0-434f-4856-...          AndroidApp   \n",
       "\n",
       "  devicetype  isloggedin  type    objecttype  nof_events      platform  \n",
       "0     mobile       False  View       Listing          10  Web - mobile  \n",
       "1     mobile       False  View       Listing          73  Web - mobile  \n",
       "2     mobile        True  View       Listing          87       Android  \n",
       "3     mobile        True  View  ClassifiedAd          55       Android  \n",
       "4     mobile       False  View  ClassifiedAd          79       Android  "
      ]
     },
     "execution_count": 8,
     "metadata": {},
     "output_type": "execute_result"
    }
   ],
   "source": [
    "df.head()"
   ]
  },
  {
   "cell_type": "markdown",
   "metadata": {},
   "source": [
    "## ** Exercise 1 **:\n",
    "\n",
    "Write a function (use *def*) in python to extract from the fields **devicetype** and **providerproducttype**  the platform associated to the event. The result of platform feature must be: *iOS*, *Android*, *Web* or *Undefined*\n",
    "\n",
    "Apply this function to create a new column called **platform** and answer the following questions:\n",
    "\n",
    "1.1 How many users are come from every platform? \n",
    "\n",
    "1.2 Out of all events what is the percentage of Listings and ClassifiedAds in every platform?\n",
    "\n",
    "\n",
    "> Please write the results in the cardboard of the site that you are studying"
   ]
  },
  {
   "cell_type": "code",
   "execution_count": null,
   "metadata": {
    "collapsed": true
   },
   "outputs": [],
   "source": [
    "def getPlatform(row):\n",
    "    if row.devicetype == \"desktop\":\n",
    "        return \"Web - desktop\"\n",
    "    elif \"Android\" in str(row.providerproducttype):\n",
    "        return \"Android\"\n",
    "    elif \"iOS\" in str(row.providerproducttype):\n",
    "        return \"iOS\"\n",
    "    elif row.devicetype == \"mobile\" and row.providerproducttype is None:\n",
    "        return \"Web - mobile\"\n",
    "    else:\n",
    "        return \"Undefined\""
   ]
  },
  {
   "cell_type": "code",
   "execution_count": 49,
   "metadata": {
    "collapsed": false
   },
   "outputs": [
    {
     "name": "stdout",
     "output_type": "stream",
     "text": [
      "CPU times: user 1min 12s, sys: 257 ms, total: 1min 12s\n",
      "Wall time: 1min 13s\n"
     ]
    }
   ],
   "source": [
    "%%time\n",
    "## df.apply is very slow (it's basically a \"for loop\"), we prefer vectorized approach, see times below\n",
    "\n",
    "df[\"platform\"] = df.apply(lambda row: getPlatform(row), axis=1)"
   ]
  },
  {
   "cell_type": "code",
   "execution_count": 7,
   "metadata": {
    "collapsed": false
   },
   "outputs": [
    {
     "name": "stdout",
     "output_type": "stream",
     "text": [
      "CPU times: user 3.07 s, sys: 106 ms, total: 3.18 s\n",
      "Wall time: 3.19 s\n"
     ]
    }
   ],
   "source": [
    "%%time\n",
    "df[\"platform\"] = \"Undefined\"\n",
    "df.providerproducttype = df.providerproducttype.fillna(\"n/a\")\n",
    "df.loc[df.devicetype == \"desktop\", \"platform\"] = \"Web - desktop\"\n",
    "df.loc[(df.devicetype == \"mobile\") & (df.providerproducttype == \"n/a\"), \"platform\"] = \"Web - mobile\"\n",
    "df.loc[df.providerproducttype.str.contains(\"Android\", na=False), \"platform\"] = \"Android\"\n",
    "df.loc[df.providerproducttype.str.contains(\"iOS\", na=False), \"platform\"] = \"iOS\""
   ]
  },
  {
   "cell_type": "code",
   "execution_count": 9,
   "metadata": {
    "collapsed": false
   },
   "outputs": [
    {
     "data": {
      "text/html": [
       "<div>\n",
       "<style scoped>\n",
       "    .dataframe tbody tr th:only-of-type {\n",
       "        vertical-align: middle;\n",
       "    }\n",
       "\n",
       "    .dataframe tbody tr th {\n",
       "        vertical-align: top;\n",
       "    }\n",
       "\n",
       "    .dataframe thead th {\n",
       "        text-align: right;\n",
       "    }\n",
       "</style>\n",
       "<table border=\"1\" class=\"dataframe\">\n",
       "  <thead>\n",
       "    <tr style=\"text-align: right;\">\n",
       "      <th></th>\n",
       "      <th>environmentid</th>\n",
       "      <th>providerproducttype</th>\n",
       "      <th>devicetype</th>\n",
       "      <th>isloggedin</th>\n",
       "      <th>type</th>\n",
       "      <th>objecttype</th>\n",
       "      <th>nof_events</th>\n",
       "      <th>platform</th>\n",
       "    </tr>\n",
       "  </thead>\n",
       "  <tbody>\n",
       "    <tr>\n",
       "      <th>0</th>\n",
       "      <td>sdrn:schibsted:environment:e53c8861-d45b-4831-...</td>\n",
       "      <td>n/a</td>\n",
       "      <td>mobile</td>\n",
       "      <td>False</td>\n",
       "      <td>View</td>\n",
       "      <td>Listing</td>\n",
       "      <td>10</td>\n",
       "      <td>Web - mobile</td>\n",
       "    </tr>\n",
       "    <tr>\n",
       "      <th>1</th>\n",
       "      <td>sdrn:schibsted:environment:8b733f0f-dc8d-4f14-...</td>\n",
       "      <td>n/a</td>\n",
       "      <td>mobile</td>\n",
       "      <td>False</td>\n",
       "      <td>View</td>\n",
       "      <td>Listing</td>\n",
       "      <td>73</td>\n",
       "      <td>Web - mobile</td>\n",
       "    </tr>\n",
       "    <tr>\n",
       "      <th>2</th>\n",
       "      <td>sdrn:schibsted:environment:07decafb-c1dc-454f-...</td>\n",
       "      <td>AndroidApp</td>\n",
       "      <td>mobile</td>\n",
       "      <td>True</td>\n",
       "      <td>View</td>\n",
       "      <td>Listing</td>\n",
       "      <td>87</td>\n",
       "      <td>Android</td>\n",
       "    </tr>\n",
       "    <tr>\n",
       "      <th>3</th>\n",
       "      <td>sdrn:schibsted:environment:0c3f508c-11f9-49bf-...</td>\n",
       "      <td>AndroidApp</td>\n",
       "      <td>mobile</td>\n",
       "      <td>True</td>\n",
       "      <td>View</td>\n",
       "      <td>ClassifiedAd</td>\n",
       "      <td>55</td>\n",
       "      <td>Android</td>\n",
       "    </tr>\n",
       "    <tr>\n",
       "      <th>4</th>\n",
       "      <td>sdrn:schibsted:environment:447cb6d0-434f-4856-...</td>\n",
       "      <td>AndroidApp</td>\n",
       "      <td>mobile</td>\n",
       "      <td>False</td>\n",
       "      <td>View</td>\n",
       "      <td>ClassifiedAd</td>\n",
       "      <td>79</td>\n",
       "      <td>Android</td>\n",
       "    </tr>\n",
       "    <tr>\n",
       "      <th>5</th>\n",
       "      <td>sdrn:schibsted:environment:7cd21b2c-9e6f-4166-...</td>\n",
       "      <td>AndroidApp</td>\n",
       "      <td>mobile</td>\n",
       "      <td>True</td>\n",
       "      <td>View</td>\n",
       "      <td>ClassifiedAd</td>\n",
       "      <td>50</td>\n",
       "      <td>Android</td>\n",
       "    </tr>\n",
       "    <tr>\n",
       "      <th>6</th>\n",
       "      <td>sdrn:schibsted:environment:bf7628c1-4b37-4292-...</td>\n",
       "      <td>AndroidApp</td>\n",
       "      <td>mobile</td>\n",
       "      <td>False</td>\n",
       "      <td>View</td>\n",
       "      <td>Listing</td>\n",
       "      <td>13</td>\n",
       "      <td>Android</td>\n",
       "    </tr>\n",
       "    <tr>\n",
       "      <th>7</th>\n",
       "      <td>sdrn:schibsted:environment:4fcdbe75-c0dd-4395-...</td>\n",
       "      <td>n/a</td>\n",
       "      <td>mobile</td>\n",
       "      <td>False</td>\n",
       "      <td>View</td>\n",
       "      <td>Listing</td>\n",
       "      <td>40</td>\n",
       "      <td>Web - mobile</td>\n",
       "    </tr>\n",
       "    <tr>\n",
       "      <th>8</th>\n",
       "      <td>sdrn:schibsted:environment:f0160e7a-5d1c-4809-...</td>\n",
       "      <td>n/a</td>\n",
       "      <td>mobile</td>\n",
       "      <td>False</td>\n",
       "      <td>View</td>\n",
       "      <td>Page</td>\n",
       "      <td>3</td>\n",
       "      <td>Web - mobile</td>\n",
       "    </tr>\n",
       "    <tr>\n",
       "      <th>9</th>\n",
       "      <td>sdrn:schibsted:environment:65590ae1-a6ef-4bb5-...</td>\n",
       "      <td>iOSApp</td>\n",
       "      <td>mobile</td>\n",
       "      <td>False</td>\n",
       "      <td>View</td>\n",
       "      <td>Listing</td>\n",
       "      <td>66</td>\n",
       "      <td>iOS</td>\n",
       "    </tr>\n",
       "  </tbody>\n",
       "</table>\n",
       "</div>"
      ],
      "text/plain": [
       "                                       environmentid providerproducttype  \\\n",
       "0  sdrn:schibsted:environment:e53c8861-d45b-4831-...                 n/a   \n",
       "1  sdrn:schibsted:environment:8b733f0f-dc8d-4f14-...                 n/a   \n",
       "2  sdrn:schibsted:environment:07decafb-c1dc-454f-...          AndroidApp   \n",
       "3  sdrn:schibsted:environment:0c3f508c-11f9-49bf-...          AndroidApp   \n",
       "4  sdrn:schibsted:environment:447cb6d0-434f-4856-...          AndroidApp   \n",
       "5  sdrn:schibsted:environment:7cd21b2c-9e6f-4166-...          AndroidApp   \n",
       "6  sdrn:schibsted:environment:bf7628c1-4b37-4292-...          AndroidApp   \n",
       "7  sdrn:schibsted:environment:4fcdbe75-c0dd-4395-...                 n/a   \n",
       "8  sdrn:schibsted:environment:f0160e7a-5d1c-4809-...                 n/a   \n",
       "9  sdrn:schibsted:environment:65590ae1-a6ef-4bb5-...              iOSApp   \n",
       "\n",
       "  devicetype  isloggedin  type    objecttype  nof_events      platform  \n",
       "0     mobile       False  View       Listing          10  Web - mobile  \n",
       "1     mobile       False  View       Listing          73  Web - mobile  \n",
       "2     mobile        True  View       Listing          87       Android  \n",
       "3     mobile        True  View  ClassifiedAd          55       Android  \n",
       "4     mobile       False  View  ClassifiedAd          79       Android  \n",
       "5     mobile        True  View  ClassifiedAd          50       Android  \n",
       "6     mobile       False  View       Listing          13       Android  \n",
       "7     mobile       False  View       Listing          40  Web - mobile  \n",
       "8     mobile       False  View          Page           3  Web - mobile  \n",
       "9     mobile       False  View       Listing          66           iOS  "
      ]
     },
     "execution_count": 9,
     "metadata": {},
     "output_type": "execute_result"
    }
   ],
   "source": [
    "df.head(10)"
   ]
  },
  {
   "cell_type": "markdown",
   "metadata": {},
   "source": [
    "> 1.1 How many users are come from every platform? "
   ]
  },
  {
   "cell_type": "code",
   "execution_count": 54,
   "metadata": {
    "collapsed": false
   },
   "outputs": [
    {
     "data": {
      "text/plain": [
       "platform\n",
       "Android          148229\n",
       "Undefined          4977\n",
       "Web - desktop     64858\n",
       "Web - mobile     306996\n",
       "iOS               40913\n",
       "Name: environmentid, dtype: int64"
      ]
     },
     "execution_count": 54,
     "metadata": {},
     "output_type": "execute_result"
    }
   ],
   "source": [
    "agg_plat_dau = df.groupby('platform')['environmentid'].nunique()\n",
    "agg_plat_dau"
   ]
  },
  {
   "cell_type": "code",
   "execution_count": 55,
   "metadata": {
    "collapsed": false
   },
   "outputs": [
    {
     "data": {
      "text/plain": [
       "565973"
      ]
     },
     "execution_count": 55,
     "metadata": {},
     "output_type": "execute_result"
    }
   ],
   "source": [
    "agg_plat_dau.sum()"
   ]
  },
  {
   "cell_type": "code",
   "execution_count": 57,
   "metadata": {
    "collapsed": false
   },
   "outputs": [
    {
     "data": {
      "text/plain": [
       "platform\n",
       "Android          26.190119\n",
       "Undefined         0.879371\n",
       "Web - desktop    11.459557\n",
       "Web - mobile     54.242163\n",
       "iOS               7.228790\n",
       "Name: environmentid, dtype: float64"
      ]
     },
     "execution_count": 57,
     "metadata": {},
     "output_type": "execute_result"
    }
   ],
   "source": [
    "100* agg_plat_dau/agg_plat_dau.sum()"
   ]
  },
  {
   "cell_type": "markdown",
   "metadata": {},
   "source": [
    "> 1.2 What is the percentage of Listings and ClassifiedAds in every platform?\n"
   ]
  },
  {
   "cell_type": "code",
   "execution_count": 73,
   "metadata": {
    "collapsed": false
   },
   "outputs": [
    {
     "data": {
      "text/html": [
       "<div>\n",
       "<style scoped>\n",
       "    .dataframe tbody tr th:only-of-type {\n",
       "        vertical-align: middle;\n",
       "    }\n",
       "\n",
       "    .dataframe tbody tr th {\n",
       "        vertical-align: top;\n",
       "    }\n",
       "\n",
       "    .dataframe thead th {\n",
       "        text-align: right;\n",
       "    }\n",
       "</style>\n",
       "<table border=\"1\" class=\"dataframe\">\n",
       "  <thead>\n",
       "    <tr style=\"text-align: right;\">\n",
       "      <th></th>\n",
       "      <th>platform</th>\n",
       "      <th>nof_events</th>\n",
       "    </tr>\n",
       "  </thead>\n",
       "  <tbody>\n",
       "    <tr>\n",
       "      <th>0</th>\n",
       "      <td>Android</td>\n",
       "      <td>6771844</td>\n",
       "    </tr>\n",
       "    <tr>\n",
       "      <th>1</th>\n",
       "      <td>Undefined</td>\n",
       "      <td>134675</td>\n",
       "    </tr>\n",
       "    <tr>\n",
       "      <th>2</th>\n",
       "      <td>Web - desktop</td>\n",
       "      <td>1547187</td>\n",
       "    </tr>\n",
       "    <tr>\n",
       "      <th>3</th>\n",
       "      <td>Web - mobile</td>\n",
       "      <td>6636672</td>\n",
       "    </tr>\n",
       "    <tr>\n",
       "      <th>4</th>\n",
       "      <td>iOS</td>\n",
       "      <td>1853173</td>\n",
       "    </tr>\n",
       "  </tbody>\n",
       "</table>\n",
       "</div>"
      ],
      "text/plain": [
       "        platform  nof_events\n",
       "0        Android     6771844\n",
       "1      Undefined      134675\n",
       "2  Web - desktop     1547187\n",
       "3   Web - mobile     6636672\n",
       "4            iOS     1853173"
      ]
     },
     "execution_count": 73,
     "metadata": {},
     "output_type": "execute_result"
    }
   ],
   "source": [
    "total_events = df.groupby('platform').agg({'nof_events': 'sum'}).reset_index()\n",
    "total_events"
   ]
  },
  {
   "cell_type": "code",
   "execution_count": 67,
   "metadata": {
    "collapsed": false
   },
   "outputs": [
    {
     "data": {
      "text/plain": [
       "platform       objecttype  \n",
       "Android        ClassifiedAd    2231978\n",
       "               Listing         3971555\n",
       "Undefined      ClassifiedAd      45721\n",
       "               Listing           76656\n",
       "Web - desktop  ClassifiedAd     537948\n",
       "Name: nof_events, dtype: int64"
      ]
     },
     "execution_count": 67,
     "metadata": {},
     "output_type": "execute_result"
    }
   ],
   "source": [
    "df_platforms = df[df[\"objecttype\"].isin([\"ClassifiedAd\", \"Listing\"])].groupby(['platform','objecttype'])['nof_events'].sum()\n",
    "df_platforms.head()"
   ]
  },
  {
   "cell_type": "code",
   "execution_count": 70,
   "metadata": {
    "collapsed": false
   },
   "outputs": [
    {
     "data": {
      "text/html": [
       "<div>\n",
       "<style scoped>\n",
       "    .dataframe tbody tr th:only-of-type {\n",
       "        vertical-align: middle;\n",
       "    }\n",
       "\n",
       "    .dataframe tbody tr th {\n",
       "        vertical-align: top;\n",
       "    }\n",
       "\n",
       "    .dataframe thead th {\n",
       "        text-align: right;\n",
       "    }\n",
       "</style>\n",
       "<table border=\"1\" class=\"dataframe\">\n",
       "  <thead>\n",
       "    <tr style=\"text-align: right;\">\n",
       "      <th>objecttype</th>\n",
       "      <th>ClassifiedAd</th>\n",
       "      <th>Listing</th>\n",
       "    </tr>\n",
       "    <tr>\n",
       "      <th>platform</th>\n",
       "      <th></th>\n",
       "      <th></th>\n",
       "    </tr>\n",
       "  </thead>\n",
       "  <tbody>\n",
       "    <tr>\n",
       "      <th>Android</th>\n",
       "      <td>2231978</td>\n",
       "      <td>3971555</td>\n",
       "    </tr>\n",
       "    <tr>\n",
       "      <th>Undefined</th>\n",
       "      <td>45721</td>\n",
       "      <td>76656</td>\n",
       "    </tr>\n",
       "    <tr>\n",
       "      <th>Web - desktop</th>\n",
       "      <td>537948</td>\n",
       "      <td>827753</td>\n",
       "    </tr>\n",
       "    <tr>\n",
       "      <th>Web - mobile</th>\n",
       "      <td>2194076</td>\n",
       "      <td>3878582</td>\n",
       "    </tr>\n",
       "    <tr>\n",
       "      <th>iOS</th>\n",
       "      <td>737869</td>\n",
       "      <td>535479</td>\n",
       "    </tr>\n",
       "  </tbody>\n",
       "</table>\n",
       "</div>"
      ],
      "text/plain": [
       "objecttype     ClassifiedAd  Listing\n",
       "platform                            \n",
       "Android             2231978  3971555\n",
       "Undefined             45721    76656\n",
       "Web - desktop        537948   827753\n",
       "Web - mobile        2194076  3878582\n",
       "iOS                  737869   535479"
      ]
     },
     "execution_count": 70,
     "metadata": {},
     "output_type": "execute_result"
    }
   ],
   "source": [
    "lis_av_per_platform = df_platforms.reset_index().pivot_table(index='platform',columns='objecttype',values='nof_events')\n",
    "lis_av_per_platform"
   ]
  },
  {
   "cell_type": "code",
   "execution_count": 75,
   "metadata": {
    "collapsed": false
   },
   "outputs": [],
   "source": [
    "result = total_events.merge(lis_av_per_platform, on='platform', how='left')"
   ]
  },
  {
   "cell_type": "code",
   "execution_count": 76,
   "metadata": {
    "collapsed": false
   },
   "outputs": [
    {
     "data": {
      "text/html": [
       "<div>\n",
       "<style scoped>\n",
       "    .dataframe tbody tr th:only-of-type {\n",
       "        vertical-align: middle;\n",
       "    }\n",
       "\n",
       "    .dataframe tbody tr th {\n",
       "        vertical-align: top;\n",
       "    }\n",
       "\n",
       "    .dataframe thead th {\n",
       "        text-align: right;\n",
       "    }\n",
       "</style>\n",
       "<table border=\"1\" class=\"dataframe\">\n",
       "  <thead>\n",
       "    <tr style=\"text-align: right;\">\n",
       "      <th></th>\n",
       "      <th>platform</th>\n",
       "      <th>nof_events</th>\n",
       "      <th>ClassifiedAd</th>\n",
       "      <th>Listing</th>\n",
       "    </tr>\n",
       "  </thead>\n",
       "  <tbody>\n",
       "    <tr>\n",
       "      <th>0</th>\n",
       "      <td>Android</td>\n",
       "      <td>6771844</td>\n",
       "      <td>2231978</td>\n",
       "      <td>3971555</td>\n",
       "    </tr>\n",
       "    <tr>\n",
       "      <th>1</th>\n",
       "      <td>Undefined</td>\n",
       "      <td>134675</td>\n",
       "      <td>45721</td>\n",
       "      <td>76656</td>\n",
       "    </tr>\n",
       "    <tr>\n",
       "      <th>2</th>\n",
       "      <td>Web - desktop</td>\n",
       "      <td>1547187</td>\n",
       "      <td>537948</td>\n",
       "      <td>827753</td>\n",
       "    </tr>\n",
       "    <tr>\n",
       "      <th>3</th>\n",
       "      <td>Web - mobile</td>\n",
       "      <td>6636672</td>\n",
       "      <td>2194076</td>\n",
       "      <td>3878582</td>\n",
       "    </tr>\n",
       "    <tr>\n",
       "      <th>4</th>\n",
       "      <td>iOS</td>\n",
       "      <td>1853173</td>\n",
       "      <td>737869</td>\n",
       "      <td>535479</td>\n",
       "    </tr>\n",
       "  </tbody>\n",
       "</table>\n",
       "</div>"
      ],
      "text/plain": [
       "        platform  nof_events  ClassifiedAd  Listing\n",
       "0        Android     6771844       2231978  3971555\n",
       "1      Undefined      134675         45721    76656\n",
       "2  Web - desktop     1547187        537948   827753\n",
       "3   Web - mobile     6636672       2194076  3878582\n",
       "4            iOS     1853173        737869   535479"
      ]
     },
     "execution_count": 76,
     "metadata": {},
     "output_type": "execute_result"
    }
   ],
   "source": [
    "result"
   ]
  },
  {
   "cell_type": "code",
   "execution_count": 77,
   "metadata": {
    "collapsed": true
   },
   "outputs": [],
   "source": [
    "result['vol_Listings'] = 100 * result['Listing'] / result['nof_events']\n",
    "result['vol_Adviews'] = 100 * result['ClassifiedAd'] / result['nof_events']"
   ]
  },
  {
   "cell_type": "code",
   "execution_count": 85,
   "metadata": {
    "collapsed": false
   },
   "outputs": [
    {
     "data": {
      "text/html": [
       "<div>\n",
       "<style scoped>\n",
       "    .dataframe tbody tr th:only-of-type {\n",
       "        vertical-align: middle;\n",
       "    }\n",
       "\n",
       "    .dataframe tbody tr th {\n",
       "        vertical-align: top;\n",
       "    }\n",
       "\n",
       "    .dataframe thead th {\n",
       "        text-align: right;\n",
       "    }\n",
       "</style>\n",
       "<table border=\"1\" class=\"dataframe\">\n",
       "  <thead>\n",
       "    <tr style=\"text-align: right;\">\n",
       "      <th></th>\n",
       "      <th>platform</th>\n",
       "      <th>nof_events</th>\n",
       "      <th>ClassifiedAd</th>\n",
       "      <th>Listing</th>\n",
       "      <th>vol_Listings</th>\n",
       "      <th>vol_Adviews</th>\n",
       "    </tr>\n",
       "  </thead>\n",
       "  <tbody>\n",
       "    <tr>\n",
       "      <th>0</th>\n",
       "      <td>Android</td>\n",
       "      <td>6771844</td>\n",
       "      <td>2231978</td>\n",
       "      <td>3971555</td>\n",
       "      <td>58.648058</td>\n",
       "      <td>32.959678</td>\n",
       "    </tr>\n",
       "    <tr>\n",
       "      <th>1</th>\n",
       "      <td>Undefined</td>\n",
       "      <td>134675</td>\n",
       "      <td>45721</td>\n",
       "      <td>76656</td>\n",
       "      <td>56.919250</td>\n",
       "      <td>33.949137</td>\n",
       "    </tr>\n",
       "    <tr>\n",
       "      <th>2</th>\n",
       "      <td>Web - desktop</td>\n",
       "      <td>1547187</td>\n",
       "      <td>537948</td>\n",
       "      <td>827753</td>\n",
       "      <td>53.500514</td>\n",
       "      <td>34.769423</td>\n",
       "    </tr>\n",
       "    <tr>\n",
       "      <th>3</th>\n",
       "      <td>Web - mobile</td>\n",
       "      <td>6636672</td>\n",
       "      <td>2194076</td>\n",
       "      <td>3878582</td>\n",
       "      <td>58.441671</td>\n",
       "      <td>33.059883</td>\n",
       "    </tr>\n",
       "    <tr>\n",
       "      <th>4</th>\n",
       "      <td>iOS</td>\n",
       "      <td>1853173</td>\n",
       "      <td>737869</td>\n",
       "      <td>535479</td>\n",
       "      <td>28.895252</td>\n",
       "      <td>39.816520</td>\n",
       "    </tr>\n",
       "  </tbody>\n",
       "</table>\n",
       "</div>"
      ],
      "text/plain": [
       "        platform  nof_events  ClassifiedAd  Listing  vol_Listings  vol_Adviews\n",
       "0        Android     6771844       2231978  3971555     58.648058    32.959678\n",
       "1      Undefined      134675         45721    76656     56.919250    33.949137\n",
       "2  Web - desktop     1547187        537948   827753     53.500514    34.769423\n",
       "3   Web - mobile     6636672       2194076  3878582     58.441671    33.059883\n",
       "4            iOS     1853173        737869   535479     28.895252    39.816520"
      ]
     },
     "execution_count": 85,
     "metadata": {},
     "output_type": "execute_result"
    }
   ],
   "source": [
    "result"
   ]
  },
  {
   "cell_type": "code",
   "execution_count": 87,
   "metadata": {
    "collapsed": false
   },
   "outputs": [
    {
     "data": {
      "text/plain": [
       "<matplotlib.axes._subplots.AxesSubplot at 0x140577400>"
      ]
     },
     "execution_count": 87,
     "metadata": {},
     "output_type": "execute_result"
    },
    {
     "data": {
      "image/png": "[encoded data removed]",
      "text/plain": [
       "<matplotlib.figure.Figure at 0x140ffda58>"
      ]
     },
     "metadata": {},
     "output_type": "display_data"
    }
   ],
   "source": [
    "result.index = result.platform\n",
    "result[['vol_Listings','vol_Adviews']].plot(kind='barh')"
   ]
  },
  {
   "cell_type": "markdown",
   "metadata": {},
   "source": [
    "## **Exercise 2**:\n",
    "\n",
    "There is a field called **isloggedin** which is refered events when the user is logged.\n",
    "\n",
    "2.1 What's the percentage of browsers that are logged users?\n",
    "\n",
    "> Please write the results in the cardboard of the site that you are studying"
   ]
  },
  {
   "cell_type": "code",
   "execution_count": 91,
   "metadata": {
    "collapsed": false
   },
   "outputs": [
    {
     "data": {
      "text/html": [
       "<div>\n",
       "<style scoped>\n",
       "    .dataframe tbody tr th:only-of-type {\n",
       "        vertical-align: middle;\n",
       "    }\n",
       "\n",
       "    .dataframe tbody tr th {\n",
       "        vertical-align: top;\n",
       "    }\n",
       "\n",
       "    .dataframe thead th {\n",
       "        text-align: right;\n",
       "    }\n",
       "</style>\n",
       "<table border=\"1\" class=\"dataframe\">\n",
       "  <thead>\n",
       "    <tr style=\"text-align: right;\">\n",
       "      <th>isloggedin</th>\n",
       "      <th>False</th>\n",
       "      <th>True</th>\n",
       "    </tr>\n",
       "    <tr>\n",
       "      <th>environmentid</th>\n",
       "      <th></th>\n",
       "      <th></th>\n",
       "    </tr>\n",
       "  </thead>\n",
       "  <tbody>\n",
       "    <tr>\n",
       "      <th>sdrn:schibsted:environment:000024fa-0edb-4c2c-9790-e1a5ad503faa</th>\n",
       "      <td>381.0</td>\n",
       "      <td>0.0</td>\n",
       "    </tr>\n",
       "    <tr>\n",
       "      <th>sdrn:schibsted:environment:000038b8-9ae4-41d1-91fa-206f59601f87</th>\n",
       "      <td>17.0</td>\n",
       "      <td>0.0</td>\n",
       "    </tr>\n",
       "    <tr>\n",
       "      <th>sdrn:schibsted:environment:00004a61-1922-4781-983a-0c4465b9ce1d</th>\n",
       "      <td>16.0</td>\n",
       "      <td>0.0</td>\n",
       "    </tr>\n",
       "    <tr>\n",
       "      <th>sdrn:schibsted:environment:000050af-4577-4b59-a142-77974dba2bd3</th>\n",
       "      <td>108.0</td>\n",
       "      <td>0.0</td>\n",
       "    </tr>\n",
       "    <tr>\n",
       "      <th>sdrn:schibsted:environment:00007510-1fff-4cac-a897-4e0547eee9ad</th>\n",
       "      <td>0.0</td>\n",
       "      <td>30.0</td>\n",
       "    </tr>\n",
       "  </tbody>\n",
       "</table>\n",
       "</div>"
      ],
      "text/plain": [
       "isloggedin                                          False  True \n",
       "environmentid                                                   \n",
       "sdrn:schibsted:environment:000024fa-0edb-4c2c-9...  381.0    0.0\n",
       "sdrn:schibsted:environment:000038b8-9ae4-41d1-9...   17.0    0.0\n",
       "sdrn:schibsted:environment:00004a61-1922-4781-9...   16.0    0.0\n",
       "sdrn:schibsted:environment:000050af-4577-4b59-a...  108.0    0.0\n",
       "sdrn:schibsted:environment:00007510-1fff-4cac-a...    0.0   30.0"
      ]
     },
     "execution_count": 91,
     "metadata": {},
     "output_type": "execute_result"
    }
   ],
   "source": [
    "aux = df.groupby(['environmentid', 'isloggedin'], as_index=False)['nof_events'].sum()\n",
    "table = aux.reset_index().pivot_table(index='environmentid',columns='isloggedin',values='nof_events').fillna(0)\n",
    "table.head()"
   ]
  },
  {
   "cell_type": "code",
   "execution_count": 92,
   "metadata": {
    "collapsed": false
   },
   "outputs": [
    {
     "data": {
      "text/plain": [
       "Index([False, True], dtype='object', name='isloggedin')"
      ]
     },
     "execution_count": 92,
     "metadata": {},
     "output_type": "execute_result"
    }
   ],
   "source": [
    "table.columns"
   ]
  },
  {
   "cell_type": "code",
   "execution_count": 99,
   "metadata": {
    "collapsed": false
   },
   "outputs": [],
   "source": [
    "table = table.reset_index()"
   ]
  },
  {
   "cell_type": "code",
   "execution_count": 101,
   "metadata": {
    "collapsed": false
   },
   "outputs": [
    {
     "data": {
      "text/plain": [
       "Index(['environmentid', False, True], dtype='object', name='isloggedin')"
      ]
     },
     "execution_count": 101,
     "metadata": {},
     "output_type": "execute_result"
    }
   ],
   "source": [
    "table.columns"
   ]
  },
  {
   "cell_type": "code",
   "execution_count": 102,
   "metadata": {
    "collapsed": false
   },
   "outputs": [],
   "source": [
    "table['log_user'] = table[True] > 0"
   ]
  },
  {
   "cell_type": "code",
   "execution_count": 105,
   "metadata": {
    "collapsed": false
   },
   "outputs": [
    {
     "data": {
      "text/plain": [
       "False    0.659623\n",
       "True     0.340377\n",
       "Name: log_user, dtype: float64"
      ]
     },
     "execution_count": 105,
     "metadata": {},
     "output_type": "execute_result"
    }
   ],
   "source": [
    "table['log_user'].value_counts(normalize=True)"
   ]
  },
  {
   "cell_type": "code",
   "execution_count": 104,
   "metadata": {
    "collapsed": false
   },
   "outputs": [
    {
     "data": {
      "text/plain": [
       "<matplotlib.axes._subplots.AxesSubplot at 0x13e91a400>"
      ]
     },
     "execution_count": 104,
     "metadata": {},
     "output_type": "execute_result"
    },
    {
     "data": {
      "image/png": "[encoded data removed]",
      "text/plain": [
       "<matplotlib.figure.Figure at 0x13f607438>"
      ]
     },
     "metadata": {},
     "output_type": "display_data"
    }
   ],
   "source": [
    "table['log_user'].value_counts(normalize=True).plot(kind='barh')"
   ]
  },
  {
   "cell_type": "markdown",
   "metadata": {},
   "source": [
    "## **Exercise 3**:\n",
    "\n",
    "If we define as:\n",
    "    \n",
    "**browser**: Active user with at least one Listing View or one Ad View in the session.\n",
    "    \n",
    "**buyer**: Active user who has *contacted* at least one Lister.\n",
    "\n",
    "To *contact* means to do one of the following actions:\n",
    "    \n",
    "Call-->PhoneContact\n",
    "\n",
    "Show-->PhoneContact\n",
    "\n",
    "Send-->Message\n",
    "\n",
    "SMS-->PhoneContact\n",
    "\n",
    "\n",
    "**lister**: Active user who has tried to publish one ad. This is refering to Create-ClassifiedAd event.\n",
    "\n",
    "\n",
    "3.1. Could you compute percentage of browsers, buyer and seller per platform?\n"
   ]
  },
  {
   "cell_type": "code",
   "execution_count": 13,
   "metadata": {
    "collapsed": true
   },
   "outputs": [],
   "source": [
    "browser_mask = (df[\"objecttype\"] == \"Listing\") & (df[\"type\"] == \"View\") | (df[\"objecttype\"] == \"ClassifiedAd\") & (df[\"type\"] == \"View\")\n",
    "buyer_mask = df[\"type\"].isin([\"Call\", \"Show\", \"Send\", \"SMS\"])\n",
    "lister_mask = (df[\"objecttype\"] == \"ClassifiedAd\") & (df[\"type\"] == \"Create\")\n",
    "\n",
    "df[\"isBrowser\"] =  False\n",
    "df[\"isBuyer\"] =  False\n",
    "df[\"isLister\"] =  False\n",
    "\n",
    "df.loc[browser_mask, \"isBrowser\"] = True\n",
    "df.loc[buyer_mask, \"isBuyer\"] = True\n",
    "df.loc[lister_mask, \"isLister\"] = True"
   ]
  },
  {
   "cell_type": "code",
   "execution_count": 14,
   "metadata": {
    "collapsed": false
   },
   "outputs": [],
   "source": [
    "table = df.groupby([\"platform\", \n",
    "                 \"isBrowser\",\n",
    "                 \"isBuyer\",\n",
    "                 \"isLister\"]).agg({'environmentid':'nunique'})"
   ]
  },
  {
   "cell_type": "code",
   "execution_count": 15,
   "metadata": {
    "collapsed": false
   },
   "outputs": [
    {
     "data": {
      "text/html": [
       "<div>\n",
       "<style scoped>\n",
       "    .dataframe tbody tr th:only-of-type {\n",
       "        vertical-align: middle;\n",
       "    }\n",
       "\n",
       "    .dataframe tbody tr th {\n",
       "        vertical-align: top;\n",
       "    }\n",
       "\n",
       "    .dataframe thead th {\n",
       "        text-align: right;\n",
       "    }\n",
       "</style>\n",
       "<table border=\"1\" class=\"dataframe\">\n",
       "  <thead>\n",
       "    <tr style=\"text-align: right;\">\n",
       "      <th></th>\n",
       "      <th></th>\n",
       "      <th></th>\n",
       "      <th></th>\n",
       "      <th>environmentid</th>\n",
       "    </tr>\n",
       "    <tr>\n",
       "      <th>platform</th>\n",
       "      <th>isBrowser</th>\n",
       "      <th>isBuyer</th>\n",
       "      <th>isLister</th>\n",
       "      <th></th>\n",
       "    </tr>\n",
       "  </thead>\n",
       "  <tbody>\n",
       "    <tr>\n",
       "      <th rowspan=\"4\" valign=\"top\">Android</th>\n",
       "      <th rowspan=\"3\" valign=\"top\">False</th>\n",
       "      <th rowspan=\"2\" valign=\"top\">False</th>\n",
       "      <th>False</th>\n",
       "      <td>66222</td>\n",
       "    </tr>\n",
       "    <tr>\n",
       "      <th>True</th>\n",
       "      <td>5096</td>\n",
       "    </tr>\n",
       "    <tr>\n",
       "      <th>True</th>\n",
       "      <th>False</th>\n",
       "      <td>24668</td>\n",
       "    </tr>\n",
       "    <tr>\n",
       "      <th>True</th>\n",
       "      <th>False</th>\n",
       "      <th>False</th>\n",
       "      <td>156604</td>\n",
       "    </tr>\n",
       "    <tr>\n",
       "      <th rowspan=\"3\" valign=\"top\">Undefined</th>\n",
       "      <th rowspan=\"2\" valign=\"top\">False</th>\n",
       "      <th>False</th>\n",
       "      <th>False</th>\n",
       "      <td>2500</td>\n",
       "    </tr>\n",
       "    <tr>\n",
       "      <th>True</th>\n",
       "      <th>False</th>\n",
       "      <td>354</td>\n",
       "    </tr>\n",
       "    <tr>\n",
       "      <th>True</th>\n",
       "      <th>False</th>\n",
       "      <th>False</th>\n",
       "      <td>4077</td>\n",
       "    </tr>\n",
       "    <tr>\n",
       "      <th rowspan=\"3\" valign=\"top\">Web - desktop</th>\n",
       "      <th rowspan=\"2\" valign=\"top\">False</th>\n",
       "      <th>False</th>\n",
       "      <th>False</th>\n",
       "      <td>80458</td>\n",
       "    </tr>\n",
       "    <tr>\n",
       "      <th>True</th>\n",
       "      <th>False</th>\n",
       "      <td>8806</td>\n",
       "    </tr>\n",
       "    <tr>\n",
       "      <th>True</th>\n",
       "      <th>False</th>\n",
       "      <th>False</th>\n",
       "      <td>112284</td>\n",
       "    </tr>\n",
       "    <tr>\n",
       "      <th rowspan=\"3\" valign=\"top\">Web - mobile</th>\n",
       "      <th rowspan=\"2\" valign=\"top\">False</th>\n",
       "      <th>False</th>\n",
       "      <th>False</th>\n",
       "      <td>171454</td>\n",
       "    </tr>\n",
       "    <tr>\n",
       "      <th>True</th>\n",
       "      <th>False</th>\n",
       "      <td>41821</td>\n",
       "    </tr>\n",
       "    <tr>\n",
       "      <th>True</th>\n",
       "      <th>False</th>\n",
       "      <th>False</th>\n",
       "      <td>300815</td>\n",
       "    </tr>\n",
       "    <tr>\n",
       "      <th rowspan=\"4\" valign=\"top\">iOS</th>\n",
       "      <th rowspan=\"3\" valign=\"top\">False</th>\n",
       "      <th rowspan=\"2\" valign=\"top\">False</th>\n",
       "      <th>False</th>\n",
       "      <td>44079</td>\n",
       "    </tr>\n",
       "    <tr>\n",
       "      <th>True</th>\n",
       "      <td>1495</td>\n",
       "    </tr>\n",
       "    <tr>\n",
       "      <th>True</th>\n",
       "      <th>False</th>\n",
       "      <td>4616</td>\n",
       "    </tr>\n",
       "    <tr>\n",
       "      <th>True</th>\n",
       "      <th>False</th>\n",
       "      <th>False</th>\n",
       "      <td>43254</td>\n",
       "    </tr>\n",
       "  </tbody>\n",
       "</table>\n",
       "</div>"
      ],
      "text/plain": [
       "                                          environmentid\n",
       "platform      isBrowser isBuyer isLister               \n",
       "Android       False     False   False             66222\n",
       "                                True               5096\n",
       "                        True    False             24668\n",
       "              True      False   False            156604\n",
       "Undefined     False     False   False              2500\n",
       "                        True    False               354\n",
       "              True      False   False              4077\n",
       "Web - desktop False     False   False             80458\n",
       "                        True    False              8806\n",
       "              True      False   False            112284\n",
       "Web - mobile  False     False   False            171454\n",
       "                        True    False             41821\n",
       "              True      False   False            300815\n",
       "iOS           False     False   False             44079\n",
       "                                True               1495\n",
       "                        True    False              4616\n",
       "              True      False   False             43254"
      ]
     },
     "execution_count": 15,
     "metadata": {},
     "output_type": "execute_result"
    }
   ],
   "source": [
    "table"
   ]
  }
 ],
 "metadata": {
  "kernelspec": {
   "display_name": "Python 3",
   "language": "python",
   "name": "python3"
  },
  "language_info": {
   "codemirror_mode": {
    "name": "ipython",
    "version": 3
   },
   "file_extension": ".py",
   "mimetype": "text/x-python",
   "name": "python",
   "nbconvert_exporter": "python",
   "pygments_lexer": "ipython3",
   "version": "3.7.0"
  }
 },
 "nbformat": 4,
 "nbformat_minor": 2
}

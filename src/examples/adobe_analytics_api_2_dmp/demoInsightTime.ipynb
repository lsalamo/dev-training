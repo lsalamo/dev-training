{
 "cells": [
  {
   "cell_type": "code",
   "execution_count": 1,
   "metadata": {},
   "outputs": [],
   "source": [
    "import aanalytics2 as api2"
   ]
  },
  {
   "cell_type": "markdown",
   "metadata": {},
   "source": [
    "# SETUP"
   ]
  },
  {
   "cell_type": "code",
   "execution_count": 2,
   "metadata": {},
   "outputs": [],
   "source": [
    "api2.importConfigFile(\"config_analytics_api.json\")"
   ]
  },
  {
   "cell_type": "code",
   "execution_count": 3,
   "metadata": {
    "scrolled": true
   },
   "outputs": [
    {
     "data": {
      "text/plain": [
       "[{'globalCompanyId': 'schibs1',\n",
       "  'companyName': 'Schibsted Spain',\n",
       "  'apiRateLimitPolicy': 'aa_api_tier10_tp',\n",
       "  'dpc': 'lon'}]"
      ]
     },
     "execution_count": 3,
     "metadata": {},
     "output_type": "execute_result"
    }
   ],
   "source": [
    "cids = api2.getCompanyId()\n",
    "cids"
   ]
  },
  {
   "cell_type": "code",
   "execution_count": 4,
   "metadata": {},
   "outputs": [
    {
     "data": {
      "text/plain": [
       "'schibs1'"
      ]
     },
     "execution_count": 4,
     "metadata": {},
     "output_type": "execute_result"
    }
   ],
   "source": [
    "select_id = cids[0]['globalCompanyId']\n",
    "select_id"
   ]
  },
  {
   "cell_type": "code",
   "execution_count": 5,
   "metadata": {},
   "outputs": [],
   "source": [
    "api2.updateHeader(select_id)"
   ]
  },
  {
   "cell_type": "code",
   "execution_count": 6,
   "metadata": {},
   "outputs": [],
   "source": [
    "cid = api2.getCompanyId(infos='0')"
   ]
  },
  {
   "cell_type": "code",
   "execution_count": 7,
   "metadata": {},
   "outputs": [
    {
     "data": {
      "text/plain": [
       "'schibs1'"
      ]
     },
     "execution_count": 7,
     "metadata": {},
     "output_type": "execute_result"
    }
   ],
   "source": [
    "cid"
   ]
  },
  {
   "cell_type": "markdown",
   "metadata": {},
   "source": [
    "# get report suites"
   ]
  },
  {
   "cell_type": "code",
   "execution_count": 8,
   "metadata": {},
   "outputs": [],
   "source": [
    "rsids = api2.getReportSuites()"
   ]
  },
  {
   "cell_type": "code",
   "execution_count": 9,
   "metadata": {},
   "outputs": [
    {
     "data": {
      "text/html": [
       "<div>\n",
       "<style scoped>\n",
       "    .dataframe tbody tr th:only-of-type {\n",
       "        vertical-align: middle;\n",
       "    }\n",
       "\n",
       "    .dataframe tbody tr th {\n",
       "        vertical-align: top;\n",
       "    }\n",
       "\n",
       "    .dataframe thead th {\n",
       "        text-align: right;\n",
       "    }\n",
       "</style>\n",
       "<table border=\"1\" class=\"dataframe\">\n",
       "  <thead>\n",
       "    <tr style=\"text-align: right;\">\n",
       "      <th></th>\n",
       "      <th>name</th>\n",
       "      <th>rsid</th>\n",
       "    </tr>\n",
       "  </thead>\n",
       "  <tbody>\n",
       "    <tr>\n",
       "      <th>0</th>\n",
       "      <td>Group Schibstedes Prod</td>\n",
       "      <td>schibstedspaingroupschibstedesprod</td>\n",
       "    </tr>\n",
       "    <tr>\n",
       "      <th>1</th>\n",
       "      <td>Jobs ePreselec Dev</td>\n",
       "      <td>schibstedspainjobsepreselecdev</td>\n",
       "    </tr>\n",
       "    <tr>\n",
       "      <th>2</th>\n",
       "      <td>Jobs ePreselec Prod</td>\n",
       "      <td>schibstedspainjobsepreselecprod</td>\n",
       "    </tr>\n",
       "    <tr>\n",
       "      <th>3</th>\n",
       "      <td>(RAW) Jobs Infojobs Dev</td>\n",
       "      <td>schibstedspainjobsinfojobsdev</td>\n",
       "    </tr>\n",
       "    <tr>\n",
       "      <th>4</th>\n",
       "      <td>(RAW) Jobs InfojobsItaly Dev</td>\n",
       "      <td>schibstedspainjobsinfojobsitalydev</td>\n",
       "    </tr>\n",
       "    <tr>\n",
       "      <th>...</th>\n",
       "      <td>...</td>\n",
       "      <td>...</td>\n",
       "    </tr>\n",
       "    <tr>\n",
       "      <th>73</th>\n",
       "      <td>RealEstate Fotocasa Web Prod (Virtual)</td>\n",
       "      <td>vrs_schibs1_realestatefotocasawe_0</td>\n",
       "    </tr>\n",
       "    <tr>\n",
       "      <th>74</th>\n",
       "      <td>RealEstate Habitaclia</td>\n",
       "      <td>vrs_schibs1_hball</td>\n",
       "    </tr>\n",
       "    <tr>\n",
       "      <th>75</th>\n",
       "      <td>RealEstate Habitaclia Web</td>\n",
       "      <td>vrs_schibs1_hbweb</td>\n",
       "    </tr>\n",
       "    <tr>\n",
       "      <th>76</th>\n",
       "      <td>RealEstate Habitaclia Android</td>\n",
       "      <td>vrs_schibs1_hbandroid</td>\n",
       "    </tr>\n",
       "    <tr>\n",
       "      <th>77</th>\n",
       "      <td>RealEstate Habitaclia IOS</td>\n",
       "      <td>vrs_schibs1_hbios</td>\n",
       "    </tr>\n",
       "  </tbody>\n",
       "</table>\n",
       "<p>78 rows × 2 columns</p>\n",
       "</div>"
      ],
      "text/plain": [
       "                                      name                                rsid\n",
       "0                   Group Schibstedes Prod  schibstedspaingroupschibstedesprod\n",
       "1                       Jobs ePreselec Dev      schibstedspainjobsepreselecdev\n",
       "2                      Jobs ePreselec Prod     schibstedspainjobsepreselecprod\n",
       "3                  (RAW) Jobs Infojobs Dev       schibstedspainjobsinfojobsdev\n",
       "4             (RAW) Jobs InfojobsItaly Dev  schibstedspainjobsinfojobsitalydev\n",
       "..                                     ...                                 ...\n",
       "73  RealEstate Fotocasa Web Prod (Virtual)  vrs_schibs1_realestatefotocasawe_0\n",
       "74                   RealEstate Habitaclia                   vrs_schibs1_hball\n",
       "75               RealEstate Habitaclia Web                   vrs_schibs1_hbweb\n",
       "76           RealEstate Habitaclia Android               vrs_schibs1_hbandroid\n",
       "77               RealEstate Habitaclia IOS                   vrs_schibs1_hbios\n",
       "\n",
       "[78 rows x 2 columns]"
      ]
     },
     "execution_count": 9,
     "metadata": {},
     "output_type": "execute_result"
    }
   ],
   "source": [
    "rsids"
   ]
  },
  {
   "cell_type": "markdown",
   "metadata": {},
   "source": [
    "# get dimensions"
   ]
  },
  {
   "cell_type": "code",
   "execution_count": 10,
   "metadata": {},
   "outputs": [
    {
     "data": {
      "text/html": [
       "<div>\n",
       "<style scoped>\n",
       "    .dataframe tbody tr th:only-of-type {\n",
       "        vertical-align: middle;\n",
       "    }\n",
       "\n",
       "    .dataframe tbody tr th {\n",
       "        vertical-align: top;\n",
       "    }\n",
       "\n",
       "    .dataframe thead th {\n",
       "        text-align: right;\n",
       "    }\n",
       "</style>\n",
       "<table border=\"1\" class=\"dataframe\">\n",
       "  <thead>\n",
       "    <tr style=\"text-align: right;\">\n",
       "      <th></th>\n",
       "      <th>id</th>\n",
       "      <th>name</th>\n",
       "      <th>category</th>\n",
       "      <th>type</th>\n",
       "      <th>parent</th>\n",
       "      <th>pathable</th>\n",
       "      <th>description</th>\n",
       "    </tr>\n",
       "  </thead>\n",
       "  <tbody>\n",
       "    <tr>\n",
       "      <th>0</th>\n",
       "      <td>variables/averagepagetime</td>\n",
       "      <td>Time Spent on Page - Bucketed</td>\n",
       "      <td>Metrics</td>\n",
       "      <td>ordered-enum</td>\n",
       "      <td>NaN</td>\n",
       "      <td>False</td>\n",
       "      <td>NaN</td>\n",
       "    </tr>\n",
       "    <tr>\n",
       "      <th>1</th>\n",
       "      <td>variables/browser</td>\n",
       "      <td>Browser</td>\n",
       "      <td>Audience</td>\n",
       "      <td>string</td>\n",
       "      <td>NaN</td>\n",
       "      <td>False</td>\n",
       "      <td>NaN</td>\n",
       "    </tr>\n",
       "    <tr>\n",
       "      <th>2</th>\n",
       "      <td>variables/browserheight</td>\n",
       "      <td>Browser Height - Granular</td>\n",
       "      <td>Audience</td>\n",
       "      <td>int</td>\n",
       "      <td>NaN</td>\n",
       "      <td>False</td>\n",
       "      <td>NaN</td>\n",
       "    </tr>\n",
       "    <tr>\n",
       "      <th>3</th>\n",
       "      <td>variables/browserheightbucketed</td>\n",
       "      <td>Browser Height - Bucketed</td>\n",
       "      <td>Audience</td>\n",
       "      <td>ordered-enum</td>\n",
       "      <td>NaN</td>\n",
       "      <td>False</td>\n",
       "      <td>NaN</td>\n",
       "    </tr>\n",
       "    <tr>\n",
       "      <th>4</th>\n",
       "      <td>variables/browsertype</td>\n",
       "      <td>Browser Type</td>\n",
       "      <td>Audience</td>\n",
       "      <td>enum</td>\n",
       "      <td>NaN</td>\n",
       "      <td>False</td>\n",
       "      <td>NaN</td>\n",
       "    </tr>\n",
       "    <tr>\n",
       "      <th>...</th>\n",
       "      <td>...</td>\n",
       "      <td>...</td>\n",
       "      <td>...</td>\n",
       "      <td>...</td>\n",
       "      <td>...</td>\n",
       "      <td>...</td>\n",
       "      <td>...</td>\n",
       "    </tr>\n",
       "    <tr>\n",
       "      <th>349</th>\n",
       "      <td>variables/visitpagenum</td>\n",
       "      <td>Visit Page Number</td>\n",
       "      <td>NaN</td>\n",
       "      <td>int</td>\n",
       "      <td>NaN</td>\n",
       "      <td>False</td>\n",
       "      <td>NaN</td>\n",
       "    </tr>\n",
       "    <tr>\n",
       "      <th>350</th>\n",
       "      <td>variables/visitstarttimegmt</td>\n",
       "      <td>Visit Start Time UTC</td>\n",
       "      <td>NaN</td>\n",
       "      <td>time</td>\n",
       "      <td>NaN</td>\n",
       "      <td>False</td>\n",
       "      <td>NaN</td>\n",
       "    </tr>\n",
       "    <tr>\n",
       "      <th>351</th>\n",
       "      <td>variables/weeklyuniquecustomers</td>\n",
       "      <td>Weekly Unique Customers</td>\n",
       "      <td>Customers</td>\n",
       "      <td>int</td>\n",
       "      <td>NaN</td>\n",
       "      <td>False</td>\n",
       "      <td>NaN</td>\n",
       "    </tr>\n",
       "    <tr>\n",
       "      <th>352</th>\n",
       "      <td>variables/yearlyuniquecustomers</td>\n",
       "      <td>Yearly Unique Customers</td>\n",
       "      <td>Customers</td>\n",
       "      <td>int</td>\n",
       "      <td>NaN</td>\n",
       "      <td>False</td>\n",
       "      <td>NaN</td>\n",
       "    </tr>\n",
       "    <tr>\n",
       "      <th>353</th>\n",
       "      <td>variables/zip</td>\n",
       "      <td>Zip Code</td>\n",
       "      <td>Audience</td>\n",
       "      <td>string</td>\n",
       "      <td>NaN</td>\n",
       "      <td>False</td>\n",
       "      <td>NaN</td>\n",
       "    </tr>\n",
       "  </tbody>\n",
       "</table>\n",
       "<p>354 rows × 7 columns</p>\n",
       "</div>"
      ],
      "text/plain": [
       "                                  id                           name  \\\n",
       "0          variables/averagepagetime  Time Spent on Page - Bucketed   \n",
       "1                  variables/browser                        Browser   \n",
       "2            variables/browserheight      Browser Height - Granular   \n",
       "3    variables/browserheightbucketed      Browser Height - Bucketed   \n",
       "4              variables/browsertype                   Browser Type   \n",
       "..                               ...                            ...   \n",
       "349           variables/visitpagenum              Visit Page Number   \n",
       "350      variables/visitstarttimegmt           Visit Start Time UTC   \n",
       "351  variables/weeklyuniquecustomers        Weekly Unique Customers   \n",
       "352  variables/yearlyuniquecustomers        Yearly Unique Customers   \n",
       "353                    variables/zip                       Zip Code   \n",
       "\n",
       "      category          type parent  pathable description  \n",
       "0      Metrics  ordered-enum    NaN     False         NaN  \n",
       "1     Audience        string    NaN     False         NaN  \n",
       "2     Audience           int    NaN     False         NaN  \n",
       "3     Audience  ordered-enum    NaN     False         NaN  \n",
       "4     Audience          enum    NaN     False         NaN  \n",
       "..         ...           ...    ...       ...         ...  \n",
       "349        NaN           int    NaN     False         NaN  \n",
       "350        NaN          time    NaN     False         NaN  \n",
       "351  Customers           int    NaN     False         NaN  \n",
       "352  Customers           int    NaN     False         NaN  \n",
       "353   Audience        string    NaN     False         NaN  \n",
       "\n",
       "[354 rows x 7 columns]"
      ]
     },
     "execution_count": 10,
     "metadata": {},
     "output_type": "execute_result"
    }
   ],
   "source": [
    "dimensions = api2.getDimensions('schibstedspainjobsinfojobsdev')\n",
    "dimensions"
   ]
  },
  {
   "cell_type": "markdown",
   "metadata": {},
   "source": [
    "# get report JSON - ex: audiences"
   ]
  },
  {
   "cell_type": "code",
   "execution_count": 11,
   "metadata": {},
   "outputs": [],
   "source": [
    "report = api2.getReport('request_1.json')"
   ]
  },
  {
   "cell_type": "code",
   "execution_count": 12,
   "metadata": {},
   "outputs": [
    {
     "data": {
      "text/plain": [
       "{'dimension': 'variables/mcaudiences.1',\n",
       " 'filters': {'globalFilters': ['2020-03-19T00:00:00.000/2020-03-26T00:00:00.000'],\n",
       "  'metricsFilters': {'metrics/visitors': {'s2165_5ce2aa77c0fdcb1990ad2326'}}},\n",
       " 'rsid': 'vrs_schibs1_jobsinfojobs',\n",
       " 'metrics': ['metrics/visitors'],\n",
       " 'data':         variables/mcaudiences.1  metrics/visitors\n",
       " 0     Users_logged_Infojobs web         1008107.0\n",
       " 1  Users_logged_Milanuncios web          175669.0\n",
       " 2     Users_logged_Fotocasa web          103348.0\n",
       " 3       Users_logged_Coches_web           63184.0}"
      ]
     },
     "execution_count": 12,
     "metadata": {},
     "output_type": "execute_result"
    }
   ],
   "source": [
    "report"
   ]
  },
  {
   "cell_type": "code",
   "execution_count": 13,
   "metadata": {
    "scrolled": true
   },
   "outputs": [
    {
     "data": {
      "text/html": [
       "<div>\n",
       "<style scoped>\n",
       "    .dataframe tbody tr th:only-of-type {\n",
       "        vertical-align: middle;\n",
       "    }\n",
       "\n",
       "    .dataframe tbody tr th {\n",
       "        vertical-align: top;\n",
       "    }\n",
       "\n",
       "    .dataframe thead th {\n",
       "        text-align: right;\n",
       "    }\n",
       "</style>\n",
       "<table border=\"1\" class=\"dataframe\">\n",
       "  <thead>\n",
       "    <tr style=\"text-align: right;\">\n",
       "      <th></th>\n",
       "      <th>variables/mcaudiences.1</th>\n",
       "      <th>metrics/visitors</th>\n",
       "    </tr>\n",
       "  </thead>\n",
       "  <tbody>\n",
       "    <tr>\n",
       "      <th>0</th>\n",
       "      <td>Users_logged_Infojobs web</td>\n",
       "      <td>1008107.0</td>\n",
       "    </tr>\n",
       "    <tr>\n",
       "      <th>1</th>\n",
       "      <td>Users_logged_Milanuncios web</td>\n",
       "      <td>175669.0</td>\n",
       "    </tr>\n",
       "    <tr>\n",
       "      <th>2</th>\n",
       "      <td>Users_logged_Fotocasa web</td>\n",
       "      <td>103348.0</td>\n",
       "    </tr>\n",
       "    <tr>\n",
       "      <th>3</th>\n",
       "      <td>Users_logged_Coches_web</td>\n",
       "      <td>63184.0</td>\n",
       "    </tr>\n",
       "  </tbody>\n",
       "</table>\n",
       "</div>"
      ],
      "text/plain": [
       "        variables/mcaudiences.1  metrics/visitors\n",
       "0     Users_logged_Infojobs web         1008107.0\n",
       "1  Users_logged_Milanuncios web          175669.0\n",
       "2     Users_logged_Fotocasa web          103348.0\n",
       "3       Users_logged_Coches_web           63184.0"
      ]
     },
     "execution_count": 13,
     "metadata": {},
     "output_type": "execute_result"
    }
   ],
   "source": [
    "report['data']"
   ]
  },
  {
   "cell_type": "code",
   "execution_count": null,
   "metadata": {},
   "outputs": [],
   "source": []
  }
 ],
 "metadata": {
  "kernelspec": {
   "display_name": "Python 3",
   "language": "python",
   "name": "python3"
  },
  "language_info": {
   "codemirror_mode": {
    "name": "ipython",
    "version": 3
   },
   "file_extension": ".py",
   "mimetype": "text/x-python",
   "name": "python",
   "nbconvert_exporter": "python",
   "pygments_lexer": "ipython3",
   "version": "3.7.6"
  },
  "toc": {
   "base_numbering": 1,
   "nav_menu": {},
   "number_sections": true,
   "sideBar": true,
   "skip_h1_title": false,
   "title_cell": "Table of Contents",
   "title_sidebar": "Contents",
   "toc_cell": false,
   "toc_position": {},
   "toc_section_display": true,
   "toc_window_display": true
  }
 },
 "nbformat": 4,
 "nbformat_minor": 4
}

{
 "cells": [
  {
   "cell_type": "markdown",
   "id": "transparent-preparation",
   "metadata": {},
   "source": [
    "# Python Data Science Handbook\n",
    "< Menu | [Online Version](https://github.com/jakevdp/PythonDataScienceHandbook)>\n",
    "## 3. Data Manipulation with Pandas \n",
    "* Pandas is a newer package built on top of NumPy, and provides an efficient implementation of a DataFrame.\n",
    "* In this chapter, we will focus on the mechanics of using **Series**, **DataFrame**, and related structures effectively\n",
    "* More detailed documentation, along with tutorials and other resources, can be found at http://pandas.pydata.org/.\n",
    "\n",
    "### Introducing Pandas Objects\n",
    "* Pandas objects can be thought of as enhanced versions of NumPy structured arrays in which the rows and columns are identified with labels rather than simple integer indices.\n",
    "* There are three fundamental Pandas data structures: the **Series, DataFrame, and Index**."
   ]
  },
  {
   "cell_type": "markdown",
   "id": "intimate-variance",
   "metadata": {},
   "source": [
    "#### The Pandas Series Object"
   ]
  },
  {
   "cell_type": "code",
   "execution_count": 3,
   "id": "material-sustainability",
   "metadata": {},
   "outputs": [],
   "source": [
    "import numpy as np\n",
    "import pandas as pd"
   ]
  },
  {
   "cell_type": "code",
   "execution_count": null,
   "id": "fatal-audit",
   "metadata": {},
   "outputs": [],
   "source": []
  },
  {
   "cell_type": "code",
   "execution_count": null,
   "id": "decreased-yeast",
   "metadata": {},
   "outputs": [],
   "source": []
  }
 ],
 "metadata": {
  "kernelspec": {
   "display_name": "Python 3",
   "language": "python",
   "name": "python3"
  },
  "language_info": {
   "codemirror_mode": {
    "name": "ipython",
    "version": 3
   },
   "file_extension": ".py",
   "mimetype": "text/x-python",
   "name": "python",
   "nbconvert_exporter": "python",
   "pygments_lexer": "ipython3",
   "version": "3.8.8"
  }
 },
 "nbformat": 4,
 "nbformat_minor": 5
}

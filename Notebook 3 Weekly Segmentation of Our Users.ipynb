{
 "cells": [
  {
   "cell_type": "markdown",
   "metadata": {},
   "source": [
    "## Segmentation of users\n",
    "\n",
    "We are going to play with the following dataset\n",
    "\n",
    "1.- **Dataset name to request access:** SQLaaSPulseAnonymizedSimple-1\n",
    "\n",
    "2.- **Athena (SQLaaS):** {provider}_databox.insights_sessions_fact_layer_7d\n",
    "\n",
    "3.- **S3 path** schibsted-spt-common-prod/yellow/pulse-simple/version=1-alpha/*/client=${provider}\n",
    "\n",
    "\n",
    "We are going to do a query per users and activity and then we are going to do a segmentation based on activity (# of days) and type of activity as follows:\n",
    "\n",
    "![](pictures/segmentation.png)"
   ]
  },
  {
   "cell_type": "code",
   "execution_count": null,
   "metadata": {
    "collapsed": false
   },
   "outputs": [],
   "source": [
    "# Needed packages\n",
    "from pyathena import connect\n",
    "import pandas as pd\n",
    "import os"
   ]
  },
  {
   "cell_type": "code",
   "execution_count": null,
   "metadata": {
    "collapsed": true
   },
   "outputs": [],
   "source": [
    "from getpass import getpass\n",
    "access_key = getpass(prompt=\"Enter your access key to databox: \")\n",
    "secret_key = getpass(prompt=\"Enter your secret to databox: \")\n",
    "\n",
    "# Some parameters (different way to extract the credential)\n",
    "user = \"pawel.tyszka@schibsted.com/\"\n",
    "provider ='yapocl'\n",
    "\n",
    "# Establishing the connection\n",
    "conn = connect(aws_access_key_id=access_key,\n",
    "               aws_secret_access_key=secret_key,\n",
    "               s3_staging_dir=\"s3://schibsted-spt-common-dev/user-areas/\"+ user,\n",
    "               region_name=\"eu-west-1\")"
   ]
  },
  {
   "cell_type": "markdown",
   "metadata": {},
   "source": [
    "## Step 0: What information is available in this dataset?"
   ]
  },
  {
   "cell_type": "code",
   "execution_count": null,
   "metadata": {
    "collapsed": false
   },
   "outputs": [],
   "source": [
    "describe_events = \"\"\"\n",
    "SELECT * FROM {}_databox.yellow_pulse_simple_7d LIMIT 1\n",
    "\"\"\"\n",
    "pd.read_sql(describe_events.format(provider), conn).dtypes"
   ]
  },
  {
   "cell_type": "code",
   "execution_count": null,
   "metadata": {
    "collapsed": false
   },
   "outputs": [],
   "source": [
    "%%time\n",
    "\n",
    "query1 = \"\"\"\n",
    "SELECT\n",
    " environmentid,\n",
    " sum(nof_listings) as nof_listings,\n",
    " sum(nof_classifieds) as nof_classifieds,\n",
    " sum(nof_pages) as nof_pages,\n",
    " sum(nof_created) as nof_created,\n",
    " sum(nof_call) as nof_call,\n",
    " sum(nof_Show) as nof_Show,\n",
    " sum(nof_Send) as nof_Send,\n",
    " sum(nof_SMS) as nof_SMS\n",
    " FROM\n",
    " (\n",
    "  SELECT\n",
    "      environmentid,\n",
    "      CASE WHEN (type='View' and objecttype = 'Listing') THEN SUM(1) else 0 end as nof_listings,\n",
    "      CASE WHEN (type='View' and objecttype = 'ClassifiedAd') THEN SUM(1) else 0 end as nof_classifieds,\n",
    "      CASE WHEN (type='View' and objecttype = 'Content')  THEN SUM(1) else 0 end as nof_content,\n",
    "      CASE WHEN (type='View' and objecttype = 'Page') THEN SUM(1) else 0 end as nof_pages,\n",
    "      CASE WHEN (type='Create' and objecttype = 'ClassifiedAd' ) THEN SUM(1) else 0 end as nof_created,\n",
    "      CASE WHEN (type='Call' and objecttype = 'PhoneContact') THEN SUM(1) else 0 end as nof_call,\n",
    "      CASE WHEN (type='Show' and objecttype = 'PhoneContact') THEN SUM(1) else 0 end as nof_Show,\n",
    "      CASE WHEN (type='Send' and objecttype = 'Message') THEN SUM(1) else 0 end as nof_Send,\n",
    "      CASE WHEN (type='SMS' and objecttype = 'PhoneContact') THEN SUM(1) else 0 end as nof_SMS\n",
    "    FROM\n",
    "      {}_databox.yellow_pulse_simple_7d\n",
    "    GROUP BY\n",
    "      environmentid, \n",
    "      type,\n",
    "      objecttype\n",
    " )\n",
    "GROUP BY\n",
    "  environmentid\n",
    ";\n",
    "\"\"\"\n",
    "\n",
    "query2 = \"\"\"\n",
    "SELECT\n",
    "      environmentid,\n",
    "      count(distinct day) as active_days,\n",
    "      count(environmentid) as total_events,\n",
    "      count(nullif(isloggedin = true, false)) as total_logged_events\n",
    "    FROM\n",
    "      {}_databox.yellow_pulse_simple_7d\n",
    "    GROUP BY\n",
    "      environmentid\n",
    ";\n",
    "\"\"\"\n",
    "#df1 = pd.read_sql(query1.format(provider), conn)\n",
    "#df2 = pd.read_sql(query2.format(provider), conn)\n",
    "#df = df2.merge(df1,on='environmentid',how='left')"
   ]
  },
  {
   "cell_type": "code",
   "execution_count": null,
   "metadata": {
    "collapsed": false
   },
   "outputs": [],
   "source": [
    "# in case the query is long,we are going to use this fake data\n",
    "df = pd.read_csv(\"aggregatedDataset_7d.csv\")"
   ]
  },
  {
   "cell_type": "markdown",
   "metadata": {},
   "source": [
    "## **Exercise 1**:\n",
    "\n",
    "Create a function to apply the previous segmentation. After this, please answer the following questions:\n",
    "\n",
    "1.1 What is the distribution of the segmentation?\n",
    "\n",
    "1.2 What is the volume of total events that every segment consumes?\n",
    "\n",
    "1.3 What is the distribution of active days per segment?\n",
    "\n",
    "1.4 What are the main charactersitics of every segment?\n",
    "\n",
    "> Please write the results in the cardboard of the site that you are studying\n"
   ]
  },
  {
   "cell_type": "markdown",
   "metadata": {},
   "source": [
    "## **Exercise 2** (difficulty medium):\n",
    "\n",
    "[Recency, frequency and monetary](https://en.wikipedia.org/wiki/RFM_(customer_value)) is another way to segment our users. Using `{}_databox.yellow_pulse_simple_7d` create a query to extract the following for eeach user:\n",
    "- number of active days,\n",
    "- day of the first visit\n",
    "- day of the last visit\n",
    "- total number of events\n",
    "\n",
    "Do a weekly RFM of our users using the features above.\n",
    "\n",
    "Any interesting conclusions?\n",
    "\n",
    "**Hint**: use [pandas.cut](https://pandas.pydata.org/pandas-docs/version/0.23.4/generated/pandas.cut.html)"
   ]
  },
  {
   "cell_type": "markdown",
   "metadata": {},
   "source": [
    "## **Exercise 3** (difficulty high):\n",
    "\n",
    "Add in your previous analysis the category dimension and try to extract some new insights related to the behaviour of our users."
   ]
  }
 ],
 "metadata": {
  "kernelspec": {
   "display_name": "Python 3",
   "language": "python",
   "name": "python3"
  },
  "language_info": {
   "codemirror_mode": {
    "name": "ipython",
    "version": 3
   },
   "file_extension": ".py",
   "mimetype": "text/x-python",
   "name": "python",
   "nbconvert_exporter": "python",
   "pygments_lexer": "ipython3",
   "version": "3.7.0"
  }
 },
 "nbformat": 4,
 "nbformat_minor": 2
}

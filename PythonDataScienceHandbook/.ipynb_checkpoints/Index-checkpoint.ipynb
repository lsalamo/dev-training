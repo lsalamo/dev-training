{
 "cells": [
  {
   "cell_type": "markdown",
   "id": "novel-villa",
   "metadata": {},
   "source": [
    "< [Online Version Python Data Science Handbook](https://github.com/jakevdp/PythonDataScienceHandbook)| [Index](https://github.com/lsalamo/python-training/blob/master/PythonDataScienceHandbook/Index.ipynb)>\n",
    "## 1. IPython: Beyond Normal Python\n",
    "## 2. Introduction to NumPy\n",
    "## [3. Data Manipulation with Pandas](https://github.com/lsalamo/python-training/blob/master/PythonDataScienceHandbook/3.%20Data%20Manipulation%20with%20Pandas.ipynb)\n",
    "* [Introducing Pandas Objects](https://github.com/lsalamo/python-training/blob/master/PythonDataScienceHandbook/3.1.%20Data%20Manipulation%20with%20Pandas%20-%20%20Introducing%20Pandas%20Objects.ipynb)\n",
    "* [Data Manipulation with Pandas - CRUD (Create, Read, Update and Delete)](https://github.com/lsalamo/python-training/blob/master/PythonDataScienceHandbook/3.2.%20Data%20Manipulation%20with%20Pandas%20-%20CRUD%20(Create%2C%20Read%2C%20Update%20and%20Delete).ipynb)\n",
    "* [Missing Data](https://github.com/lsalamo/python-training/blob/master/PythonDataScienceHandbook/3.3.%20Data%20Manipulation%20with%20Pandas%20-%20Missing%20Data.ipynb)"
   ]
  },
  {
   "cell_type": "code",
   "execution_count": null,
   "id": "configured-history",
   "metadata": {},
   "outputs": [],
   "source": []
  }
 ],
 "metadata": {
  "kernelspec": {
   "display_name": "Python 3",
   "language": "python",
   "name": "python3"
  },
  "language_info": {
   "codemirror_mode": {
    "name": "ipython",
    "version": 3
   },
   "file_extension": ".py",
   "mimetype": "text/x-python",
   "name": "python",
   "nbconvert_exporter": "python",
   "pygments_lexer": "ipython3",
   "version": "3.8.8"
  }
 },
 "nbformat": 4,
 "nbformat_minor": 5
}

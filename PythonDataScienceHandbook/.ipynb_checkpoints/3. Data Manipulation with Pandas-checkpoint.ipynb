{
 "cells": [
  {
   "cell_type": "markdown",
   "id": "tutorial-sydney",
   "metadata": {},
   "source": [
    "< [Online Version Python Data Science Handbook](https://github.com/jakevdp/PythonDataScienceHandbook)| [Index](https://github.com/lsalamo/python-training/blob/master/PythonDataScienceHandbook/Index.ipynb)>\n",
    "# 3. Data Manipulation with Pandas \n",
    "* Pandas is a newer package built on top of NumPy, and provides an efficient implementation of a DataFrame.\n",
    "* In this chapter, we will focus on the mechanics of using **Series**, **DataFrame**, and related structures effectively\n",
    "* More detailed documentation, along with tutorials and other resources, can be found at http://pandas.pydata.org/."
   ]
  },
  {
   "cell_type": "code",
   "execution_count": null,
   "id": "smooth-forge",
   "metadata": {},
   "outputs": [],
   "source": []
  }
 ],
 "metadata": {
  "kernelspec": {
   "display_name": "Python 3",
   "language": "python",
   "name": "python3"
  },
  "language_info": {
   "codemirror_mode": {
    "name": "ipython",
    "version": 3
   },
   "file_extension": ".py",
   "mimetype": "text/x-python",
   "name": "python",
   "nbconvert_exporter": "python",
   "pygments_lexer": "ipython3",
   "version": "3.8.8"
  }
 },
 "nbformat": 4,
 "nbformat_minor": 5
}

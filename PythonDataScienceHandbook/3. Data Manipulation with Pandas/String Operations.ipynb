{
 "cells": [
  {
   "cell_type": "code",
   "execution_count": 3,
   "id": "4bf9ef13",
   "metadata": {},
   "outputs": [],
   "source": [
    "import pandas as pd\n",
    "monte = pd.Series(['Graham Chapman', 'John Cleese', 'Terry Gilliam',\n",
    "                   'Eric Idle', 'Terry Jones', 'Michael Palin'])"
   ]
  },
  {
   "cell_type": "markdown",
   "id": "ee125a98",
   "metadata": {},
   "source": [
    "### REGULAR EXPRESSIONS"
   ]
  },
  {
   "cell_type": "code",
   "execution_count": 4,
   "id": "72bd425c",
   "metadata": {},
   "outputs": [
    {
     "data": {
      "text/plain": [
       "0     Graham\n",
       "1       John\n",
       "2      Terry\n",
       "3       Eric\n",
       "4      Terry\n",
       "5    Michael\n",
       "dtype: object"
      ]
     },
     "execution_count": 4,
     "metadata": {},
     "output_type": "execute_result"
    }
   ],
   "source": [
    "# Extract first name\n",
    "monte.str.extract('([A-Za-z]+)', expand=False)"
   ]
  },
  {
   "cell_type": "code",
   "execution_count": 6,
   "id": "54bf80b9",
   "metadata": {},
   "outputs": [
    {
     "data": {
      "text/plain": [
       "0    [Graham Chapman]\n",
       "1                  []\n",
       "2     [Terry Gilliam]\n",
       "3                  []\n",
       "4       [Terry Jones]\n",
       "5     [Michael Palin]\n",
       "dtype: object"
      ]
     },
     "execution_count": 6,
     "metadata": {},
     "output_type": "execute_result"
    }
   ],
   "source": [
    "# like finding all names that start and end with a consonant\n",
    "monte.str.findall('^[^AEIOU].*[^aeiou]$')"
   ]
  },
  {
   "cell_type": "code",
   "execution_count": 41,
   "id": "30628582",
   "metadata": {},
   "outputs": [
    {
     "data": {
      "text/plain": [
       "0    sdrn:infojobs.it.candidate:user\n",
       "1             sdrn:infojobs.net:user\n",
       "2    sdrn:infojobs.net.employee:user\n",
       "3               sdrn:coches.net:user\n",
       "dtype: object"
      ]
     },
     "execution_count": 41,
     "metadata": {},
     "output_type": "execute_result"
    }
   ],
   "source": [
    "str_test = pd.Series(['Analytics-delete-sdrn:infojobs.it.candidate:user:6853513382',\n",
    "                      'Analytics-delete-sdrn:infojobs.net:user:41002272994',\n",
    "                      'Analytics-access-sdrn:infojobs.net.employee:user:36099390044',\n",
    "                      'Analytics-delete-sdrn:coches.net:user:e4b4b9c789fb47bfbcfee1307b853866'])\n",
    "str_test.str.extract('.*-(sdrn:.*):', expand=False)"
   ]
  }
 ],
 "metadata": {
  "kernelspec": {
   "display_name": "Python 3",
   "language": "python",
   "name": "python3"
  },
  "language_info": {
   "codemirror_mode": {
    "name": "ipython",
    "version": 3
   },
   "file_extension": ".py",
   "mimetype": "text/x-python",
   "name": "python",
   "nbconvert_exporter": "python",
   "pygments_lexer": "ipython3",
   "version": "3.8.8"
  }
 },
 "nbformat": 4,
 "nbformat_minor": 5
}

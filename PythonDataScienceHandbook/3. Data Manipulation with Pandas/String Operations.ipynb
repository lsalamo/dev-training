{
 "cells": [
  {
   "cell_type": "markdown",
   "id": "57f50079",
   "metadata": {},
   "source": [
    "* https://pandas.pydata.org/pandas-docs/stable/user_guide/text.html"
   ]
  },
  {
   "cell_type": "code",
   "execution_count": 89,
   "id": "be468c3f",
   "metadata": {},
   "outputs": [],
   "source": [
    "import numpy as np\n",
    "import pandas as pd\n",
    "\n",
    "class display(object):\n",
    "    \"\"\"Display HTML representation of multiple objects\"\"\"\n",
    "    template = \"\"\"<div style=\"float: left; padding: 10px;\">\n",
    "    <p style='font-family:\"Courier New\", Courier, monospace'>{0}</p>{1}\n",
    "    </div>\"\"\"\n",
    "    def __init__(self, *args):\n",
    "        self.args = args\n",
    "        \n",
    "    def _repr_html_(self):\n",
    "        return '\\n'.join(self.template.format(a, eval(a)._repr_html_())\n",
    "                         for a in self.args)\n",
    "    \n",
    "    def __repr__(self):\n",
    "        return '\\n\\n'.join(a + '\\n' + repr(eval(a))\n",
    "                           for a in self.args)"
   ]
  },
  {
   "cell_type": "markdown",
   "id": "fea13161",
   "metadata": {},
   "source": [
    "### STRING OPERATIONS"
   ]
  },
  {
   "cell_type": "markdown",
   "id": "adee9c42",
   "metadata": {},
   "source": [
    " <img src=\"img/string_operations.png\" style=\"width:400px;float:left\">"
   ]
  },
  {
   "cell_type": "code",
   "execution_count": 144,
   "id": "94cc4605",
   "metadata": {},
   "outputs": [
    {
     "name": "stdout",
     "output_type": "stream",
     "text": [
      "Peter\n",
      "======\n",
      "['Peter', 'Paul', 'Mary', 'Guido']\n",
      "======\n",
      "0    Peter\n",
      "1     Paul\n",
      "2     Mary\n",
      "3    Guido\n",
      "dtype: object\n"
     ]
    }
   ],
   "source": [
    "data = ['peter', 'Paul', 'MARY', 'gUIDO']\n",
    "print(data[0].capitalize())\n",
    "print(\"======\")\n",
    "print([s.capitalize() for s in data])\n",
    "print(\"======\")\n",
    "print(pd.Series(data).str.capitalize())"
   ]
  },
  {
   "cell_type": "markdown",
   "id": "5ad00ccf",
   "metadata": {},
   "source": [
    "### REGULAR EXPRESSIONS"
   ]
  },
  {
   "cell_type": "markdown",
   "id": "86a4bf3d",
   "metadata": {},
   "source": [
    " <img src=\"img/string_operations_re.png\" style=\"width:500px;float:left\">"
   ]
  },
  {
   "cell_type": "code",
   "execution_count": 155,
   "id": "59c11f3c",
   "metadata": {},
   "outputs": [],
   "source": [
    "data = pd.Series(['Graham Chapman', 'John Cleese', 'Terry Gilliam',\n",
    "                   'Eric Idle', 'Terry Jones', 'Michael Palin'])"
   ]
  },
  {
   "cell_type": "markdown",
   "id": "377fb978",
   "metadata": {},
   "source": [
    "#### MATCH \n",
    "Determine if each string starts with a match of a regular expression returning a boolean\n",
    "\n",
    "https://pandas.pydata.org/pandas-docs/stable/reference/api/pandas.Series.str.match.html"
   ]
  },
  {
   "cell_type": "code",
   "execution_count": 236,
   "id": "8ab109d5",
   "metadata": {},
   "outputs": [
    {
     "name": "stdout",
     "output_type": "stream",
     "text": [
      "0     True\n",
      "1    False\n",
      "2    False\n",
      "3    False\n",
      "4     True\n",
      "5    False\n",
      "dtype: bool\n"
     ]
    }
   ],
   "source": [
    "# get first name\n",
    "print(data.str.match(r'([A-Za-z]+) (?:Chapman|Jones)'))"
   ]
  },
  {
   "cell_type": "markdown",
   "id": "28e5d376",
   "metadata": {},
   "source": [
    "#### CONTAINS \n",
    "Return boolean Series or Index based on whether a given pattern or regex is contained within a string of a Series or Index.\n",
    "\n",
    "https://pandas.pydata.org/pandas-docs/stable/reference/api/pandas.Series.str.contains.html"
   ]
  },
  {
   "cell_type": "code",
   "execution_count": 282,
   "id": "7169159a",
   "metadata": {},
   "outputs": [
    {
     "name": "stdout",
     "output_type": "stream",
     "text": [
      "0    False\n",
      "1    False\n",
      "2     True\n",
      "3    False\n",
      "4    False\n",
      "5     True\n",
      "dtype: bool\n",
      "0    False\n",
      "1    False\n",
      "2     True\n",
      "3    False\n",
      "4    False\n",
      "5     True\n",
      "dtype: bool\n"
     ]
    }
   ],
   "source": [
    "# get first name\n",
    "print(data.str.contains('li'), regex=False)\n",
    "print(data.str.contains('.+li', regex=True))"
   ]
  },
  {
   "cell_type": "markdown",
   "id": "ab9cfffd",
   "metadata": {},
   "source": [
    "#### EXTRACT\n",
    "Extract capture groups in the regex pattern as columns in a DataFrame.\n",
    "\n",
    "https://pandas.pydata.org/pandas-docs/stable/reference/api/pandas.Series.str.extract.html"
   ]
  },
  {
   "cell_type": "code",
   "execution_count": 213,
   "id": "68ff3323",
   "metadata": {},
   "outputs": [
    {
     "name": "stdout",
     "output_type": "stream",
     "text": [
      "Graham\n",
      "======\n",
      "Graham\n",
      "Terry\n",
      "======\n"
     ]
    },
    {
     "data": {
      "text/plain": [
       "0    Graham\n",
       "1       NaN\n",
       "2       NaN\n",
       "3       NaN\n",
       "4     Terry\n",
       "5       NaN\n",
       "dtype: object"
      ]
     },
     "execution_count": 213,
     "metadata": {},
     "output_type": "execute_result"
    }
   ],
   "source": [
    "# get first name\n",
    "m = re.match(r'([A-Za-z]+) (?:Chapman|Jones)', 'Graham Chapman');print(m.group(1))\n",
    "print(\"======\")\n",
    "for s in data:\n",
    "    match = re.match(r'([A-Za-z]+) (?:Chapman|Jones)', s)\n",
    "    if match: print(match.group(1))\n",
    "print(\"======\")\n",
    "data.str.extract(r'([A-Za-z]+) (?:Chapman|Jones)', expand=False)"
   ]
  },
  {
   "cell_type": "markdown",
   "id": "5ee51253",
   "metadata": {},
   "source": [
    "#### FINDALL\n",
    "Find all occurrences of pattern or regular expression in the Series/Index.\n",
    "\n",
    "https://pandas.pydata.org/pandas-docs/stable/reference/api/pandas.Series.str.findall.html"
   ]
  },
  {
   "cell_type": "code",
   "execution_count": 226,
   "id": "c35b215b",
   "metadata": {},
   "outputs": [
    {
     "name": "stdout",
     "output_type": "stream",
     "text": [
      "['Graham']\n",
      "======\n",
      "[['Graham'], [], [], [], ['Terry'], []]\n",
      "======\n"
     ]
    },
    {
     "data": {
      "text/plain": [
       "0    [Graham]\n",
       "1          []\n",
       "2          []\n",
       "3          []\n",
       "4     [Terry]\n",
       "5          []\n",
       "dtype: object"
      ]
     },
     "execution_count": 226,
     "metadata": {},
     "output_type": "execute_result"
    }
   ],
   "source": [
    "# get first name\n",
    "print(re.findall(r'([A-Za-z]+) (?:Chapman|Jones)', 'Graham Chapman'))\n",
    "print(\"======\")\n",
    "print([re.findall(r'([A-Za-z]+) (?:Chapman|Jones)', s) for s in data])\n",
    "print(\"======\")\n",
    "data.str.findall(r'([A-Za-z]+) (?:Chapman|Jones)')"
   ]
  },
  {
   "cell_type": "markdown",
   "id": "14bf7784",
   "metadata": {},
   "source": [
    "#### REPLACE\n",
    "Replace each occurrence of pattern/regex in the Series/Index.\n",
    "\n",
    "https://pandas.pydata.org/pandas-docs/stable/reference/api/pandas.Series.str.replace.html"
   ]
  },
  {
   "cell_type": "code",
   "execution_count": 231,
   "id": "8f2b45d8",
   "metadata": {},
   "outputs": [
    {
     "data": {
      "text/plain": [
       "0    Graham Salamo\n",
       "1      John Cleese\n",
       "2    Terry Gilliam\n",
       "3        Eric Idle\n",
       "4     Terry Salamo\n",
       "5    Michael Palin\n",
       "dtype: object"
      ]
     },
     "execution_count": 231,
     "metadata": {},
     "output_type": "execute_result"
    }
   ],
   "source": [
    "data.str.replace('(Chapman|Jones)', 'Salamo', regex=True)"
   ]
  },
  {
   "cell_type": "code",
   "execution_count": 234,
   "id": "f1cde92b",
   "metadata": {},
   "outputs": [
    {
     "data": {
      "text/plain": [
       "0    GrAhAm ChApmAn\n",
       "1       John Cleese\n",
       "2     Terry GilliAm\n",
       "3         Eric Idle\n",
       "4       Terry Jones\n",
       "5     MichAel PAlin\n",
       "dtype: object"
      ]
     },
     "execution_count": 234,
     "metadata": {},
     "output_type": "execute_result"
    }
   ],
   "source": [
    "data.str.replace('a', 'A', regex=False)"
   ]
  },
  {
   "cell_type": "markdown",
   "id": "e99134a8",
   "metadata": {},
   "source": [
    "#### COUNT\n",
    "Count occurrences of pattern in each string of the Series/Index.\n",
    "\n",
    "https://pandas.pydata.org/pandas-docs/stable/reference/api/pandas.Series.str.count.html"
   ]
  },
  {
   "cell_type": "code",
   "execution_count": 285,
   "id": "ed2d78cf",
   "metadata": {},
   "outputs": [
    {
     "data": {
      "text/plain": [
       "0    1\n",
       "1    0\n",
       "2    0\n",
       "3    0\n",
       "4    1\n",
       "5    0\n",
       "dtype: int64"
      ]
     },
     "execution_count": 285,
     "metadata": {},
     "output_type": "execute_result"
    }
   ],
   "source": [
    "data.str.count('(Chapman|Jones)')"
   ]
  },
  {
   "cell_type": "markdown",
   "id": "3180852c",
   "metadata": {},
   "source": [
    "### MISCELLANEOUS METHODS"
   ]
  },
  {
   "cell_type": "markdown",
   "id": "7a9cdfd6",
   "metadata": {},
   "source": [
    " <img src=\"img/string_operations_mm.png\" style=\"width:500px;float:left\">"
   ]
  },
  {
   "cell_type": "code",
   "execution_count": 67,
   "id": "a7d736ca",
   "metadata": {},
   "outputs": [
    {
     "name": "stdout",
     "output_type": "stream",
     "text": [
      "Gra\n",
      "======\n"
     ]
    },
    {
     "data": {
      "text/plain": [
       "0    Gra\n",
       "1    Joh\n",
       "2    Ter\n",
       "3    Eri\n",
       "4    Ter\n",
       "5    Mic\n",
       "dtype: object"
      ]
     },
     "execution_count": 67,
     "metadata": {},
     "output_type": "execute_result"
    }
   ],
   "source": [
    "print('Graham Chapman'[0:3])\n",
    "print(\"======\")\n",
    "str_series.str[0:3]\n",
    "str_series.str.slice(0,3)"
   ]
  },
  {
   "cell_type": "code",
   "execution_count": 81,
   "id": "142579fc",
   "metadata": {},
   "outputs": [
    {
     "name": "stdout",
     "output_type": "stream",
     "text": [
      "Graham\n",
      "======\n"
     ]
    },
    {
     "data": {
      "text/plain": [
       "0    Chapman\n",
       "1     Cleese\n",
       "2    Gilliam\n",
       "3       Idle\n",
       "4      Jones\n",
       "5      Palin\n",
       "dtype: object"
      ]
     },
     "execution_count": 81,
     "metadata": {},
     "output_type": "execute_result"
    }
   ],
   "source": [
    "print('Graham Chapman'.split()[0])\n",
    "print(\"======\")\n",
    "str_series.str.split().str[-1]\n",
    "str_series.str.split().str.get(-1)"
   ]
  },
  {
   "cell_type": "markdown",
   "id": "87189fba",
   "metadata": {},
   "source": [
    "### GET_DUMMIES"
   ]
  },
  {
   "cell_type": "code",
   "execution_count": 90,
   "id": "0f7d021f",
   "metadata": {},
   "outputs": [
    {
     "data": {
      "text/html": [
       "<div style=\"float: left; padding: 10px;\">\n",
       "    <p style='font-family:\"Courier New\", Courier, monospace'>df</p><div>\n",
       "<style scoped>\n",
       "    .dataframe tbody tr th:only-of-type {\n",
       "        vertical-align: middle;\n",
       "    }\n",
       "\n",
       "    .dataframe tbody tr th {\n",
       "        vertical-align: top;\n",
       "    }\n",
       "\n",
       "    .dataframe thead th {\n",
       "        text-align: right;\n",
       "    }\n",
       "</style>\n",
       "<table border=\"1\" class=\"dataframe\">\n",
       "  <thead>\n",
       "    <tr style=\"text-align: right;\">\n",
       "      <th></th>\n",
       "      <th>name</th>\n",
       "      <th>info</th>\n",
       "    </tr>\n",
       "  </thead>\n",
       "  <tbody>\n",
       "    <tr>\n",
       "      <th>0</th>\n",
       "      <td>Graham Chapman</td>\n",
       "      <td>B|C|D</td>\n",
       "    </tr>\n",
       "    <tr>\n",
       "      <th>1</th>\n",
       "      <td>John Cleese</td>\n",
       "      <td>B|D</td>\n",
       "    </tr>\n",
       "    <tr>\n",
       "      <th>2</th>\n",
       "      <td>Terry Gilliam</td>\n",
       "      <td>A|C</td>\n",
       "    </tr>\n",
       "    <tr>\n",
       "      <th>3</th>\n",
       "      <td>Eric Idle</td>\n",
       "      <td>B|D</td>\n",
       "    </tr>\n",
       "    <tr>\n",
       "      <th>4</th>\n",
       "      <td>Terry Jones</td>\n",
       "      <td>B|C</td>\n",
       "    </tr>\n",
       "    <tr>\n",
       "      <th>5</th>\n",
       "      <td>Michael Palin</td>\n",
       "      <td>B|C|D</td>\n",
       "    </tr>\n",
       "  </tbody>\n",
       "</table>\n",
       "</div>\n",
       "    </div>\n",
       "<div style=\"float: left; padding: 10px;\">\n",
       "    <p style='font-family:\"Courier New\", Courier, monospace'>df[\"info\"].str.get_dummies(\"|\")</p><div>\n",
       "<style scoped>\n",
       "    .dataframe tbody tr th:only-of-type {\n",
       "        vertical-align: middle;\n",
       "    }\n",
       "\n",
       "    .dataframe tbody tr th {\n",
       "        vertical-align: top;\n",
       "    }\n",
       "\n",
       "    .dataframe thead th {\n",
       "        text-align: right;\n",
       "    }\n",
       "</style>\n",
       "<table border=\"1\" class=\"dataframe\">\n",
       "  <thead>\n",
       "    <tr style=\"text-align: right;\">\n",
       "      <th></th>\n",
       "      <th>A</th>\n",
       "      <th>B</th>\n",
       "      <th>C</th>\n",
       "      <th>D</th>\n",
       "    </tr>\n",
       "  </thead>\n",
       "  <tbody>\n",
       "    <tr>\n",
       "      <th>0</th>\n",
       "      <td>0</td>\n",
       "      <td>1</td>\n",
       "      <td>1</td>\n",
       "      <td>1</td>\n",
       "    </tr>\n",
       "    <tr>\n",
       "      <th>1</th>\n",
       "      <td>0</td>\n",
       "      <td>1</td>\n",
       "      <td>0</td>\n",
       "      <td>1</td>\n",
       "    </tr>\n",
       "    <tr>\n",
       "      <th>2</th>\n",
       "      <td>1</td>\n",
       "      <td>0</td>\n",
       "      <td>1</td>\n",
       "      <td>0</td>\n",
       "    </tr>\n",
       "    <tr>\n",
       "      <th>3</th>\n",
       "      <td>0</td>\n",
       "      <td>1</td>\n",
       "      <td>0</td>\n",
       "      <td>1</td>\n",
       "    </tr>\n",
       "    <tr>\n",
       "      <th>4</th>\n",
       "      <td>0</td>\n",
       "      <td>1</td>\n",
       "      <td>1</td>\n",
       "      <td>0</td>\n",
       "    </tr>\n",
       "    <tr>\n",
       "      <th>5</th>\n",
       "      <td>0</td>\n",
       "      <td>1</td>\n",
       "      <td>1</td>\n",
       "      <td>1</td>\n",
       "    </tr>\n",
       "  </tbody>\n",
       "</table>\n",
       "</div>\n",
       "    </div>"
      ],
      "text/plain": [
       "df\n",
       "             name   info\n",
       "0  Graham Chapman  B|C|D\n",
       "1     John Cleese    B|D\n",
       "2   Terry Gilliam    A|C\n",
       "3       Eric Idle    B|D\n",
       "4     Terry Jones    B|C\n",
       "5   Michael Palin  B|C|D\n",
       "\n",
       "df[\"info\"].str.get_dummies(\"|\")\n",
       "   A  B  C  D\n",
       "0  0  1  1  1\n",
       "1  0  1  0  1\n",
       "2  1  0  1  0\n",
       "3  0  1  0  1\n",
       "4  0  1  1  0\n",
       "5  0  1  1  1"
      ]
     },
     "execution_count": 90,
     "metadata": {},
     "output_type": "execute_result"
    }
   ],
   "source": [
    "df = pd.DataFrame({'name': monte,\n",
    "                   'info': ['B|C|D', 'B|D', 'A|C', 'B|D', 'B|C', 'B|C|D']})\n",
    "display('df', 'df[\"info\"].str.get_dummies(\"|\")')"
   ]
  },
  {
   "cell_type": "code",
   "execution_count": 91,
   "id": "3b07869a",
   "metadata": {},
   "outputs": [
    {
     "data": {
      "text/plain": [
       "count     6.000000\n",
       "mean     11.833333\n",
       "std       1.834848\n",
       "min       9.000000\n",
       "25%      11.000000\n",
       "50%      12.000000\n",
       "75%      13.000000\n",
       "max      14.000000\n",
       "Name: name, dtype: float64"
      ]
     },
     "execution_count": 91,
     "metadata": {},
     "output_type": "execute_result"
    }
   ],
   "source": [
    "# describe field name length\n",
    "df.name.str.len().describe()"
   ]
  },
  {
   "cell_type": "code",
   "execution_count": 92,
   "id": "99742345",
   "metadata": {},
   "outputs": [
    {
     "data": {
      "text/plain": [
       "'Graham Chapman'"
      ]
     },
     "execution_count": 92,
     "metadata": {},
     "output_type": "execute_result"
    }
   ],
   "source": [
    "# get the longest name\n",
    "df.name[np.argmax(df.name.str.len())]"
   ]
  },
  {
   "cell_type": "code",
   "execution_count": 97,
   "id": "eb27cf60",
   "metadata": {},
   "outputs": [
    {
     "data": {
      "text/plain": [
       "2"
      ]
     },
     "execution_count": 97,
     "metadata": {},
     "output_type": "execute_result"
    }
   ],
   "source": [
    "df.name.str.contains('[Tt]erry').sum()"
   ]
  },
  {
   "cell_type": "code",
   "execution_count": 131,
   "id": "1587186a",
   "metadata": {},
   "outputs": [
    {
     "data": {
      "text/plain": [
       "2"
      ]
     },
     "execution_count": 131,
     "metadata": {},
     "output_type": "execute_result"
    }
   ],
   "source": [
    "import re\n",
    "name_list = ['John Cleese', 'Eric Idle', 'Terry Jones', 'Michael Palin']\n",
    "df_test = pd.DataFrame(dict((name, df.name.str.contains(name, re.IGNORECASE))\n",
    "                             for name in name_list))\n",
    "df_test"
   ]
  }
 ],
 "metadata": {
  "kernelspec": {
   "display_name": "Python 3",
   "language": "python",
   "name": "python3"
  },
  "language_info": {
   "codemirror_mode": {
    "name": "ipython",
    "version": 3
   },
   "file_extension": ".py",
   "mimetype": "text/x-python",
   "name": "python",
   "nbconvert_exporter": "python",
   "pygments_lexer": "ipython3",
   "version": "3.8.8"
  }
 },
 "nbformat": 4,
 "nbformat_minor": 5
}

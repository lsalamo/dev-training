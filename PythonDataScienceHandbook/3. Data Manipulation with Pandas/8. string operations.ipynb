{
  "cells": [
    {
      "cell_type": "markdown",
      "id": "29e8d006",
      "metadata": {
        "id": "29e8d006"
      },
      "source": [
        "* https://pandas.pydata.org/pandas-docs/stable/user_guide/text.html"
      ]
    },
    {
      "cell_type": "code",
      "execution_count": 1,
      "id": "7d3a6b88",
      "metadata": {
        "id": "7d3a6b88"
      },
      "outputs": [],
      "source": [
        "import numpy as np\n",
        "import pandas as pd\n",
        "import re\n",
        "\n",
        "class display(object):\n",
        "    \"\"\"Display HTML representation of multiple objects\"\"\"\n",
        "    template = \"\"\"<div style=\"float: left; padding: 10px;\">\n",
        "    <p style='font-family:\"Courier New\", Courier, monospace'>{0}</p>{1}\n",
        "    </div>\"\"\"\n",
        "    def __init__(self, *args):\n",
        "        self.args = args\n",
        "        \n",
        "    def _repr_html_(self):\n",
        "        return '\\n'.join(self.template.format(a, eval(a)._repr_html_())\n",
        "                         for a in self.args)\n",
        "    \n",
        "    def __repr__(self):\n",
        "        return '\\n\\n'.join(a + '\\n' + repr(eval(a))\n",
        "                           for a in self.args)"
      ]
    },
    {
      "cell_type": "markdown",
      "id": "85d118ff",
      "metadata": {
        "id": "85d118ff"
      },
      "source": [
        "### STRING OPERATIONS"
      ]
    },
    {
      "cell_type": "markdown",
      "id": "f51edaf8",
      "metadata": {
        "id": "f51edaf8"
      },
      "source": [
        " <img src=\"https://github.com/lsalamo/python-training/blob/master/PythonDataScienceHandbook/3.%20Data%20Manipulation%20with%20Pandas/img/string_operations.png?raw=1\" style=\"width:400px;float:left\">"
      ]
    },
    {
      "cell_type": "code",
      "execution_count": null,
      "id": "76292cbc",
      "metadata": {
        "id": "76292cbc",
        "outputId": "96ea38d3-28c7-462f-f696-a9fc7a6501d1"
      },
      "outputs": [
        {
          "name": "stdout",
          "output_type": "stream",
          "text": [
            "Peter\n",
            "======\n",
            "['Peter', 'Paul', 'Mary', 'Guido']\n",
            "======\n",
            "0    Peter\n",
            "1     Paul\n",
            "2     Mary\n",
            "3    Guido\n",
            "dtype: object\n"
          ]
        }
      ],
      "source": [
        "data = ['peter', 'Paul', 'MARY', 'gUIDO']\n",
        "print(data[0].capitalize())\n",
        "print(\"======\")\n",
        "print([s.capitalize() for s in data])\n",
        "print(\"======\")\n",
        "print(pd.Series(data).str.capitalize())"
      ]
    },
    {
      "cell_type": "markdown",
      "id": "fe922b7b",
      "metadata": {
        "id": "fe922b7b"
      },
      "source": [
        "### REGULAR EXPRESSIONS"
      ]
    },
    {
      "cell_type": "markdown",
      "id": "c3236f3c",
      "metadata": {
        "id": "c3236f3c"
      },
      "source": [
        " <img src=\"https://github.com/lsalamo/python-training/blob/master/PythonDataScienceHandbook/3.%20Data%20Manipulation%20with%20Pandas/img/string_operations_re.png?raw=1\" style=\"width:500px;float:left\">"
      ]
    },
    {
      "cell_type": "code",
      "execution_count": 2,
      "id": "cecd700c",
      "metadata": {
        "id": "cecd700c"
      },
      "outputs": [],
      "source": [
        "data = pd.Series(['Graham Chapman', 'John Cleese', 'Terry Gilliam',\n",
        "                   'Eric Idle', 'Terry Jones', 'Michael Palin'])"
      ]
    },
    {
      "cell_type": "markdown",
      "id": "b8dbdf37",
      "metadata": {
        "id": "b8dbdf37"
      },
      "source": [
        "#### MATCH \n",
        "Determine if each string starts with a match of a regular expression returning a boolean\n",
        "\n",
        "https://pandas.pydata.org/pandas-docs/stable/reference/api/pandas.Series.str.match.html"
      ]
    },
    {
      "cell_type": "code",
      "execution_count": null,
      "id": "c56e06d8",
      "metadata": {
        "id": "c56e06d8",
        "outputId": "61dcba72-85d0-43cb-85e7-85a78dbdcbfe"
      },
      "outputs": [
        {
          "name": "stdout",
          "output_type": "stream",
          "text": [
            "0     True\n",
            "1    False\n",
            "2    False\n",
            "3    False\n",
            "4     True\n",
            "5    False\n",
            "dtype: bool\n"
          ]
        }
      ],
      "source": [
        "# get first name\n",
        "print(data.str.match(r'([A-Za-z]+) (Chapman|Jones)'))"
      ]
    },
    {
      "cell_type": "markdown",
      "id": "de804f2b",
      "metadata": {
        "id": "de804f2b"
      },
      "source": [
        "#### CONTAINS \n",
        "Return boolean Series or Index based on whether a given pattern or regex is contained within a string of a Series or Index.\n",
        "\n",
        "https://pandas.pydata.org/pandas-docs/stable/reference/api/pandas.Series.str.contains.html"
      ]
    },
    {
      "cell_type": "code",
      "execution_count": null,
      "id": "eab1cc41",
      "metadata": {
        "id": "eab1cc41",
        "outputId": "19f875c2-2ab4-4000-bf81-44186516818c"
      },
      "outputs": [
        {
          "data": {
            "text/plain": [
              "0    False\n",
              "1    False\n",
              "2     True\n",
              "3    False\n",
              "4    False\n",
              "5     True\n",
              "dtype: bool"
            ]
          },
          "execution_count": 20,
          "metadata": {},
          "output_type": "execute_result"
        }
      ],
      "source": [
        "# get first name\n",
        "data.str.contains('li', regex=False)\n",
        "data.str.contains('.+li', regex=True)"
      ]
    },
    {
      "cell_type": "markdown",
      "id": "a1f7a297",
      "metadata": {
        "id": "a1f7a297"
      },
      "source": [
        "#### EXTRACT\n",
        "Extract capture groups in the regex pattern as columns in a DataFrame.\n",
        "\n",
        "https://pandas.pydata.org/pandas-docs/stable/reference/api/pandas.Series.str.extract.html"
      ]
    },
    {
      "cell_type": "code",
      "execution_count": null,
      "id": "41d39de2",
      "metadata": {
        "id": "41d39de2",
        "outputId": "2388f0d0-a817-4aba-cd5c-16fc60aef1ec"
      },
      "outputs": [
        {
          "name": "stdout",
          "output_type": "stream",
          "text": [
            "('Graham', 'Chapman')\n",
            "Graham\n",
            "======\n",
            "Graham\n",
            "======\n",
            "Graham\n",
            "Terry\n",
            "======\n",
            "0    Graham\n",
            "1       NaN\n",
            "2       NaN\n",
            "3       NaN\n",
            "4     Terry\n",
            "5       NaN\n",
            "dtype: object\n"
          ]
        }
      ],
      "source": [
        "# get first name\n",
        "test = re.match(r'([A-Za-z]+) (Chapman|Jones)', 'Graham Chapman');print(test.groups());print(test.group(1))\n",
        "print(\"======\")\n",
        "test = re.match(r'([A-Za-z]+) (?:Chapman|Jones)', 'Graham Chapman');print(test.group(1))\n",
        "print(\"======\")\n",
        "for s in data:\n",
        "    match = re.match(r'([A-Za-z]+) (?:Chapman|Jones)', s)\n",
        "    if match: print(match.group(1))\n",
        "print(\"======\")\n",
        "print(data.str.extract(r'([A-Za-z]+) (?:Chapman|Jones)', expand=False))"
      ]
    },
    {
      "cell_type": "markdown",
      "id": "d7e90b91",
      "metadata": {
        "id": "d7e90b91"
      },
      "source": [
        "#### FINDALL\n",
        "Find all occurrences of pattern or regular expression in the Series/Index.\n",
        "\n",
        "https://pandas.pydata.org/pandas-docs/stable/reference/api/pandas.Series.str.findall.html"
      ]
    },
    {
      "cell_type": "code",
      "execution_count": null,
      "id": "b2920377",
      "metadata": {
        "id": "b2920377",
        "outputId": "57271f39-6049-4dff-ff3b-a553bc988ce2"
      },
      "outputs": [
        {
          "name": "stdout",
          "output_type": "stream",
          "text": [
            "['Graham']\n",
            "======\n",
            "[['Graham'], [], [], [], ['Terry'], []]\n",
            "======\n"
          ]
        },
        {
          "data": {
            "text/plain": [
              "0    [Graham]\n",
              "1          []\n",
              "2          []\n",
              "3          []\n",
              "4     [Terry]\n",
              "5          []\n",
              "dtype: object"
            ]
          },
          "execution_count": 226,
          "metadata": {},
          "output_type": "execute_result"
        }
      ],
      "source": [
        "# get first name\n",
        "print(re.findall(r'([A-Za-z]+) (?:Chapman|Jones)', 'Graham Chapman'))\n",
        "print(\"======\")\n",
        "print([re.findall(r'([A-Za-z]+) (?:Chapman|Jones)', s) for s in data])\n",
        "print(\"======\")\n",
        "data.str.findall(r'([A-Za-z]+) (?:Chapman|Jones)')"
      ]
    },
    {
      "cell_type": "markdown",
      "id": "faab1858",
      "metadata": {
        "id": "faab1858"
      },
      "source": [
        "#### REPLACE\n",
        "Replace each occurrence of pattern/regex in the Series/Index.\n",
        "\n",
        "https://pandas.pydata.org/pandas-docs/stable/reference/api/pandas.Series.str.replace.html"
      ]
    },
    {
      "cell_type": "code",
      "execution_count": null,
      "id": "4aee54de",
      "metadata": {
        "id": "4aee54de",
        "outputId": "3b19cb5c-c8af-40cd-8a7f-df548f584002"
      },
      "outputs": [
        {
          "data": {
            "text/plain": [
              "0    Graham Salamo\n",
              "1      John Cleese\n",
              "2    Terry Gilliam\n",
              "3        Eric Idle\n",
              "4     Terry Salamo\n",
              "5    Michael Palin\n",
              "dtype: object"
            ]
          },
          "execution_count": 231,
          "metadata": {},
          "output_type": "execute_result"
        }
      ],
      "source": [
        "data.str.replace('(Chapman|Jones)', 'Salamo', regex=True)"
      ]
    },
    {
      "cell_type": "code",
      "execution_count": null,
      "id": "cbe872e5",
      "metadata": {
        "id": "cbe872e5",
        "outputId": "4c9f4a4e-ed7b-4a6b-be82-f660560cc26c"
      },
      "outputs": [
        {
          "data": {
            "text/plain": [
              "0    GrAhAm ChApmAn\n",
              "1       John Cleese\n",
              "2     Terry GilliAm\n",
              "3         Eric Idle\n",
              "4       Terry Jones\n",
              "5     MichAel PAlin\n",
              "dtype: object"
            ]
          },
          "execution_count": 234,
          "metadata": {},
          "output_type": "execute_result"
        }
      ],
      "source": [
        "data.str.replace('a', 'A', regex=False)"
      ]
    },
    {
      "cell_type": "markdown",
      "id": "caace88e",
      "metadata": {
        "id": "caace88e"
      },
      "source": [
        "#### COUNT\n",
        "Count occurrences of pattern in each string of the Series/Index.\n",
        "\n",
        "https://pandas.pydata.org/pandas-docs/stable/reference/api/pandas.Series.str.count.html"
      ]
    },
    {
      "cell_type": "code",
      "execution_count": null,
      "id": "468870cd",
      "metadata": {
        "id": "468870cd",
        "outputId": "05962d77-508f-4213-faaf-58591af40022"
      },
      "outputs": [
        {
          "data": {
            "text/plain": [
              "0    1\n",
              "1    0\n",
              "2    0\n",
              "3    0\n",
              "4    1\n",
              "5    0\n",
              "dtype: int64"
            ]
          },
          "execution_count": 285,
          "metadata": {},
          "output_type": "execute_result"
        }
      ],
      "source": [
        "data.str.count('(Chapman|Jones)')"
      ]
    },
    {
      "cell_type": "markdown",
      "id": "de61dc77",
      "metadata": {
        "id": "de61dc77"
      },
      "source": [
        "### MISCELLANEOUS METHODS"
      ]
    },
    {
      "cell_type": "markdown",
      "id": "7195893a",
      "metadata": {
        "id": "7195893a"
      },
      "source": [
        " <img src=\"https://github.com/lsalamo/python-training/blob/master/PythonDataScienceHandbook/3.%20Data%20Manipulation%20with%20Pandas/img/string_operations_mm.png?raw=1\" style=\"width:500px;float:left\">"
      ]
    },
    {
      "cell_type": "code",
      "execution_count": null,
      "id": "1d87acbf",
      "metadata": {
        "id": "1d87acbf",
        "outputId": "ef1b8fe1-ce97-4aa0-fc08-9efe87e4ed11"
      },
      "outputs": [
        {
          "name": "stdout",
          "output_type": "stream",
          "text": [
            "Gra\n",
            "======\n"
          ]
        },
        {
          "data": {
            "text/plain": [
              "0    Gra\n",
              "1    Joh\n",
              "2    Ter\n",
              "3    Eri\n",
              "4    Ter\n",
              "5    Mic\n",
              "dtype: object"
            ]
          },
          "execution_count": 67,
          "metadata": {},
          "output_type": "execute_result"
        }
      ],
      "source": [
        "print('Graham Chapman'[0:3])\n",
        "print(\"======\")\n",
        "str_series.str[0:3]\n",
        "str_series.str.slice(0,3)"
      ]
    },
    {
      "cell_type": "code",
      "execution_count": null,
      "id": "929f3376",
      "metadata": {
        "id": "929f3376",
        "outputId": "58dd493e-12eb-4bd3-fc1d-5c5ede8a93ee"
      },
      "outputs": [
        {
          "name": "stdout",
          "output_type": "stream",
          "text": [
            "Graham\n",
            "======\n"
          ]
        },
        {
          "data": {
            "text/plain": [
              "0    Chapman\n",
              "1     Cleese\n",
              "2    Gilliam\n",
              "3       Idle\n",
              "4      Jones\n",
              "5      Palin\n",
              "dtype: object"
            ]
          },
          "execution_count": 81,
          "metadata": {},
          "output_type": "execute_result"
        }
      ],
      "source": [
        "print('Graham Chapman'.split()[0])\n",
        "print(\"======\")\n",
        "str_series.str.split().str[-1]\n",
        "str_series.str.split().str.get(-1)"
      ]
    },
    {
      "cell_type": "markdown",
      "id": "6223e123",
      "metadata": {
        "id": "6223e123"
      },
      "source": [
        "### GET_DUMMIES"
      ]
    },
    {
      "cell_type": "code",
      "execution_count": null,
      "id": "041a2596",
      "metadata": {
        "id": "041a2596",
        "outputId": "88405b74-68b8-44f3-b15a-4f4f36d549d0"
      },
      "outputs": [
        {
          "data": {
            "text/html": [
              "<div style=\"float: left; padding: 10px;\">\n",
              "    <p style='font-family:\"Courier New\", Courier, monospace'>df</p><div>\n",
              "<style scoped>\n",
              "    .dataframe tbody tr th:only-of-type {\n",
              "        vertical-align: middle;\n",
              "    }\n",
              "\n",
              "    .dataframe tbody tr th {\n",
              "        vertical-align: top;\n",
              "    }\n",
              "\n",
              "    .dataframe thead th {\n",
              "        text-align: right;\n",
              "    }\n",
              "</style>\n",
              "<table border=\"1\" class=\"dataframe\">\n",
              "  <thead>\n",
              "    <tr style=\"text-align: right;\">\n",
              "      <th></th>\n",
              "      <th>name</th>\n",
              "      <th>info</th>\n",
              "    </tr>\n",
              "  </thead>\n",
              "  <tbody>\n",
              "    <tr>\n",
              "      <th>0</th>\n",
              "      <td>Graham Chapman</td>\n",
              "      <td>B|C|D</td>\n",
              "    </tr>\n",
              "    <tr>\n",
              "      <th>1</th>\n",
              "      <td>John Cleese</td>\n",
              "      <td>B|D</td>\n",
              "    </tr>\n",
              "    <tr>\n",
              "      <th>2</th>\n",
              "      <td>Terry Gilliam</td>\n",
              "      <td>A|C</td>\n",
              "    </tr>\n",
              "    <tr>\n",
              "      <th>3</th>\n",
              "      <td>Eric Idle</td>\n",
              "      <td>B|D</td>\n",
              "    </tr>\n",
              "    <tr>\n",
              "      <th>4</th>\n",
              "      <td>Terry Jones</td>\n",
              "      <td>B|C</td>\n",
              "    </tr>\n",
              "    <tr>\n",
              "      <th>5</th>\n",
              "      <td>Michael Palin</td>\n",
              "      <td>B|C|D</td>\n",
              "    </tr>\n",
              "  </tbody>\n",
              "</table>\n",
              "</div>\n",
              "    </div>\n",
              "<div style=\"float: left; padding: 10px;\">\n",
              "    <p style='font-family:\"Courier New\", Courier, monospace'>df[\"info\"].str.get_dummies(\"|\")</p><div>\n",
              "<style scoped>\n",
              "    .dataframe tbody tr th:only-of-type {\n",
              "        vertical-align: middle;\n",
              "    }\n",
              "\n",
              "    .dataframe tbody tr th {\n",
              "        vertical-align: top;\n",
              "    }\n",
              "\n",
              "    .dataframe thead th {\n",
              "        text-align: right;\n",
              "    }\n",
              "</style>\n",
              "<table border=\"1\" class=\"dataframe\">\n",
              "  <thead>\n",
              "    <tr style=\"text-align: right;\">\n",
              "      <th></th>\n",
              "      <th>A</th>\n",
              "      <th>B</th>\n",
              "      <th>C</th>\n",
              "      <th>D</th>\n",
              "    </tr>\n",
              "  </thead>\n",
              "  <tbody>\n",
              "    <tr>\n",
              "      <th>0</th>\n",
              "      <td>0</td>\n",
              "      <td>1</td>\n",
              "      <td>1</td>\n",
              "      <td>1</td>\n",
              "    </tr>\n",
              "    <tr>\n",
              "      <th>1</th>\n",
              "      <td>0</td>\n",
              "      <td>1</td>\n",
              "      <td>0</td>\n",
              "      <td>1</td>\n",
              "    </tr>\n",
              "    <tr>\n",
              "      <th>2</th>\n",
              "      <td>1</td>\n",
              "      <td>0</td>\n",
              "      <td>1</td>\n",
              "      <td>0</td>\n",
              "    </tr>\n",
              "    <tr>\n",
              "      <th>3</th>\n",
              "      <td>0</td>\n",
              "      <td>1</td>\n",
              "      <td>0</td>\n",
              "      <td>1</td>\n",
              "    </tr>\n",
              "    <tr>\n",
              "      <th>4</th>\n",
              "      <td>0</td>\n",
              "      <td>1</td>\n",
              "      <td>1</td>\n",
              "      <td>0</td>\n",
              "    </tr>\n",
              "    <tr>\n",
              "      <th>5</th>\n",
              "      <td>0</td>\n",
              "      <td>1</td>\n",
              "      <td>1</td>\n",
              "      <td>1</td>\n",
              "    </tr>\n",
              "  </tbody>\n",
              "</table>\n",
              "</div>\n",
              "    </div>"
            ],
            "text/plain": [
              "df\n",
              "             name   info\n",
              "0  Graham Chapman  B|C|D\n",
              "1     John Cleese    B|D\n",
              "2   Terry Gilliam    A|C\n",
              "3       Eric Idle    B|D\n",
              "4     Terry Jones    B|C\n",
              "5   Michael Palin  B|C|D\n",
              "\n",
              "df[\"info\"].str.get_dummies(\"|\")\n",
              "   A  B  C  D\n",
              "0  0  1  1  1\n",
              "1  0  1  0  1\n",
              "2  1  0  1  0\n",
              "3  0  1  0  1\n",
              "4  0  1  1  0\n",
              "5  0  1  1  1"
            ]
          },
          "execution_count": 90,
          "metadata": {},
          "output_type": "execute_result"
        }
      ],
      "source": [
        "df = pd.DataFrame({'name': monte,\n",
        "                   'info': ['B|C|D', 'B|D', 'A|C', 'B|D', 'B|C', 'B|C|D']})\n",
        "display('df', 'df[\"info\"].str.get_dummies(\"|\")')"
      ]
    },
    {
      "cell_type": "code",
      "execution_count": null,
      "id": "5ea66b59",
      "metadata": {
        "id": "5ea66b59",
        "outputId": "417a2dcd-f223-42d8-fec0-46bf534113d8"
      },
      "outputs": [
        {
          "data": {
            "text/plain": [
              "count     6.000000\n",
              "mean     11.833333\n",
              "std       1.834848\n",
              "min       9.000000\n",
              "25%      11.000000\n",
              "50%      12.000000\n",
              "75%      13.000000\n",
              "max      14.000000\n",
              "Name: name, dtype: float64"
            ]
          },
          "execution_count": 91,
          "metadata": {},
          "output_type": "execute_result"
        }
      ],
      "source": [
        "# describe field name length\n",
        "df.name.str.len().describe()"
      ]
    },
    {
      "cell_type": "code",
      "execution_count": null,
      "id": "4aa9e924",
      "metadata": {
        "id": "4aa9e924",
        "outputId": "333108d7-7db7-40f6-d479-fb656a5eeab4"
      },
      "outputs": [
        {
          "data": {
            "text/plain": [
              "'Graham Chapman'"
            ]
          },
          "execution_count": 291,
          "metadata": {},
          "output_type": "execute_result"
        }
      ],
      "source": [
        "# get the longest name\n",
        "df.name[np.argmax(df.name.str.len())]"
      ]
    },
    {
      "cell_type": "code",
      "execution_count": null,
      "id": "3181fd6c",
      "metadata": {
        "id": "3181fd6c",
        "outputId": "0ad8a9c8-b6ae-44fc-f5c8-09ebc3361b21"
      },
      "outputs": [
        {
          "data": {
            "text/plain": [
              "2"
            ]
          },
          "execution_count": 287,
          "metadata": {},
          "output_type": "execute_result"
        }
      ],
      "source": [
        "df.name.str.contains('[Tt]erry').sum()"
      ]
    },
    {
      "cell_type": "markdown",
      "id": "d1d2cb31",
      "metadata": {
        "id": "d1d2cb31"
      },
      "source": [
        "### EXAMPLE > A SIMPLE RECIPE RECOMMENDER"
      ]
    },
    {
      "cell_type": "code",
      "execution_count": null,
      "id": "419666fe",
      "metadata": {
        "id": "419666fe",
        "outputId": "24b2d183-95f6-4850-be0b-5b08b81cb8c3"
      },
      "outputs": [
        {
          "data": {
            "text/html": [
              "<div>\n",
              "<style scoped>\n",
              "    .dataframe tbody tr th:only-of-type {\n",
              "        vertical-align: middle;\n",
              "    }\n",
              "\n",
              "    .dataframe tbody tr th {\n",
              "        vertical-align: top;\n",
              "    }\n",
              "\n",
              "    .dataframe thead th {\n",
              "        text-align: right;\n",
              "    }\n",
              "</style>\n",
              "<table border=\"1\" class=\"dataframe\">\n",
              "  <thead>\n",
              "    <tr style=\"text-align: right;\">\n",
              "      <th></th>\n",
              "      <th>John Cleese</th>\n",
              "      <th>Eric Idle</th>\n",
              "      <th>Terry Jones</th>\n",
              "      <th>Michael Palin</th>\n",
              "    </tr>\n",
              "  </thead>\n",
              "  <tbody>\n",
              "    <tr>\n",
              "      <th>0</th>\n",
              "      <td>False</td>\n",
              "      <td>False</td>\n",
              "      <td>False</td>\n",
              "      <td>False</td>\n",
              "    </tr>\n",
              "    <tr>\n",
              "      <th>1</th>\n",
              "      <td>True</td>\n",
              "      <td>False</td>\n",
              "      <td>False</td>\n",
              "      <td>False</td>\n",
              "    </tr>\n",
              "    <tr>\n",
              "      <th>2</th>\n",
              "      <td>False</td>\n",
              "      <td>False</td>\n",
              "      <td>False</td>\n",
              "      <td>False</td>\n",
              "    </tr>\n",
              "    <tr>\n",
              "      <th>3</th>\n",
              "      <td>False</td>\n",
              "      <td>True</td>\n",
              "      <td>False</td>\n",
              "      <td>False</td>\n",
              "    </tr>\n",
              "    <tr>\n",
              "      <th>4</th>\n",
              "      <td>False</td>\n",
              "      <td>False</td>\n",
              "      <td>True</td>\n",
              "      <td>False</td>\n",
              "    </tr>\n",
              "    <tr>\n",
              "      <th>5</th>\n",
              "      <td>False</td>\n",
              "      <td>False</td>\n",
              "      <td>False</td>\n",
              "      <td>True</td>\n",
              "    </tr>\n",
              "  </tbody>\n",
              "</table>\n",
              "</div>"
            ],
            "text/plain": [
              "   John Cleese  Eric Idle  Terry Jones  Michael Palin\n",
              "0        False      False        False          False\n",
              "1         True      False        False          False\n",
              "2        False      False        False          False\n",
              "3        False       True        False          False\n",
              "4        False      False         True          False\n",
              "5        False      False        False           True"
            ]
          },
          "execution_count": 295,
          "metadata": {},
          "output_type": "execute_result"
        }
      ],
      "source": [
        "import re\n",
        "name_list = ['John Cleese', 'Eric Idle', 'Terry Jones', 'Michael Palin']\n",
        "df_test = pd.DataFrame(dict((name, df.name.str.contains(name, re.IGNORECASE))\n",
        "                             for name in name_list))\n",
        "df_test"
      ]
    },
    {
      "cell_type": "code",
      "execution_count": null,
      "id": "30cbec7b",
      "metadata": {
        "id": "30cbec7b",
        "outputId": "f3729b2b-aa86-4b24-fd8e-0c8ae7a47344"
      },
      "outputs": [
        {
          "data": {
            "text/html": [
              "<div>\n",
              "<style scoped>\n",
              "    .dataframe tbody tr th:only-of-type {\n",
              "        vertical-align: middle;\n",
              "    }\n",
              "\n",
              "    .dataframe tbody tr th {\n",
              "        vertical-align: top;\n",
              "    }\n",
              "\n",
              "    .dataframe thead th {\n",
              "        text-align: right;\n",
              "    }\n",
              "</style>\n",
              "<table border=\"1\" class=\"dataframe\">\n",
              "  <thead>\n",
              "    <tr style=\"text-align: right;\">\n",
              "      <th></th>\n",
              "      <th>recipe</th>\n",
              "      <th>ingredients</th>\n",
              "    </tr>\n",
              "  </thead>\n",
              "  <tbody>\n",
              "    <tr>\n",
              "      <th>0</th>\n",
              "      <td>rice</td>\n",
              "      <td>salt, pepper, oregano, paprika, cumin</td>\n",
              "    </tr>\n",
              "    <tr>\n",
              "      <th>1</th>\n",
              "      <td>fish</td>\n",
              "      <td>pepper, oregano, paprika</td>\n",
              "    </tr>\n",
              "    <tr>\n",
              "      <th>2</th>\n",
              "      <td>pasta</td>\n",
              "      <td>pepper, paprika, cumin</td>\n",
              "    </tr>\n",
              "    <tr>\n",
              "      <th>3</th>\n",
              "      <td>meat</td>\n",
              "      <td>salt, pepper, paprika, cumin</td>\n",
              "    </tr>\n",
              "  </tbody>\n",
              "</table>\n",
              "</div>"
            ],
            "text/plain": [
              "  recipe                            ingredients\n",
              "0   rice  salt, pepper, oregano, paprika, cumin\n",
              "1   fish               pepper, oregano, paprika\n",
              "2  pasta                 pepper, paprika, cumin\n",
              "3   meat           salt, pepper, paprika, cumin"
            ]
          },
          "execution_count": 321,
          "metadata": {},
          "output_type": "execute_result"
        }
      ],
      "source": [
        "df_test = pd.DataFrame(\n",
        "    np.array([\n",
        "        ['rice', 'salt, pepper, oregano, paprika, cumin'],\n",
        "        ['fish', 'pepper, oregano, paprika'],\n",
        "        ['pasta', 'pepper, paprika, cumin'],\n",
        "        ['meat', 'salt, pepper, paprika, cumin']\n",
        "    ]),\n",
        "    index=[0, 1, 2, 3],\n",
        "    columns=['recipe', 'ingredients']\n",
        ")\n",
        "df_test"
      ]
    },
    {
      "cell_type": "code",
      "execution_count": null,
      "id": "9139b4f5",
      "metadata": {
        "id": "9139b4f5",
        "outputId": "b615e535-55c0-471c-94b9-21bedbe4de39"
      },
      "outputs": [
        {
          "data": {
            "text/html": [
              "<div>\n",
              "<style scoped>\n",
              "    .dataframe tbody tr th:only-of-type {\n",
              "        vertical-align: middle;\n",
              "    }\n",
              "\n",
              "    .dataframe tbody tr th {\n",
              "        vertical-align: top;\n",
              "    }\n",
              "\n",
              "    .dataframe thead th {\n",
              "        text-align: right;\n",
              "    }\n",
              "</style>\n",
              "<table border=\"1\" class=\"dataframe\">\n",
              "  <thead>\n",
              "    <tr style=\"text-align: right;\">\n",
              "      <th></th>\n",
              "      <th>salt</th>\n",
              "      <th>pepper</th>\n",
              "      <th>oregano</th>\n",
              "      <th>sage</th>\n",
              "      <th>parsley</th>\n",
              "      <th>paprika</th>\n",
              "      <th>cumin</th>\n",
              "    </tr>\n",
              "  </thead>\n",
              "  <tbody>\n",
              "    <tr>\n",
              "      <th>0</th>\n",
              "      <td>True</td>\n",
              "      <td>True</td>\n",
              "      <td>True</td>\n",
              "      <td>False</td>\n",
              "      <td>False</td>\n",
              "      <td>True</td>\n",
              "      <td>True</td>\n",
              "    </tr>\n",
              "    <tr>\n",
              "      <th>1</th>\n",
              "      <td>False</td>\n",
              "      <td>True</td>\n",
              "      <td>True</td>\n",
              "      <td>False</td>\n",
              "      <td>False</td>\n",
              "      <td>True</td>\n",
              "      <td>False</td>\n",
              "    </tr>\n",
              "    <tr>\n",
              "      <th>2</th>\n",
              "      <td>False</td>\n",
              "      <td>True</td>\n",
              "      <td>False</td>\n",
              "      <td>False</td>\n",
              "      <td>False</td>\n",
              "      <td>True</td>\n",
              "      <td>True</td>\n",
              "    </tr>\n",
              "    <tr>\n",
              "      <th>3</th>\n",
              "      <td>True</td>\n",
              "      <td>True</td>\n",
              "      <td>False</td>\n",
              "      <td>False</td>\n",
              "      <td>False</td>\n",
              "      <td>True</td>\n",
              "      <td>True</td>\n",
              "    </tr>\n",
              "  </tbody>\n",
              "</table>\n",
              "</div>"
            ],
            "text/plain": [
              "    salt  pepper  oregano   sage  parsley  paprika  cumin\n",
              "0   True    True     True  False    False     True   True\n",
              "1  False    True     True  False    False     True  False\n",
              "2  False    True    False  False    False     True   True\n",
              "3   True    True    False  False    False     True   True"
            ]
          },
          "execution_count": 322,
          "metadata": {},
          "output_type": "execute_result"
        }
      ],
      "source": [
        "import re\n",
        "spice_list = ['salt', 'pepper', 'oregano', 'sage', 'parsley', 'paprika', 'cumin']\n",
        "df_test_spice = pd.DataFrame(dict((spice, df_test.ingredients.str.contains(spice, re.IGNORECASE))\n",
        "                             for spice in spice_list))\n",
        "df_test_spice"
      ]
    },
    {
      "cell_type": "code",
      "execution_count": null,
      "id": "a061fe2d",
      "metadata": {
        "id": "a061fe2d",
        "outputId": "11fc7df4-34fe-4554-bd29-4732f1c044af"
      },
      "outputs": [
        {
          "data": {
            "text/plain": [
              "2"
            ]
          },
          "execution_count": 330,
          "metadata": {},
          "output_type": "execute_result"
        }
      ],
      "source": [
        "selection = df_test_spice.query('salt & paprika & cumin')\n",
        "len(selection)"
      ]
    },
    {
      "cell_type": "code",
      "execution_count": null,
      "id": "97360dea",
      "metadata": {
        "id": "97360dea",
        "outputId": "0632b75a-b850-4968-c9ec-9e1e2c23a981"
      },
      "outputs": [
        {
          "data": {
            "text/plain": [
              "0    rice\n",
              "3    meat\n",
              "Name: recipe, dtype: object"
            ]
          },
          "execution_count": 331,
          "metadata": {},
          "output_type": "execute_result"
        }
      ],
      "source": [
        "df_test.recipe[selection.index]"
      ]
    },
    {
      "cell_type": "markdown",
      "source": [
        "# DATAFRAME TO STRING"
      ],
      "metadata": {
        "id": "ftZAtZQ1R_BW"
      },
      "id": "ftZAtZQ1R_BW"
    },
    {
      "cell_type": "code",
      "source": [
        "'.'.join(data)"
      ],
      "metadata": {
        "colab": {
          "base_uri": "https://localhost:8080/",
          "height": 35
        },
        "id": "FYVtg8DLRKvR",
        "outputId": "cdaefada-f448-444a-d1a3-83f6fc26f2cf"
      },
      "id": "FYVtg8DLRKvR",
      "execution_count": 3,
      "outputs": [
        {
          "output_type": "execute_result",
          "data": {
            "text/plain": [
              "'Graham Chapman.John Cleese.Terry Gilliam.Eric Idle.Terry Jones.Michael Palin'"
            ],
            "application/vnd.google.colaboratory.intrinsic+json": {
              "type": "string"
            }
          },
          "metadata": {},
          "execution_count": 3
        }
      ]
    }
  ],
  "metadata": {
    "kernelspec": {
      "display_name": "Python 3",
      "language": "python",
      "name": "python3"
    },
    "language_info": {
      "codemirror_mode": {
        "name": "ipython",
        "version": 3
      },
      "file_extension": ".py",
      "mimetype": "text/x-python",
      "name": "python",
      "nbconvert_exporter": "python",
      "pygments_lexer": "ipython3",
      "version": "3.8.8"
    },
    "colab": {
      "name": "8. string operations.ipynb",
      "provenance": [],
      "toc_visible": true
    }
  },
  "nbformat": 4,
  "nbformat_minor": 5
}
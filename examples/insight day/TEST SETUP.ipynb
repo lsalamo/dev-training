{
 "cells": [
  {
   "cell_type": "markdown",
   "metadata": {},
   "source": [
    "### test python version\n",
    "\n",
    "Your version should be 3.7.X"
   ]
  },
  {
   "cell_type": "code",
   "execution_count": null,
   "metadata": {},
   "outputs": [],
   "source": [
    "! python --version"
   ]
  },
  {
   "cell_type": "markdown",
   "metadata": {},
   "source": [
    "### test packages\n",
    "\n",
    "If you get ImportError use `pip install package_name` in command line"
   ]
  },
  {
   "cell_type": "code",
   "execution_count": null,
   "metadata": {},
   "outputs": [],
   "source": [
    "import pandas as pd\n",
    "from pyathena import connect\n",
    "from getpass import getpass\n",
    "import matplotlib.pyplot as plot"
   ]
  },
  {
   "cell_type": "markdown",
   "metadata": {},
   "source": [
    "### test connection to data\n",
    "\n",
    "If your connection raises error you:\n",
    "* might be using wrong AWS credentials - make sure to use those you generated in Pulse Monitor\n",
    "* might have misspelled your credentials\n",
    "* might be trying to connect without Heimdall connection\n"
   ]
  },
  {
   "cell_type": "code",
   "execution_count": null,
   "metadata": {},
   "outputs": [],
   "source": [
    "user = \"{your_email}\"\n",
    "provider ='{your_provider}'"
   ]
  },
  {
   "cell_type": "code",
   "execution_count": null,
   "metadata": {},
   "outputs": [],
   "source": [
    "access_key = getpass(prompt=\"Enter your access key to databox: \")\n",
    "secret_key = getpass(prompt=\"Enter your secret to databox: \")"
   ]
  },
  {
   "cell_type": "code",
   "execution_count": null,
   "metadata": {},
   "outputs": [],
   "source": [
    "conn = connect(aws_access_key_id=access_key,\n",
    "               aws_secret_access_key=secret_key,\n",
    "               s3_staging_dir=\"s3://schibsted-spt-common-dev/user-areas/\"+ user,\n",
    "               region_name=\"eu-west-1\")"
   ]
  },
  {
   "cell_type": "markdown",
   "metadata": {},
   "source": [
    "### test query\n",
    "\n",
    "You should see first 5 rows from the dataframe\n",
    "\n",
    "If it raises error:\n",
    "* make sure your dataset request has been approved\n",
    "* sync up your permissions in Pulse Monitor"
   ]
  },
  {
   "cell_type": "code",
   "execution_count": null,
   "metadata": {},
   "outputs": [],
   "source": [
    "query_events = \"\"\"\n",
    "SELECT\n",
    "  *\n",
    "FROM\n",
    "  {}_databox.yellow_pulse_simple_1d\n",
    "LIMIT 10\n",
    "\"\"\"\n",
    "df_events = pd.read_sql(query_events.format(provider), conn)"
   ]
  },
  {
   "cell_type": "code",
   "execution_count": null,
   "metadata": {},
   "outputs": [],
   "source": [
    "df_events.head()"
   ]
  },
  {
   "cell_type": "markdown",
   "metadata": {},
   "source": [
    "### You are ready to go!"
   ]
  }
 ],
 "metadata": {
  "kernelspec": {
   "display_name": "Python 3",
   "language": "python",
   "name": "python3"
  },
  "language_info": {
   "codemirror_mode": {
    "name": "ipython",
    "version": 3
   },
   "file_extension": ".py",
   "mimetype": "text/x-python",
   "name": "python",
   "nbconvert_exporter": "python",
   "pygments_lexer": "ipython3",
   "version": "3.7.0"
  }
 },
 "nbformat": 4,
 "nbformat_minor": 2
}

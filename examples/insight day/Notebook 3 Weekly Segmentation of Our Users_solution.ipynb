{
 "cells": [
  {
   "cell_type": "markdown",
   "metadata": {},
   "source": [
    "## Segmentation of users\n",
    "\n",
    "We are going to play with the following dataset\n",
    "\n",
    "1.- **Dataset name to request access:** SQLaaSPulseAnonymizedSimple-1\n",
    "\n",
    "2.- **Athena (SQLaaS):** {provider}_databox.insights_sessions_fact_layer_7d\n",
    "\n",
    "3.- **S3 path** schibsted-spt-common-prod/yellow/pulse-simple/version=1-alpha/*/client=${provider}\n",
    "\n",
    "\n",
    "We are going to do a query per users and activity and then we are going to do a segmentation based on activity (# of days) and type of activity as follows:\n",
    "\n",
    "![](pictures/segmentation.png)"
   ]
  },
  {
   "cell_type": "code",
   "execution_count": 3,
   "metadata": {
    "collapsed": false
   },
   "outputs": [],
   "source": [
    "# Needed packages\n",
    "from pyathena import connect\n",
    "import pandas as pd\n",
    "import os\n",
    "import matplotlib.pyplot as plt\n",
    "%matplotlib inline"
   ]
  },
  {
   "cell_type": "code",
   "execution_count": 4,
   "metadata": {
    "collapsed": false
   },
   "outputs": [
    {
     "name": "stdout",
     "output_type": "stream",
     "text": [
      "Enter your access key to databox: ········\n",
      "Enter your secret to databox: ········\n"
     ]
    }
   ],
   "source": [
    "from getpass import getpass\n",
    "access_key = getpass(prompt=\"Enter your access key to databox: \")\n",
    "secret_key = getpass(prompt=\"Enter your secret to databox: \")\n",
    "\n",
    "# Some parameters (different way to extract the credential)\n",
    "user = \"maria.pelaez@schibsted.com/\"\n",
    "provider ='yapocl'\n",
    "\n",
    "# Establishing the connection\n",
    "conn = connect(aws_access_key_id=access_key,\n",
    "               aws_secret_access_key=secret_key,\n",
    "               s3_staging_dir=\"s3://schibsted-spt-common-dev/user-areas/\"+ user,\n",
    "               region_name=\"eu-west-1\")"
   ]
  },
  {
   "cell_type": "markdown",
   "metadata": {},
   "source": [
    "## Step 0: What information is available in this dataset?"
   ]
  },
  {
   "cell_type": "code",
   "execution_count": 5,
   "metadata": {
    "collapsed": false
   },
   "outputs": [
    {
     "data": {
      "text/plain": [
       "category               object\n",
       "name                   object\n",
       "objectlatitude         object\n",
       "objectlongitude        object\n",
       "objectid               object\n",
       "url                    object\n",
       "items                  object\n",
       "objecttype             object\n",
       "useragent              object\n",
       "providerid             object\n",
       "providerurl            object\n",
       "providerproduct        object\n",
       "providerproducttype    object\n",
       "environmentid          object\n",
       "isloggedin               bool\n",
       "jweids                 object\n",
       "screensize             object\n",
       "pageviewid             object\n",
       "sptpageviewid          object\n",
       "id                     object\n",
       "type                   object\n",
       "latitude               object\n",
       "longitude              object\n",
       "locationaccuracy       object\n",
       "locationtimestamp      object\n",
       "originurl              object\n",
       "published              object\n",
       "trackertype            object\n",
       "intent                 object\n",
       "objectintent           object\n",
       "devicetype             object\n",
       "version                object\n",
       "year                    int64\n",
       "month                   int64\n",
       "day                     int64\n",
       "hour                    int64\n",
       "gen                     int64\n",
       "client                 object\n",
       "dtype: object"
      ]
     },
     "execution_count": 5,
     "metadata": {},
     "output_type": "execute_result"
    }
   ],
   "source": [
    "describe_events = \"\"\"\n",
    "SELECT * FROM {}_databox.yellow_pulse_simple_7d LIMIT 1\n",
    "\"\"\"\n",
    "pd.read_sql(describe_events.format(provider), conn).dtypes"
   ]
  },
  {
   "cell_type": "code",
   "execution_count": 26,
   "metadata": {
    "collapsed": false,
    "scrolled": false
   },
   "outputs": [
    {
     "name": "stdout",
     "output_type": "stream",
     "text": [
      "CPU times: user 5 µs, sys: 1e+03 ns, total: 6 µs\n",
      "Wall time: 11 µs\n"
     ]
    }
   ],
   "source": [
    "%%time\n",
    "\n",
    "query1 = \"\"\"\n",
    "SELECT\n",
    " environmentid,\n",
    " sum(nof_listings) as nof_listings,\n",
    " sum(nof_classifieds) as nof_classifieds,\n",
    " sum(nof_pages) as nof_pages,\n",
    " sum(nof_created) as nof_created,\n",
    " sum(nof_call) as nof_call,\n",
    " sum(nof_Show) as nof_Show,\n",
    " sum(nof_Send) as nof_Send,\n",
    " sum(nof_SMS) as nof_SMS\n",
    " FROM\n",
    " (\n",
    "  SELECT\n",
    "      environmentid,\n",
    "      CASE WHEN (type='View' and objecttype = 'Listing') THEN SUM(1) else 0 end as nof_listings,\n",
    "      CASE WHEN (type='View' and objecttype = 'ClassifiedAd') THEN SUM(1) else 0 end as nof_classifieds,\n",
    "      CASE WHEN (type='View' and objecttype = 'Content')  THEN SUM(1) else 0 end as nof_content,\n",
    "      CASE WHEN (type='View' and objecttype = 'Page') THEN SUM(1) else 0 end as nof_pages,\n",
    "      CASE WHEN (type='Create' and objecttype = 'ClassifiedAd' ) THEN SUM(1) else 0 end as nof_created,\n",
    "      CASE WHEN (type='Call' and objecttype = 'PhoneContact') THEN SUM(1) else 0 end as nof_call,\n",
    "      CASE WHEN (type='Show' and objecttype = 'PhoneContact') THEN SUM(1) else 0 end as nof_Show,\n",
    "      CASE WHEN (type='Send' and objecttype = 'Message') THEN SUM(1) else 0 end as nof_Send,\n",
    "      CASE WHEN (type='SMS' and objecttype = 'PhoneContact') THEN SUM(1) else 0 end as nof_SMS\n",
    "    FROM\n",
    "      {}_databox.yellow_pulse_simple_7d\n",
    "    GROUP BY\n",
    "      environmentid, \n",
    "      type,\n",
    "      objecttype\n",
    " )\n",
    "GROUP BY\n",
    "  environmentid\n",
    ";\n",
    "\"\"\"\n",
    "\n",
    "query2 = \"\"\"\n",
    "SELECT\n",
    "      environmentid,\n",
    "      count(distinct day) as active_days,\n",
    "      count(environmentid) as total_events,\n",
    "      count(nullif(isloggedin = true, false)) as total_logged_events\n",
    "    FROM\n",
    "      {}_databox.yellow_pulse_simple_7d\n",
    "    GROUP BY\n",
    "      environmentid\n",
    ";\n",
    "\"\"\"\n",
    "#df1 = pd.read_sql(query1.format(provider), conn)\n",
    "#df2 = pd.read_sql(query2.format(provider), conn)\n",
    "#df = df2.merge(df1,on='environmentid',how='left')"
   ]
  },
  {
   "cell_type": "code",
   "execution_count": 27,
   "metadata": {
    "collapsed": true
   },
   "outputs": [],
   "source": [
    "# in case the query is long, we are going to use this fake data\n",
    "df = pd.read_csv(\"aggregatedDataset_7d.csv\")"
   ]
  },
  {
   "cell_type": "code",
   "execution_count": 28,
   "metadata": {
    "collapsed": false
   },
   "outputs": [
    {
     "data": {
      "text/html": [
       "<div>\n",
       "<style scoped>\n",
       "    .dataframe tbody tr th:only-of-type {\n",
       "        vertical-align: middle;\n",
       "    }\n",
       "\n",
       "    .dataframe tbody tr th {\n",
       "        vertical-align: top;\n",
       "    }\n",
       "\n",
       "    .dataframe thead th {\n",
       "        text-align: right;\n",
       "    }\n",
       "</style>\n",
       "<table border=\"1\" class=\"dataframe\">\n",
       "  <thead>\n",
       "    <tr style=\"text-align: right;\">\n",
       "      <th></th>\n",
       "      <th>environmentid</th>\n",
       "      <th>active_days</th>\n",
       "      <th>total_events</th>\n",
       "      <th>total_logged_events</th>\n",
       "      <th>nof_listings</th>\n",
       "      <th>nof_classifieds</th>\n",
       "      <th>nof_pages</th>\n",
       "      <th>nof_created</th>\n",
       "      <th>nof_call</th>\n",
       "      <th>nof_Show</th>\n",
       "      <th>nof_Send</th>\n",
       "      <th>nof_SMS</th>\n",
       "    </tr>\n",
       "  </thead>\n",
       "  <tbody>\n",
       "    <tr>\n",
       "      <th>0</th>\n",
       "      <td>0</td>\n",
       "      <td>7</td>\n",
       "      <td>924</td>\n",
       "      <td>0</td>\n",
       "      <td>576</td>\n",
       "      <td>296</td>\n",
       "      <td>46</td>\n",
       "      <td>0</td>\n",
       "      <td>2</td>\n",
       "      <td>4</td>\n",
       "      <td>0</td>\n",
       "      <td>0</td>\n",
       "    </tr>\n",
       "    <tr>\n",
       "      <th>1</th>\n",
       "      <td>1</td>\n",
       "      <td>6</td>\n",
       "      <td>181</td>\n",
       "      <td>0</td>\n",
       "      <td>127</td>\n",
       "      <td>53</td>\n",
       "      <td>1</td>\n",
       "      <td>0</td>\n",
       "      <td>0</td>\n",
       "      <td>0</td>\n",
       "      <td>0</td>\n",
       "      <td>0</td>\n",
       "    </tr>\n",
       "    <tr>\n",
       "      <th>2</th>\n",
       "      <td>2</td>\n",
       "      <td>1</td>\n",
       "      <td>10</td>\n",
       "      <td>0</td>\n",
       "      <td>10</td>\n",
       "      <td>0</td>\n",
       "      <td>0</td>\n",
       "      <td>0</td>\n",
       "      <td>0</td>\n",
       "      <td>0</td>\n",
       "      <td>0</td>\n",
       "      <td>0</td>\n",
       "    </tr>\n",
       "    <tr>\n",
       "      <th>3</th>\n",
       "      <td>3</td>\n",
       "      <td>3</td>\n",
       "      <td>159</td>\n",
       "      <td>0</td>\n",
       "      <td>20</td>\n",
       "      <td>133</td>\n",
       "      <td>6</td>\n",
       "      <td>0</td>\n",
       "      <td>0</td>\n",
       "      <td>0</td>\n",
       "      <td>0</td>\n",
       "      <td>0</td>\n",
       "    </tr>\n",
       "    <tr>\n",
       "      <th>4</th>\n",
       "      <td>4</td>\n",
       "      <td>7</td>\n",
       "      <td>587</td>\n",
       "      <td>0</td>\n",
       "      <td>425</td>\n",
       "      <td>156</td>\n",
       "      <td>4</td>\n",
       "      <td>0</td>\n",
       "      <td>0</td>\n",
       "      <td>0</td>\n",
       "      <td>1</td>\n",
       "      <td>0</td>\n",
       "    </tr>\n",
       "  </tbody>\n",
       "</table>\n",
       "</div>"
      ],
      "text/plain": [
       "   environmentid  active_days  total_events  total_logged_events  \\\n",
       "0              0            7           924                    0   \n",
       "1              1            6           181                    0   \n",
       "2              2            1            10                    0   \n",
       "3              3            3           159                    0   \n",
       "4              4            7           587                    0   \n",
       "\n",
       "   nof_listings  nof_classifieds  nof_pages  nof_created  nof_call  nof_Show  \\\n",
       "0           576              296         46            0         2         4   \n",
       "1           127               53          1            0         0         0   \n",
       "2            10                0          0            0         0         0   \n",
       "3            20              133          6            0         0         0   \n",
       "4           425              156          4            0         0         0   \n",
       "\n",
       "   nof_Send  nof_SMS  \n",
       "0         0        0  \n",
       "1         0        0  \n",
       "2         0        0  \n",
       "3         0        0  \n",
       "4         1        0  "
      ]
     },
     "execution_count": 28,
     "metadata": {},
     "output_type": "execute_result"
    }
   ],
   "source": [
    "df.head()"
   ]
  },
  {
   "cell_type": "markdown",
   "metadata": {},
   "source": [
    "## **Exercise 1**:\n",
    "\n",
    "Create a function to apply the previous segmentation. After this, please answer the following questions:\n",
    "\n",
    "1.1 What is the distribution of the segmentation?\n",
    "\n",
    "1.2 What is the volume of total events that every segment consumes?\n",
    "\n",
    "1.3 What is the distribution of active days per segment?\n",
    "\n",
    "1.4 What are the main charactersitics of every segment?\n",
    "\n",
    "> Please write the results in the cardboard of the site that you are studying\n"
   ]
  },
  {
   "cell_type": "code",
   "execution_count": 14,
   "metadata": {
    "collapsed": true
   },
   "outputs": [],
   "source": [
    "def assignSegment(row):\n",
    "    if row[\"active_days\"] >= 4:\n",
    "        return \"POWER\"\n",
    "    elif row[\"nof_listings\"] / (row[\"total_events\"]) >= 0.7:\n",
    "        return \"SEARCHER\"\n",
    "    elif row[\"nof_classifieds\"] / (row[\"total_events\"]) >= 0.7:\n",
    "        return \"WINDOW SHOPPER\"\n",
    "    elif (row[\"nof_listings\"] + row[\"nof_classifieds\"]) / (row[\"total_events\"]) <= 0.2:\n",
    "        return \"NON BROWSER\"\n",
    "    else:\n",
    "        return \"AVERAGE\"\n"
   ]
  },
  {
   "cell_type": "code",
   "execution_count": 47,
   "metadata": {
    "collapsed": false
   },
   "outputs": [
    {
     "name": "stdout",
     "output_type": "stream",
     "text": [
      "CPU times: user 1min 40s, sys: 517 ms, total: 1min 41s\n",
      "Wall time: 1min 41s\n"
     ]
    }
   ],
   "source": [
    "%%time\n",
    "df['segment'] = df.apply(lambda x: assignSegment(x), axis=1)"
   ]
  },
  {
   "cell_type": "markdown",
   "metadata": {},
   "source": [
    "DISTRIBUTION OF SEGMENTS"
   ]
  },
  {
   "cell_type": "code",
   "execution_count": 48,
   "metadata": {
    "collapsed": false
   },
   "outputs": [],
   "source": [
    "table = 100 * df[\"segment\"].value_counts(normalize=True)"
   ]
  },
  {
   "cell_type": "markdown",
   "metadata": {},
   "source": [
    "WHAT IS THE VOLUME OF EVENTS CONSUMED BY EACH SEGMENT"
   ]
  },
  {
   "cell_type": "code",
   "execution_count": 49,
   "metadata": {
    "collapsed": true
   },
   "outputs": [],
   "source": [
    "segments_counts = df.groupby(\"segment\")[\"total_events\"].sum()"
   ]
  },
  {
   "cell_type": "code",
   "execution_count": 50,
   "metadata": {
    "collapsed": false
   },
   "outputs": [
    {
     "data": {
      "text/plain": [
       "segment\n",
       "AVERAGE           0.329506\n",
       "NON BROWSER       0.011650\n",
       "POWER             0.581186\n",
       "SEARCHER          0.061828\n",
       "WINDOW SHOPPER    0.015830\n",
       "Name: total_events, dtype: float64"
      ]
     },
     "execution_count": 50,
     "metadata": {},
     "output_type": "execute_result"
    }
   ],
   "source": [
    "segments_counts / segments_counts.sum()"
   ]
  },
  {
   "cell_type": "code",
   "execution_count": 51,
   "metadata": {
    "collapsed": false
   },
   "outputs": [
    {
     "data": {
      "text/html": [
       "<div>\n",
       "<style scoped>\n",
       "    .dataframe tbody tr th:only-of-type {\n",
       "        vertical-align: middle;\n",
       "    }\n",
       "\n",
       "    .dataframe tbody tr th {\n",
       "        vertical-align: top;\n",
       "    }\n",
       "\n",
       "    .dataframe thead th {\n",
       "        text-align: right;\n",
       "    }\n",
       "</style>\n",
       "<table border=\"1\" class=\"dataframe\">\n",
       "  <thead>\n",
       "    <tr style=\"text-align: right;\">\n",
       "      <th></th>\n",
       "      <th>segment</th>\n",
       "      <th>total_events</th>\n",
       "      <th>environmentid</th>\n",
       "    </tr>\n",
       "  </thead>\n",
       "  <tbody>\n",
       "    <tr>\n",
       "      <th>0</th>\n",
       "      <td>AVERAGE</td>\n",
       "      <td>41151686</td>\n",
       "      <td>1014947</td>\n",
       "    </tr>\n",
       "    <tr>\n",
       "      <th>1</th>\n",
       "      <td>NON BROWSER</td>\n",
       "      <td>1454943</td>\n",
       "      <td>169922</td>\n",
       "    </tr>\n",
       "    <tr>\n",
       "      <th>2</th>\n",
       "      <td>POWER</td>\n",
       "      <td>72583647</td>\n",
       "      <td>311594</td>\n",
       "    </tr>\n",
       "    <tr>\n",
       "      <th>3</th>\n",
       "      <td>SEARCHER</td>\n",
       "      <td>7721570</td>\n",
       "      <td>467560</td>\n",
       "    </tr>\n",
       "    <tr>\n",
       "      <th>4</th>\n",
       "      <td>WINDOW SHOPPER</td>\n",
       "      <td>1977049</td>\n",
       "      <td>217216</td>\n",
       "    </tr>\n",
       "  </tbody>\n",
       "</table>\n",
       "</div>"
      ],
      "text/plain": [
       "          segment  total_events  environmentid\n",
       "0         AVERAGE      41151686        1014947\n",
       "1     NON BROWSER       1454943         169922\n",
       "2           POWER      72583647         311594\n",
       "3        SEARCHER       7721570         467560\n",
       "4  WINDOW SHOPPER       1977049         217216"
      ]
     },
     "execution_count": 51,
     "metadata": {},
     "output_type": "execute_result"
    }
   ],
   "source": [
    "segments = df.groupby('segment').agg({'environmentid':'nunique',\n",
    "                                      'total_events':'sum'}).reset_index()\n",
    "segments.head()"
   ]
  },
  {
   "cell_type": "code",
   "execution_count": 52,
   "metadata": {
    "collapsed": false
   },
   "outputs": [
    {
     "data": {
      "image/png": "[encoded data removed]",
      "text/plain": [
       "<matplotlib.figure.Figure at 0x17bc9b198>"
      ]
     },
     "metadata": {},
     "output_type": "display_data"
    }
   ],
   "source": [
    "segments['volume'] = 100 * segments['environmentid']/segments['environmentid'].sum()\n",
    "segments['volume_ev'] = 100 * segments['total_events']/segments['total_events'].sum()\n",
    "plt.rcParams['figure.figsize'] = (14, 6)\n",
    "fig, ax = plt.subplots(1,2, sharey=True,sharex=True)\n",
    "segments.sort_values('environmentid').plot(x='segment',y='volume',kind='barh',\n",
    "                                   ax=ax[0],color='#D2500F',legend=False)\n",
    "ax[0].set_title('Volume weekly users')\n",
    "segments.sort_values('environmentid').plot(x='segment',y='volume_ev',kind='barh',\n",
    "                                   ax=ax[1],color='#3C7F8E',legend=False)\n",
    "ax[1].set_title('Volume Events that every group generates')\n",
    "ax[0].set_ylabel(\"\")\n",
    "vals0 = ax[0].get_xticks()\n",
    "_ = ax[0].set_xticklabels(['{:g}%'.format(x) for x in vals0])"
   ]
  },
  {
   "cell_type": "markdown",
   "metadata": {},
   "source": [
    "> What are the characteristics of every segment?"
   ]
  },
  {
   "cell_type": "code",
   "execution_count": 53,
   "metadata": {
    "collapsed": true
   },
   "outputs": [],
   "source": [
    "df['perc_lis'] = 100*df['nof_listings']/df['total_events']\n",
    "df['perc_av'] = 100*df['nof_classifieds']/df['total_events']\n",
    "df['log_events'] = 100* df['total_logged_events']/df['total_events']\n",
    "df['leads'] = df['nof_SMS']+df['nof_Send']+df['nof_Show']+df['nof_call']\n",
    "df['listings per day'] = df['nof_listings']/df['active_days']\n",
    "df['adviews per day'] = df['nof_classifieds']/df['active_days']\n",
    "df['pages per day'] = df['nof_pages']/df['active_days']"
   ]
  },
  {
   "cell_type": "code",
   "execution_count": 54,
   "metadata": {
    "collapsed": false
   },
   "outputs": [],
   "source": [
    "active_features = df.groupby('segment').agg({'environmentid':'nunique',\n",
    "                                             'active_days':'mean',\n",
    "                                             'perc_lis':'mean',\n",
    "                                             'perc_av':'mean'}).reset_index()\n",
    "pasive_features1 = df.groupby('segment').agg({'environmentid':'nunique',\n",
    "                                              'listings per day':'mean',\n",
    "                                             'adviews per day':'mean',\n",
    "                                             'pages per day':'mean'}).reset_index()\n",
    "pasive_features2 = df.groupby('segment').agg({'environmentid':'nunique',\n",
    "                                              'log_events':'mean',\n",
    "                                              'leads':'mean',\n",
    "                                              'nof_created':'mean'}).reset_index()"
   ]
  },
  {
   "cell_type": "code",
   "execution_count": 57,
   "metadata": {
    "collapsed": false
   },
   "outputs": [
    {
     "data": {
      "text/plain": [
       "<matplotlib.text.Text at 0x1776b85c0>"
      ]
     },
     "execution_count": 57,
     "metadata": {},
     "output_type": "execute_result"
    },
    {
     "data": {
      "image/png": "[encoded data removed]",
      "text/plain": [
       "<matplotlib.figure.Figure at 0x13b5d67b8>"
      ]
     },
     "metadata": {},
     "output_type": "display_data"
    }
   ],
   "source": [
    "color1 = ['#5ac0d6','#19274a','#99DAE1']\n",
    "color2 = ['#E5B9A4','#B3C9CE','#D2500F']\n",
    "color3 = ['#84D2DE','#4DA2BB','#336582']\n",
    "\n",
    "fig1, ax1 = plt.subplots(1,5, sharey=True,figsize=(18,8))\n",
    "aux = active_features.sort_values('environmentid')\n",
    "aux.index = aux.segment\n",
    "aux[['active_days','perc_lis','perc_av']].plot(kind='barh',ax=ax1[0],color=color1)\n",
    "ax1[0].legend(['active days','% listings', '% ad views'])\n",
    "ax1[0].set_ylabel(\"\")\n",
    "\n",
    "aux = pasive_features1.sort_values('environmentid')\n",
    "aux.index = aux.segment\n",
    "aux[['listings per day','adviews per day','pages per day']].plot(kind='barh',ax=ax1[1],color=color2)\n",
    "ax1[1].set_ylabel(\"\")\n",
    "\n",
    "aux = pasive_features2.sort_values('environmentid')\n",
    "aux.index = aux.segment\n",
    "aux[['leads']].plot(kind='barh',ax=ax1[2],color='orange')\n",
    "ax1[2].set_ylabel(\"\")\n",
    "\n",
    "aux = pasive_features2.sort_values('environmentid')\n",
    "aux.index = aux.segment\n",
    "aux[['nof_created']].plot(kind='barh',ax=ax1[3],color='gray')\n",
    "ax1[3].set_ylabel(\"\")\n",
    "\n",
    "aux = pasive_features2.sort_values('environmentid')\n",
    "aux.index = aux.segment\n",
    "aux[['log_events']].plot(kind='barh',ax=ax1[4],color='blue')\n",
    "ax1[4].set_ylabel(\"\")"
   ]
  },
  {
   "cell_type": "markdown",
   "metadata": {},
   "source": [
    "WHAT IS THE DISTRIBUTION OF ACTIVE DAYS BY SEGMENT"
   ]
  },
  {
   "cell_type": "code",
   "execution_count": 58,
   "metadata": {
    "collapsed": false
   },
   "outputs": [
    {
     "data": {
      "text/plain": [
       "<matplotlib.axes._subplots.AxesSubplot at 0x14feb7860>"
      ]
     },
     "execution_count": 58,
     "metadata": {},
     "output_type": "execute_result"
    },
    {
     "data": {
      "image/png": "[encoded data removed]",
      "text/plain": [
       "<matplotlib.figure.Figure at 0x154c46a58>"
      ]
     },
     "metadata": {},
     "output_type": "display_data"
    }
   ],
   "source": [
    "df.groupby(['segment','active_days']).agg({'environmentid':'count'})\\\n",
    "                                     .reset_index()\\\n",
    "                                     .pivot_table(index='segment',\n",
    "                                                  columns='active_days',\n",
    "                                                  values='environmentid')\\\n",
    "                                     .plot(kind='barh')\n",
    "        "
   ]
  },
  {
   "cell_type": "code",
   "execution_count": 59,
   "metadata": {
    "collapsed": false
   },
   "outputs": [
    {
     "data": {
      "text/plain": [
       "segment\n",
       "AVERAGE           1.540390\n",
       "NON BROWSER       1.235979\n",
       "POWER             5.368634\n",
       "SEARCHER          1.317087\n",
       "WINDOW SHOPPER    1.152369\n",
       "Name: active_days, dtype: float64"
      ]
     },
     "execution_count": 59,
     "metadata": {},
     "output_type": "execute_result"
    }
   ],
   "source": [
    "df.groupby(\"segment\")[\"active_days\"].mean()"
   ]
  },
  {
   "cell_type": "markdown",
   "metadata": {},
   "source": [
    "## **Exercise 2** (difficulty medium):\n",
    "\n",
    "[Recency, frequency and monetary](https://en.wikipedia.org/wiki/RFM_(customer_value)) is another way to segment our users. Using `{}_databox.yellow_pulse_simple_7d` create a query to extract the following for eeach user:\n",
    "- number of active days,\n",
    "- day of the first visit\n",
    "- day of the last visit\n",
    "- total number of events\n",
    "\n",
    "Do a weekly RFM of our users using the features above.\n",
    "\n",
    "Any interesting conclusions?\n",
    "\n",
    "**Hint**: use [pandas.cut](https://pandas.pydata.org/pandas-docs/version/0.23.4/generated/pandas.cut.html)"
   ]
  },
  {
   "cell_type": "code",
   "execution_count": 60,
   "metadata": {
    "collapsed": true
   },
   "outputs": [],
   "source": [
    "query = \"\"\"\n",
    "SELECT\n",
    " environmentid, \n",
    " count(distinct day) AS active_days, \n",
    " min(published) as day_first_visit, \n",
    " max(published) as day_last_visit, \n",
    " count(environmentid) nof_events\n",
    "FROM yapocl_databox.yellow_pulse_simple_7d \n",
    "GROUP BY\n",
    "environmentid\n",
    "\"\"\""
   ]
  },
  {
   "cell_type": "code",
   "execution_count": 61,
   "metadata": {
    "collapsed": false
   },
   "outputs": [
    {
     "name": "stdout",
     "output_type": "stream",
     "text": [
      "CPU times: user 1min 40s, sys: 3.27 s, total: 1min 43s\n",
      "Wall time: 12min 13s\n"
     ]
    }
   ],
   "source": [
    "%%time\n",
    "df_rfm = pd.read_sql(query, conn)"
   ]
  },
  {
   "cell_type": "code",
   "execution_count": 62,
   "metadata": {
    "collapsed": true
   },
   "outputs": [],
   "source": [
    "df_rfm[\"day_first_visit\"] = pd.to_datetime(df_rfm[\"day_first_visit\"], \n",
    "                                           infer_datetime_format=True)"
   ]
  },
  {
   "cell_type": "code",
   "execution_count": 63,
   "metadata": {
    "collapsed": true
   },
   "outputs": [],
   "source": [
    "df_rfm[\"day_last_visit\"] = pd.to_datetime(df_rfm[\"day_last_visit\"], \n",
    "                                          infer_datetime_format=True)"
   ]
  },
  {
   "cell_type": "markdown",
   "metadata": {},
   "source": [
    "RECENCY"
   ]
  },
  {
   "cell_type": "code",
   "execution_count": 68,
   "metadata": {
    "collapsed": true
   },
   "outputs": [],
   "source": [
    "df_rfm[\"today\"] = pd.Timestamp.now()"
   ]
  },
  {
   "cell_type": "code",
   "execution_count": 69,
   "metadata": {
    "collapsed": true
   },
   "outputs": [],
   "source": [
    "df_rfm[\"days since last visit\"] = (df_rfm[\"today\"] - df_rfm[\"day_last_visit\"]).dt.days"
   ]
  },
  {
   "cell_type": "code",
   "execution_count": 70,
   "metadata": {
    "collapsed": true
   },
   "outputs": [],
   "source": [
    "df_rfm[\"recency segment\"] = pd.cut(df_rfm[\"days since last visit\"], bins=3, labels=[\"recent\", \"medium\", \"not recent\"])"
   ]
  },
  {
   "cell_type": "code",
   "execution_count": 71,
   "metadata": {
    "collapsed": false
   },
   "outputs": [
    {
     "data": {
      "text/plain": [
       "recent        0.537708\n",
       "not recent    0.260085\n",
       "medium        0.202207\n",
       "Name: recency segment, dtype: float64"
      ]
     },
     "execution_count": 71,
     "metadata": {},
     "output_type": "execute_result"
    }
   ],
   "source": [
    "df_rfm[\"recency segment\"].value_counts(normalize=True)"
   ]
  },
  {
   "cell_type": "code",
   "execution_count": 72,
   "metadata": {
    "collapsed": false
   },
   "outputs": [
    {
     "data": {
      "text/plain": [
       "recency segment\n",
       "recent        0.726295\n",
       "medium        3.483152\n",
       "not recent    5.588303\n",
       "Name: days since last visit, dtype: float64"
      ]
     },
     "execution_count": 72,
     "metadata": {},
     "output_type": "execute_result"
    }
   ],
   "source": [
    "df_rfm.groupby(\"recency segment\")[\"days since last visit\"].mean()"
   ]
  },
  {
   "cell_type": "markdown",
   "metadata": {},
   "source": [
    "FREQUENCY"
   ]
  },
  {
   "cell_type": "code",
   "execution_count": 73,
   "metadata": {
    "collapsed": true
   },
   "outputs": [],
   "source": [
    "df_rfm[\"frequency segment\"] = pd.cut(df_rfm[\"active_days\"], bins=3, labels=[\"not frequent\", \"medium\", \"frequent\"])"
   ]
  },
  {
   "cell_type": "code",
   "execution_count": 74,
   "metadata": {
    "collapsed": false
   },
   "outputs": [
    {
     "data": {
      "text/html": [
       "<div>\n",
       "<style scoped>\n",
       "    .dataframe tbody tr th:only-of-type {\n",
       "        vertical-align: middle;\n",
       "    }\n",
       "\n",
       "    .dataframe tbody tr th {\n",
       "        vertical-align: top;\n",
       "    }\n",
       "\n",
       "    .dataframe thead th {\n",
       "        text-align: right;\n",
       "    }\n",
       "</style>\n",
       "<table border=\"1\" class=\"dataframe\">\n",
       "  <thead>\n",
       "    <tr style=\"text-align: right;\">\n",
       "      <th></th>\n",
       "      <th>environmentid</th>\n",
       "      <th>active_days</th>\n",
       "      <th>day_first_visit</th>\n",
       "      <th>day_last_visit</th>\n",
       "      <th>nof_events</th>\n",
       "      <th>today</th>\n",
       "      <th>days since last visit</th>\n",
       "      <th>recency segment</th>\n",
       "      <th>frequency segment</th>\n",
       "    </tr>\n",
       "  </thead>\n",
       "  <tbody>\n",
       "    <tr>\n",
       "      <th>0</th>\n",
       "      <td>sdrn:schibsted:environment:19ffd1f9-b4c0-4023-...</td>\n",
       "      <td>5</td>\n",
       "      <td>2018-10-29 22:02:22</td>\n",
       "      <td>2018-11-04 07:58:29</td>\n",
       "      <td>145</td>\n",
       "      <td>2018-11-05 14:34:54.223119</td>\n",
       "      <td>1</td>\n",
       "      <td>recent</td>\n",
       "      <td>medium</td>\n",
       "    </tr>\n",
       "    <tr>\n",
       "      <th>1</th>\n",
       "      <td>sdrn:schibsted:environment:230e7c19-8b20-406f-...</td>\n",
       "      <td>1</td>\n",
       "      <td>2018-11-04 07:17:23</td>\n",
       "      <td>2018-11-04 07:29:08</td>\n",
       "      <td>17</td>\n",
       "      <td>2018-11-05 14:34:54.223119</td>\n",
       "      <td>1</td>\n",
       "      <td>recent</td>\n",
       "      <td>not frequent</td>\n",
       "    </tr>\n",
       "    <tr>\n",
       "      <th>2</th>\n",
       "      <td>sdrn:schibsted:environment:fb2dd6aa-c497-4a59-...</td>\n",
       "      <td>8</td>\n",
       "      <td>2018-10-29 13:20:05</td>\n",
       "      <td>2018-11-05 07:18:21</td>\n",
       "      <td>846</td>\n",
       "      <td>2018-11-05 14:34:54.223119</td>\n",
       "      <td>0</td>\n",
       "      <td>recent</td>\n",
       "      <td>frequent</td>\n",
       "    </tr>\n",
       "    <tr>\n",
       "      <th>3</th>\n",
       "      <td>sdrn:schibsted:environment:76b822b1-bb3c-4bbd-...</td>\n",
       "      <td>5</td>\n",
       "      <td>2018-10-30 22:09:37</td>\n",
       "      <td>2018-11-05 10:50:28</td>\n",
       "      <td>216</td>\n",
       "      <td>2018-11-05 14:34:54.223119</td>\n",
       "      <td>0</td>\n",
       "      <td>recent</td>\n",
       "      <td>medium</td>\n",
       "    </tr>\n",
       "    <tr>\n",
       "      <th>4</th>\n",
       "      <td>sdrn:schibsted:environment:3c6b91e5-23bd-42a6-...</td>\n",
       "      <td>6</td>\n",
       "      <td>2018-10-29 12:25:38</td>\n",
       "      <td>2018-11-05 04:47:10</td>\n",
       "      <td>469</td>\n",
       "      <td>2018-11-05 14:34:54.223119</td>\n",
       "      <td>0</td>\n",
       "      <td>recent</td>\n",
       "      <td>frequent</td>\n",
       "    </tr>\n",
       "  </tbody>\n",
       "</table>\n",
       "</div>"
      ],
      "text/plain": [
       "                                       environmentid  active_days  \\\n",
       "0  sdrn:schibsted:environment:19ffd1f9-b4c0-4023-...            5   \n",
       "1  sdrn:schibsted:environment:230e7c19-8b20-406f-...            1   \n",
       "2  sdrn:schibsted:environment:fb2dd6aa-c497-4a59-...            8   \n",
       "3  sdrn:schibsted:environment:76b822b1-bb3c-4bbd-...            5   \n",
       "4  sdrn:schibsted:environment:3c6b91e5-23bd-42a6-...            6   \n",
       "\n",
       "      day_first_visit      day_last_visit  nof_events  \\\n",
       "0 2018-10-29 22:02:22 2018-11-04 07:58:29         145   \n",
       "1 2018-11-04 07:17:23 2018-11-04 07:29:08          17   \n",
       "2 2018-10-29 13:20:05 2018-11-05 07:18:21         846   \n",
       "3 2018-10-30 22:09:37 2018-11-05 10:50:28         216   \n",
       "4 2018-10-29 12:25:38 2018-11-05 04:47:10         469   \n",
       "\n",
       "                       today  days since last visit recency segment  \\\n",
       "0 2018-11-05 14:34:54.223119                      1          recent   \n",
       "1 2018-11-05 14:34:54.223119                      1          recent   \n",
       "2 2018-11-05 14:34:54.223119                      0          recent   \n",
       "3 2018-11-05 14:34:54.223119                      0          recent   \n",
       "4 2018-11-05 14:34:54.223119                      0          recent   \n",
       "\n",
       "  frequency segment  \n",
       "0            medium  \n",
       "1      not frequent  \n",
       "2          frequent  \n",
       "3            medium  \n",
       "4          frequent  "
      ]
     },
     "execution_count": 74,
     "metadata": {},
     "output_type": "execute_result"
    }
   ],
   "source": [
    "df_rfm.head()"
   ]
  },
  {
   "cell_type": "code",
   "execution_count": 75,
   "metadata": {
    "collapsed": false
   },
   "outputs": [
    {
     "data": {
      "text/plain": [
       "not frequent    0.855864\n",
       "medium          0.085505\n",
       "frequent        0.058631\n",
       "Name: frequency segment, dtype: float64"
      ]
     },
     "execution_count": 75,
     "metadata": {},
     "output_type": "execute_result"
    }
   ],
   "source": [
    "df_rfm[\"frequency segment\"].value_counts(normalize=True)"
   ]
  },
  {
   "cell_type": "code",
   "execution_count": 78,
   "metadata": {
    "collapsed": false
   },
   "outputs": [
    {
     "data": {
      "text/plain": [
       "frequency segment\n",
       "not frequent    1.411713\n",
       "medium          4.401368\n",
       "frequent        6.820232\n",
       "Name: active_days, dtype: float64"
      ]
     },
     "execution_count": 78,
     "metadata": {},
     "output_type": "execute_result"
    }
   ],
   "source": [
    "df_rfm.groupby(\"frequency segment\")[\"active_days\"].mean()"
   ]
  },
  {
   "cell_type": "code",
   "execution_count": null,
   "metadata": {
    "collapsed": true
   },
   "outputs": [],
   "source": [
    "## MONETORY"
   ]
  },
  {
   "cell_type": "code",
   "execution_count": 80,
   "metadata": {
    "collapsed": true
   },
   "outputs": [],
   "source": [
    "df_rfm[\"monetory segment\"] = pd.cut(df_rfm[\"nof_events\"], bins=3, labels=[\"low consumer\", \"medium comsumer\", \"high consumer\"])"
   ]
  },
  {
   "cell_type": "code",
   "execution_count": 81,
   "metadata": {
    "collapsed": false
   },
   "outputs": [
    {
     "data": {
      "text/plain": [
       "low consumer       9.999863e-01\n",
       "medium comsumer    1.283185e-05\n",
       "high consumer      9.165605e-07\n",
       "Name: monetory segment, dtype: float64"
      ]
     },
     "execution_count": 81,
     "metadata": {},
     "output_type": "execute_result"
    }
   ],
   "source": [
    "df_rfm[\"monetory segment\"].value_counts(normalize=True)"
   ]
  },
  {
   "cell_type": "code",
   "execution_count": 82,
   "metadata": {
    "collapsed": false
   },
   "outputs": [
    {
     "data": {
      "text/plain": [
       "monetory segment\n",
       "low consumer          57.154608\n",
       "medium comsumer     5969.607143\n",
       "high consumer      12795.500000\n",
       "Name: nof_events, dtype: float64"
      ]
     },
     "execution_count": 82,
     "metadata": {},
     "output_type": "execute_result"
    }
   ],
   "source": [
    "df_rfm.groupby(\"monetory segment\")[\"nof_events\"].mean()"
   ]
  },
  {
   "cell_type": "code",
   "execution_count": 83,
   "metadata": {
    "collapsed": false
   },
   "outputs": [
    {
     "data": {
      "text/html": [
       "<div>\n",
       "<style scoped>\n",
       "    .dataframe tbody tr th:only-of-type {\n",
       "        vertical-align: middle;\n",
       "    }\n",
       "\n",
       "    .dataframe tbody tr th {\n",
       "        vertical-align: top;\n",
       "    }\n",
       "\n",
       "    .dataframe thead th {\n",
       "        text-align: right;\n",
       "    }\n",
       "</style>\n",
       "<table border=\"1\" class=\"dataframe\">\n",
       "  <thead>\n",
       "    <tr style=\"text-align: right;\">\n",
       "      <th></th>\n",
       "      <th>environmentid</th>\n",
       "      <th>active_days</th>\n",
       "      <th>day_first_visit</th>\n",
       "      <th>day_last_visit</th>\n",
       "      <th>nof_events</th>\n",
       "      <th>today</th>\n",
       "      <th>days since last visit</th>\n",
       "      <th>recency segment</th>\n",
       "      <th>frequency segment</th>\n",
       "      <th>monetory segment</th>\n",
       "    </tr>\n",
       "  </thead>\n",
       "  <tbody>\n",
       "    <tr>\n",
       "      <th>0</th>\n",
       "      <td>sdrn:schibsted:environment:19ffd1f9-b4c0-4023-...</td>\n",
       "      <td>5</td>\n",
       "      <td>2018-10-29 22:02:22</td>\n",
       "      <td>2018-11-04 07:58:29</td>\n",
       "      <td>145</td>\n",
       "      <td>2018-11-05 14:34:54.223119</td>\n",
       "      <td>1</td>\n",
       "      <td>recent</td>\n",
       "      <td>medium</td>\n",
       "      <td>low consumer</td>\n",
       "    </tr>\n",
       "    <tr>\n",
       "      <th>1</th>\n",
       "      <td>sdrn:schibsted:environment:230e7c19-8b20-406f-...</td>\n",
       "      <td>1</td>\n",
       "      <td>2018-11-04 07:17:23</td>\n",
       "      <td>2018-11-04 07:29:08</td>\n",
       "      <td>17</td>\n",
       "      <td>2018-11-05 14:34:54.223119</td>\n",
       "      <td>1</td>\n",
       "      <td>recent</td>\n",
       "      <td>not frequent</td>\n",
       "      <td>low consumer</td>\n",
       "    </tr>\n",
       "    <tr>\n",
       "      <th>2</th>\n",
       "      <td>sdrn:schibsted:environment:fb2dd6aa-c497-4a59-...</td>\n",
       "      <td>8</td>\n",
       "      <td>2018-10-29 13:20:05</td>\n",
       "      <td>2018-11-05 07:18:21</td>\n",
       "      <td>846</td>\n",
       "      <td>2018-11-05 14:34:54.223119</td>\n",
       "      <td>0</td>\n",
       "      <td>recent</td>\n",
       "      <td>frequent</td>\n",
       "      <td>low consumer</td>\n",
       "    </tr>\n",
       "  </tbody>\n",
       "</table>\n",
       "</div>"
      ],
      "text/plain": [
       "                                       environmentid  active_days  \\\n",
       "0  sdrn:schibsted:environment:19ffd1f9-b4c0-4023-...            5   \n",
       "1  sdrn:schibsted:environment:230e7c19-8b20-406f-...            1   \n",
       "2  sdrn:schibsted:environment:fb2dd6aa-c497-4a59-...            8   \n",
       "\n",
       "      day_first_visit      day_last_visit  nof_events  \\\n",
       "0 2018-10-29 22:02:22 2018-11-04 07:58:29         145   \n",
       "1 2018-11-04 07:17:23 2018-11-04 07:29:08          17   \n",
       "2 2018-10-29 13:20:05 2018-11-05 07:18:21         846   \n",
       "\n",
       "                       today  days since last visit recency segment  \\\n",
       "0 2018-11-05 14:34:54.223119                      1          recent   \n",
       "1 2018-11-05 14:34:54.223119                      1          recent   \n",
       "2 2018-11-05 14:34:54.223119                      0          recent   \n",
       "\n",
       "  frequency segment monetory segment  \n",
       "0            medium     low consumer  \n",
       "1      not frequent     low consumer  \n",
       "2          frequent     low consumer  "
      ]
     },
     "execution_count": 83,
     "metadata": {},
     "output_type": "execute_result"
    }
   ],
   "source": [
    "df_rfm.head(3)"
   ]
  },
  {
   "cell_type": "code",
   "execution_count": 84,
   "metadata": {
    "collapsed": false
   },
   "outputs": [
    {
     "data": {
      "text/plain": [
       "Index(['environmentid', 'active_days', 'day_first_visit', 'day_last_visit',\n",
       "       'nof_events', 'today', 'days since last visit', 'recency segment',\n",
       "       'frequency segment', 'monetory segment'],\n",
       "      dtype='object')"
      ]
     },
     "execution_count": 84,
     "metadata": {},
     "output_type": "execute_result"
    }
   ],
   "source": [
    "df_rfm.columns"
   ]
  },
  {
   "cell_type": "code",
   "execution_count": 93,
   "metadata": {
    "collapsed": true
   },
   "outputs": [],
   "source": [
    "import seaborn as sns\n",
    "def pattern_volume(rfmTable,column1,column2):\n",
    "    tabla = rfmTable.groupby([column1,column2])['environmentid'].count()\n",
    "    averamap = tabla.reset_index().pivot_table(index = column1 , \n",
    "                                               columns=column2,\n",
    "                                               values='environmentid')\n",
    "    averamap = round(averamap / rfmTable['environmentid'].nunique()*100)\n",
    "    ax = sns.heatmap(averamap, annot=True, linewidths=.5)"
   ]
  },
  {
   "cell_type": "code",
   "execution_count": 94,
   "metadata": {
    "collapsed": false
   },
   "outputs": [
    {
     "data": {
      "image/png": "[encoded data removed]",
      "text/plain": [
       "<matplotlib.figure.Figure at 0x16f352940>"
      ]
     },
     "metadata": {},
     "output_type": "display_data"
    }
   ],
   "source": [
    "pattern_volume(df_rfm,'recency segment','frequency segment')"
   ]
  },
  {
   "cell_type": "code",
   "execution_count": 95,
   "metadata": {
    "collapsed": false
   },
   "outputs": [
    {
     "data": {
      "image/png": "[encoded data removed]",
      "text/plain": [
       "<matplotlib.figure.Figure at 0x178497390>"
      ]
     },
     "metadata": {},
     "output_type": "display_data"
    }
   ],
   "source": [
    "pattern_volume(df_rfm,'recency segment','monetory segment')"
   ]
  },
  {
   "cell_type": "code",
   "execution_count": 96,
   "metadata": {
    "collapsed": false
   },
   "outputs": [
    {
     "data": {
      "image/png": "[encoded data removed]",
      "text/plain": [
       "<matplotlib.figure.Figure at 0x1670c1d68>"
      ]
     },
     "metadata": {},
     "output_type": "display_data"
    }
   ],
   "source": [
    "pattern_volume(df_rfm,'monetory segment','frequency segment')"
   ]
  },
  {
   "cell_type": "markdown",
   "metadata": {},
   "source": [
    "## **Exercise 3** (difficulty high):\n",
    "\n",
    "Add in your previous analysis the category dimension and try to extract some new insights related to the behaviour of our users."
   ]
  }
 ],
 "metadata": {
  "kernelspec": {
   "display_name": "Python 3",
   "language": "python",
   "name": "python3"
  },
  "language_info": {
   "codemirror_mode": {
    "name": "ipython",
    "version": 3
   },
   "file_extension": ".py",
   "mimetype": "text/x-python",
   "name": "python",
   "nbconvert_exporter": "python",
   "pygments_lexer": "ipython3",
   "version": "3.5.2"
  }
 },
 "nbformat": 4,
 "nbformat_minor": 2
}
